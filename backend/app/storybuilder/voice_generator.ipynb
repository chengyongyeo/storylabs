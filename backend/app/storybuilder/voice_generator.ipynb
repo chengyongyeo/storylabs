{
 "cells": [
  {
   "cell_type": "code",
   "execution_count": 1,
   "metadata": {},
   "outputs": [
    {
     "name": "stdout",
     "output_type": "stream",
     "text": [
      "Using version \u001b[39;1m^1.50.2\u001b[39;22m for \u001b[36melevenlabs\u001b[39m\n",
      "\n",
      "\u001b[34mUpdating dependencies\u001b[39m\n",
      "\u001b[2K\u001b[34mResolving dependencies...\u001b[39m \u001b[39;2m(1.3s)\u001b[39;22m\n",
      "\n",
      "\u001b[39;1mPackage operations\u001b[39;22m: \u001b[34m1\u001b[39m install, \u001b[34m0\u001b[39m updates, \u001b[34m0\u001b[39m removals\n",
      "\n",
      "  \u001b[34;1m-\u001b[39;22m \u001b[39mInstalling \u001b[39m\u001b[36melevenlabs\u001b[39m\u001b[39m (\u001b[39m\u001b[39;1m1.50.2\u001b[39;22m\u001b[39m)\u001b[39m: \u001b[34mPending...\u001b[39m\n",
      "\u001b[1A\u001b[0J  \u001b[34;1m-\u001b[39;22m \u001b[39mInstalling \u001b[39m\u001b[36melevenlabs\u001b[39m\u001b[39m (\u001b[39m\u001b[39;1m1.50.2\u001b[39;22m\u001b[39m)\u001b[39m: \u001b[34mDownloading...\u001b[39m \u001b[39;1m0%\u001b[39;22m\n",
      "\u001b[1A\u001b[0J  \u001b[34;1m-\u001b[39;22m \u001b[39mInstalling \u001b[39m\u001b[36melevenlabs\u001b[39m\u001b[39m (\u001b[39m\u001b[39;1m1.50.2\u001b[39;22m\u001b[39m)\u001b[39m: \u001b[34mDownloading...\u001b[39m \u001b[39;1m100%\u001b[39;22m\n",
      "\u001b[1A\u001b[0J  \u001b[34;1m-\u001b[39;22m \u001b[39mInstalling \u001b[39m\u001b[36melevenlabs\u001b[39m\u001b[39m (\u001b[39m\u001b[39;1m1.50.2\u001b[39;22m\u001b[39m)\u001b[39m: \u001b[34mInstalling...\u001b[39m\n",
      "\u001b[1A\u001b[0J  \u001b[32;1m-\u001b[39;22m \u001b[39mInstalling \u001b[39m\u001b[36melevenlabs\u001b[39m\u001b[39m (\u001b[39m\u001b[32m1.50.2\u001b[39m\u001b[39m)\u001b[39m\n",
      "\n",
      "\u001b[34mWriting lock file\u001b[39m\n"
     ]
    }
   ],
   "source": [
    "!poetry add elevenlabs"
   ]
  },
  {
   "cell_type": "code",
   "execution_count": 2,
   "metadata": {},
   "outputs": [],
   "source": [
    "from elevenlabs import ElevenLabs\n",
    "import os\n",
    "from dotenv import load_dotenv\n",
    "\n",
    "\n",
    "load_dotenv()\n",
    "\n",
    "client = ElevenLabs(\n",
    "    api_key=os.environ[\"ELEVENLABS_API_KEY\"],\n",
    ")"
   ]
  },
  {
   "cell_type": "code",
   "execution_count": 4,
   "metadata": {},
   "outputs": [],
   "source": [
    "\n",
    "# Convert text to speech and save the output\n",
    "def save_audio_from_generator(generator, file_path):\n",
    "    with open(file_path, 'wb') as audio_file:\n",
    "        for chunk in generator:\n",
    "            audio_file.write(chunk)\n",
    "\n",
    "# Define the output file path\n",
    "output_file_path =  os.path.join('app', 'storybuilder', \"output_audio.mp3\")\n",
    "\n",
    "# Generate the audio\n",
    "audio_generator = client.text_to_speech.convert(\n",
    "    voice_id=\"iUqOXhMfiOIbBejNtfLR\",\n",
    "    output_format=\"mp3_44100_128\",\n",
    "    text=\"In a galaxy far, far away, stars twinkled brightly, and spaceships zoomed through the sky.\",\n",
    "    model_id=\"eleven_multilingual_v2\",\n",
    ")\n",
    "\n",
    "# Save the audio to a file\n",
    "save_audio_from_generator(audio_generator, output_file_path)"
   ]
  },
  {
   "cell_type": "code",
   "execution_count": null,
   "metadata": {},
   "outputs": [],
   "source": [
    "from elevenlabs import ElevenLabs\n",
    "\n",
    "client = ElevenLabs(\n",
    "    api_key=\"YOUR_API_KEY\",\n",
    ")\n",
    "client.text_to_speech.convert_as_stream(\n",
    "    voice_id=\"iUqOXhMfiOIbBejNtfLR\",\n",
    "    output_format=\"mp3_44100_128\",\n",
    "    text=\"The first move is what sets everything in motion.\",\n",
    "    model_id=\"eleven_multilingual_v2\",\n",
    ")"
   ]
  }
 ],
 "metadata": {
  "kernelspec": {
   "display_name": "Python 3 (ipykernel)",
   "language": "python",
   "name": "python3"
  },
  "language_info": {
   "codemirror_mode": {
    "name": "ipython",
    "version": 3
   },
   "file_extension": ".py",
   "mimetype": "text/x-python",
   "name": "python",
   "nbconvert_exporter": "python",
   "pygments_lexer": "ipython3",
   "version": "3.12.0"
  }
 },
 "nbformat": 4,
 "nbformat_minor": 2
}

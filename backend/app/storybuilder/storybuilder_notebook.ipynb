{
 "cells": [
  {
   "cell_type": "code",
   "execution_count": 6,
   "metadata": {},
   "outputs": [
    {
     "name": "stdout",
     "output_type": "stream",
     "text": [
      "/Users/chengyong/personal/storylabs/backend\n"
     ]
    }
   ],
   "source": [
    "!pwd"
   ]
  },
  {
   "cell_type": "code",
   "execution_count": 14,
   "metadata": {},
   "outputs": [
    {
     "name": "stdout",
     "output_type": "stream",
     "text": [
      "Using version \u001b[39;1m^1.0.1\u001b[39;22m for \u001b[36mpython-dotenv\u001b[39m\n",
      "\n",
      "\u001b[34mUpdating dependencies\u001b[39m\n",
      "\u001b[2K\u001b[34mResolving dependencies...\u001b[39m \u001b[39;2m(0.7s)\u001b[39;22m\n",
      "\n",
      "No dependencies to install or update\n",
      "\n",
      "\u001b[34mWriting lock file\u001b[39m\n"
     ]
    }
   ],
   "source": [
    "!poetry add python-dotenv"
   ]
  },
  {
   "cell_type": "code",
   "execution_count": 7,
   "metadata": {},
   "outputs": [
    {
     "name": "stdout",
     "output_type": "stream",
     "text": [
      "RAPUNZEL\n",
      "There were once a man and a woman who had long in vain wished for a child. At length the woman hoped that God was about to grant her desire. These people had a little window at the back of their house from which a splendid garden could be seen, which was full of the most beautiful flowers and herbs. It was, however, surrounded by a high wall, and no one dared to go into it because it belonged to an enchantress, who had great power and was dreaded by all the world. One day the woman was standing by this window and looking down into the garden, when she saw a bed which was planted with the most beautiful rampion (rapunzel), and it looked so fresh and green that she longed for it, she quite pined away, and began to look pale and miserable. Then her husband was alarmed, and asked: ‘What ails you, dear wife?’ ‘Ah,’ she replied, ‘if I can’t eat some of the rampion, which is in the garden behind our house, I shall die.’ The man, who loved her, thought: ‘Sooner than let your wife die, bring her some of the rampion yourself, let it cost what it will.’ At twilight, he clambered down over the wall into the garden of the enchantress, hastily clutched a handful of rampion, and took it to his wife. She at once made herself a salad of it, and ate it greedily. It tasted so good to her—so very good, that the next day she longed for it three times as much as before. If he was to have any rest, her husband must once more descend into the garden. In the gloom of evening therefore, he let himself down again; but when he had clambered down the wall he was terribly afraid, for he saw the enchantress standing before him. ‘How can you dare,’ said she with angry look, ‘descend into my garden and steal my rampion like a thief? You shall suffer for it!’ ‘Ah,’ answered he, ‘let mercy take the place of justice, I only made up my mind to do it out of necessity. My wife saw your rampion from the window, and felt such a longing for it that she would have died if she had not got some to eat.’ Then the enchantress allowed her anger to be softened, and said to him: ‘If the case be as you say, I will allow you to take away with you as much rampion as you will, only I make one condition, you must give me the child which your wife will bring into the world; it shall be well treated, and I will care for it like a mother.’ The man in his terror consented to everything, and when the woman was brought to bed, the enchantress appeared at once, gave the child the name of Rapunzel, and took it away with her.\n",
      "\n",
      "Rapunzel grew into the most beautiful child under the sun. When she was twelve years old, the enchantress shut her into a tower, which lay in a forest, and had neither stairs nor door, but quite at the top was a little window. When the enchantress wanted to go in, she placed herself beneath it and cried:\n",
      "\n",
      " ‘Rapunzel, Rapunzel,\n",
      "  Let down your hair to me.’\n",
      "Rapunzel had magnificent long hair, fine as spun gold, and when she heard the voice of the enchantress she unfastened her braided tresses, wound them round one of the hooks of the window above, and then the hair fell twenty ells down, and the enchantress climbed up by it.\n",
      "\n",
      "After a year or two, it came to pass that the king’s son rode through the forest and passed by the tower. Then he heard a song, which was so charming that he stood still and listened. This was Rapunzel, who in her solitude passed her time in letting her sweet voice resound. The king’s son wanted to climb up to her, and looked for the door of the tower, but none was to be found. He rode home, but the singing had so deeply touched his heart, that every day he went out into the forest and listened to it. Once when he was thus standing behind a tree, he saw that an enchantress came there, and he heard how she cried:\n",
      "\n",
      " ‘Rapunzel, Rapunzel,\n",
      "  Let down your hair to me.’\n",
      "Then Rapunzel let down the braids of her hair, and the enchantress climbed up to her. ‘If that is the ladder by which one mounts, I too will try my fortune,’ said he, and the next day when it began to grow dark, he went to the tower and cried:\n",
      "\n",
      " ‘Rapunzel, Rapunzel,\n",
      "  Let down your hair to me.’\n",
      "Immediately the hair fell down and the king’s son climbed up.\n",
      "\n",
      "At first Rapunzel was terribly frightened when a man, such as her eyes had never yet beheld, came to her; but the king’s son began to talk to her quite like a friend, and told her that his heart had been so stirred that it had let him have no rest, and he had been forced to see her. Then Rapunzel lost her fear, and when he asked her if she would take him for her husband, and she saw that he was young and handsome, she thought: ‘He will love me more than old Dame Gothel does’; and she said yes, and laid her hand in his. She said: ‘I will willingly go away with you, but I do not know how to get down. Bring with you a skein of silk every time that you come, and I will weave a ladder with it, and when that is ready I will descend, and you will take me on your horse.’ They agreed that until that time he should come to her every evening, for the old woman came by day. The enchantress remarked nothing of this, until once Rapunzel said to her: ‘Tell me, Dame Gothel, how it happens that you are so much heavier for me to draw up than the young king’s son—he is with me in a moment.’ ‘Ah! you wicked child,’ cried the enchantress. ‘What do I hear you say! I thought I had separated you from all the world, and yet you have deceived me!’ In her anger she clutched Rapunzel’s beautiful tresses, wrapped them twice round her left hand, seized a pair of scissors with the right, and snip, snap, they were cut off, and the lovely braids lay on the ground. And she was so pitiless that she took poor Rapunzel into a desert where she had to live in great grief and misery.\n",
      "\n",
      "On the same day that she cast out Rapunzel, however, the enchantress fastened the braids of hair, which she had cut off, to the hook of the window, and when the king’s son came and cried:\n",
      "\n",
      " ‘Rapunzel, Rapunzel,\n",
      "  Let down your hair to me.’\n",
      "she let the hair down. The king’s son ascended, but instead of finding his dearest Rapunzel, he found the enchantress, who gazed at him with wicked and venomous looks. ‘Aha!’ she cried mockingly, ‘you would fetch your dearest, but the beautiful bird sits no longer singing in the nest; the cat has got it, and will scratch out your eyes as well. Rapunzel is lost to you; you will never see her again.’ The king’s son was beside himself with pain, and in his despair he leapt down from the tower. He escaped with his life, but the thorns into which he fell pierced his eyes. Then he wandered quite blind about the forest, ate nothing but roots and berries, and did naught but lament and weep over the loss of his dearest wife. Thus he roamed about in misery for some years, and at length came to the desert where Rapunzel, with the twins to which she had given birth, a boy and a girl, lived in wretchedness. He heard a voice, and it seemed so familiar to him that he went towards it, and when he approached, Rapunzel knew him and fell on his neck and wept. Two of her tears wetted his eyes and they grew clear again, and he could see with them as before. He led her to his kingdom where he was joyfully received, and they lived for a long time afterwards, happy and contented.\n"
     ]
    }
   ],
   "source": [
    "#load the original story\n",
    "with open('app/storybuilder/prompts/original_story.txt', 'r') as file:\n",
    "    original_story = file.read()\n",
    "\n",
    "print(original_story)"
   ]
  },
  {
   "cell_type": "code",
   "execution_count": 22,
   "metadata": {},
   "outputs": [
    {
     "name": "stdout",
     "output_type": "stream",
     "text": [
      "You are an expert in writing leveled readers for children.\n",
      "\n",
      "This is the guide for the reading levels:\n",
      "\n",
      "{reading_level_guide}\n",
      "\n",
      "You are given a story. Please rewrite the story as a leveled reader for children at reading level {reading_level}.\n"
     ]
    }
   ],
   "source": [
    "#load the writer prompt\n",
    "with open('app/storybuilder/prompts/writer.txt', 'r') as file:\n",
    "    writer_prompt = file.read()\n",
    "\n",
    "print(writer_prompt)"
   ]
  },
  {
   "cell_type": "code",
   "execution_count": 30,
   "metadata": {},
   "outputs": [
    {
     "name": "stdout",
     "output_type": "stream",
     "text": [
      "## Reading Level Guide\n",
      "\n",
      "### Level 1\n",
      "- **Description**: Level 1 books are for children who are just beginning to learn about books and reading. At this stage, your child is likely to be learning the alphabet at nursery, and may be able to recognise some simple, common words. Some books are wordless, with pictures telling the story. Wordless books provide lots to talk about, and help your child learn how to hold a book and turn the pages.\n",
      "- **Approximate age**: 3–4 years old\n",
      "\n",
      "### Level 1+\n",
      "- **Description**: Level 1+ books are for children who are just beginning to use simple phonics to read words like ‘sat’ and ’pin’. The books use words that are familiar and predictable, and the pictures help convey the meaning of the story.\n",
      "- **Approximate age**: 4–5 years old\n",
      "- **Example**: Taken from *A Dragon Balloon*:\n",
      "  - \"Can Ben grab it? It is fun!\"\n",
      "  - \"Get it in the net!\"\n",
      "\n",
      "### Level 2\n",
      "- **Description**: By this stage, your child will be able to use their knowledge of letters and sounds to work out new words, though they may still need help. Pictures are used to help convey story meaning, and sentences are still mostly short and straightforward. Stories become very slightly more complex as your child becomes more comfortable reading more words.\n",
      "- **Approximate age**: 4–5 years old\n",
      "- **Example**: Taken from *Jack*:\n",
      "  - \"It ran at Dad. Quick! Pick him up!\"\n",
      "  - \"Dad shut it in a pen.\"\n",
      "- Number of words: 50\n",
      "\n",
      "### Level 3\n",
      "- **Description**: At this level, your child will be using phonics to help them read slightly more complicated words, including words with common digraphs like ‘ee’, ‘oa’, ‘ch’, and ‘th’. They will use phonics knowledge to work out less familiar words.\n",
      "- **Approximate age**: 4–5 years old\n",
      "- **Example**: Taken from *The Right Home*:\n",
      "  - \"I need a home that is right for me.\"\n",
      "  - \"My home needs to be fun. Let me see.\"\n",
      "\n",
      "### Level 4\n",
      "- **Description**: By Level 4, your child will be using their phonics knowledge to work out words quickly, and will know a range of common tricky words (like ‘said’, ‘some’, and ‘what’) by sight. They are likely to be more confident in giving their opinion about stories and non-fiction texts.\n",
      "- **Approximate age**: 4–6 years old\n",
      "- **Example**: Taken from *The Stinky Plant*:\n",
      "  - \"A man was sitting on a tree trunk. He did not look happy.\"\n",
      "  - \"“What is the matter?” said Wilma.\"\n",
      "\n",
      "### Level 5\n",
      "- **Description**: By Level 5, your child will start learning alternative spellings for the sounds in words – for example, they will learn that the letters ‘ou’ can be pronounced like ‘ow’ or ‘oo’. Level 5 books may contain words with apostrophes, such as ‘didn’t’ and ‘wasn’t’. They will also introduce children to unusual words that extend their vocabulary, like ‘terrible’ instead of ‘bad’.\n",
      "- **Approximate age**: 5–6 years old\n",
      "- **Example**: Taken from *The Parachute*:\n",
      "  - \"Nok told Ant and Tiger what to do. They tied the string to the plastic bag.\"\n",
      "  - \"“Can I go first?” asked Tiger. Nok put the parachute on Tiger’s back. Ant took a photo. “Smile!” he said.\"\n",
      "\n",
      "### Level 6\n",
      "- **Description**: Stories in Level 6 are longer and more complex than in previous levels. By Level 6, your child will often notice when their reading does not make sense, and they will go back to correct themselves without being asked to. They will be able to work out many words automatically without sounding them out. They will be working on more alternative spellings for different sounds – for example, they may know that the ‘igh’ sound can also be spelled ‘ie’, ‘y, or ‘i’.\n",
      "- **Approximate age**: 5–6 years old\n",
      "- **Example**: Taken from *Who Eats Who*:\n",
      "  - \"All living things are part of food chains. Yes, all living things – big and small, plants and animals!\"\n",
      "  - \"A food chain is made when one living thing eats another living thing ... and that living thing eats another ... and that living thing eats another.\"\n",
      "\n",
      "### Level 7\n",
      "- **Description**: At Level 7, most children can read out loud quite fluently and can usually find the answer to a question within a section of text. Your child will get used to words with unusual phonics patterns, such as ‘beautiful’, ‘eye’, and ‘any’. Words with several syllables will often be included.\n",
      "- **Approximate age**: 5–6 years old\n",
      "- **Example**: Taken from *Planet Exis*:\n",
      "  - \"Max looked out through the micro-ship’s viewscreen. Ahead was a beautiful green planet with two glowing rings criss-crossing round it.\"\n",
      "  - \"“There it is at last, Nok,” Max said. “Planet Exis,” said Seven, who was hovering nearby. Nok’s eyes were shining. “Home,” he said.\"\n",
      "\n",
      "### Level 8\n",
      "- **Description**: At Level 8, children are generally more confident in their reading and know most common, non-decodable tricky words. Level 8 stories are often split into chapters. Your child is likely to enjoy choosing which books to read, often reading some of the text in order to help them decide.\n",
      "- **Approximate age**: 6–7 years old\n",
      "- **Example**: Taken from *Mini Marvels*:\n",
      "  - \"This amazing pygmy (say pig-mee) seahorse is found on coral reefs in warm, tropical seas. It looks like the coral, which helps it hide from predators.\"\n",
      "  - \"Many pairs of pygmy seahorses live on one piece of coral. The female seahorse lays eggs. Then the male carries the eggs in a pouch to look after them.\"\n",
      "\n",
      "### Level 9\n",
      "- **Description**: Once your child is at Level 9, they will be able to read most words automatically, either silently or out loud. With non-fiction texts, they will be able to use features like indexes, headings, and photo captions to find information.\n",
      "- **Approximate age**: 6–8 years old\n",
      "- **Example**: Taken from *False Alarms*:\n",
      "  - \"“Keep it,” said the Head. “No real harm was done. I’ve arranged for the door of the bank to be fixed.” He smiled. “When the bank manager saw your costumes, he thought you’d come from a rival circus!”\"\n",
      "  - \"Boost and Flex raced to the skyscraper. High above, someone was standing on a platform, holding a bucket. “The thief!” cried Boost. “That bucket must be full of his stolen loot. Flex, get up there!”\"\n",
      "\n",
      "### Level 10\n",
      "- **Description**: By Level 10, your child will be building up their stamina to read longer texts. They will use parts of unfamiliar words to help them work out the meaning (for example, spotting that ‘clarify’ is a bit like ‘clear’ so ‘clarify’ means ‘to make clear’).\n",
      "- **Approximate age**: 6–8 years old\n",
      "- **Example**: Taken from *A Life in the Sky*:\n",
      "  - \"Plunge Dive and Surface Dip\"\n",
      "  - \"“I dive through air to dip in the waves. I’m quick and sharp and bold – I grab my fish!”\"\n",
      "  - \"When they need food, Arctic terns fly across the water, then zoom down to grab fish or shrimp from the surface of the water. They sometimes eat insects as they fly.\"\n"
     ]
    }
   ],
   "source": [
    "\n",
    "with open('app/storybuilder/prompts/reading_level_guide.txt', 'r') as file:\n",
    "    reading_level_guide = file.read()\n",
    "\n",
    "print(reading_level_guide)"
   ]
  },
  {
   "cell_type": "code",
   "execution_count": 32,
   "metadata": {},
   "outputs": [
    {
     "ename": "NotFoundError",
     "evalue": "Error code: 404 - {'error': {'message': 'The model `gpt-4o-2024-11-20` does not exist or you do not have access to it.', 'type': 'invalid_request_error', 'param': None, 'code': 'model_not_found'}}",
     "output_type": "error",
     "traceback": [
      "\u001b[0;31m---------------------------------------------------------------------------\u001b[0m",
      "\u001b[0;31mNotFoundError\u001b[0m                             Traceback (most recent call last)",
      "Cell \u001b[0;32mIn[32], line 10\u001b[0m\n\u001b[1;32m      4\u001b[0m load_dotenv()\n\u001b[1;32m      6\u001b[0m client \u001b[38;5;241m=\u001b[39m OpenAI(api_key\u001b[38;5;241m=\u001b[39mos\u001b[38;5;241m.\u001b[39menviron[\u001b[38;5;124m\"\u001b[39m\u001b[38;5;124mOPENAI_API_KEY\u001b[39m\u001b[38;5;124m\"\u001b[39m])\n\u001b[0;32m---> 10\u001b[0m stream \u001b[38;5;241m=\u001b[39m \u001b[43mclient\u001b[49m\u001b[38;5;241;43m.\u001b[39;49m\u001b[43mchat\u001b[49m\u001b[38;5;241;43m.\u001b[39;49m\u001b[43mcompletions\u001b[49m\u001b[38;5;241;43m.\u001b[39;49m\u001b[43mcreate\u001b[49m\u001b[43m(\u001b[49m\n\u001b[1;32m     11\u001b[0m \u001b[43m    \u001b[49m\u001b[38;5;66;43;03m#model=\"gpt-4o-mini\",\u001b[39;49;00m\n\u001b[1;32m     12\u001b[0m \u001b[43m    \u001b[49m\u001b[43mmodel\u001b[49m\u001b[38;5;241;43m=\u001b[39;49m\u001b[38;5;124;43m\"\u001b[39;49m\u001b[38;5;124;43mgpt-4o-2024-11-20\u001b[39;49m\u001b[38;5;124;43m\"\u001b[39;49m\u001b[43m,\u001b[49m\n\u001b[1;32m     13\u001b[0m \u001b[43m    \u001b[49m\u001b[43mmessages\u001b[49m\u001b[38;5;241;43m=\u001b[39;49m\u001b[43m[\u001b[49m\u001b[43m{\u001b[49m\u001b[38;5;124;43m\"\u001b[39;49m\u001b[38;5;124;43mrole\u001b[39;49m\u001b[38;5;124;43m\"\u001b[39;49m\u001b[43m:\u001b[49m\u001b[43m \u001b[49m\u001b[38;5;124;43m\"\u001b[39;49m\u001b[38;5;124;43msystem\u001b[39;49m\u001b[38;5;124;43m\"\u001b[39;49m\u001b[43m,\u001b[49m\u001b[43m \u001b[49m\u001b[38;5;124;43m\"\u001b[39;49m\u001b[38;5;124;43mcontent\u001b[39;49m\u001b[38;5;124;43m\"\u001b[39;49m\u001b[43m:\u001b[49m\u001b[43m \u001b[49m\u001b[38;5;124;43mf\u001b[39;49m\u001b[38;5;124;43m\"\"\"\u001b[39;49m\u001b[38;5;132;43;01m{\u001b[39;49;00m\u001b[43mwriter_prompt\u001b[49m\u001b[38;5;132;43;01m}\u001b[39;49;00m\u001b[38;5;124;43m\"\"\"\u001b[39;49m\u001b[38;5;241;43m.\u001b[39;49m\u001b[43mformat\u001b[49m\u001b[43m(\u001b[49m\u001b[43mreading_level_guide\u001b[49m\u001b[38;5;241;43m=\u001b[39;49m\u001b[43mreading_level_guide\u001b[49m\u001b[43m,\u001b[49m\u001b[43m \u001b[49m\u001b[43mreading_level\u001b[49m\u001b[38;5;241;43m=\u001b[39;49m\u001b[38;5;124;43m\"\u001b[39;49m\u001b[38;5;124;43m2\u001b[39;49m\u001b[38;5;124;43m\"\u001b[39;49m\u001b[43m)\u001b[49m\u001b[43m}\u001b[49m\u001b[43m,\u001b[49m\n\u001b[1;32m     14\u001b[0m \u001b[43m              \u001b[49m\u001b[43m{\u001b[49m\u001b[38;5;124;43m\"\u001b[39;49m\u001b[38;5;124;43mrole\u001b[39;49m\u001b[38;5;124;43m\"\u001b[39;49m\u001b[43m:\u001b[49m\u001b[43m \u001b[49m\u001b[38;5;124;43m\"\u001b[39;49m\u001b[38;5;124;43muser\u001b[39;49m\u001b[38;5;124;43m\"\u001b[39;49m\u001b[43m,\u001b[49m\u001b[43m \u001b[49m\u001b[38;5;124;43m\"\u001b[39;49m\u001b[38;5;124;43mcontent\u001b[39;49m\u001b[38;5;124;43m\"\u001b[39;49m\u001b[43m:\u001b[49m\u001b[43m \u001b[49m\u001b[38;5;124;43mf\u001b[39;49m\u001b[38;5;124;43m\"\"\"\u001b[39;49m\u001b[38;5;124;43mThis is the original story: \u001b[39;49m\u001b[38;5;132;43;01m{\u001b[39;49;00m\u001b[43moriginal_story\u001b[49m\u001b[38;5;132;43;01m}\u001b[39;49;00m\u001b[38;5;124;43m\"\"\"\u001b[39;49m\u001b[43m}\u001b[49m\u001b[43m]\u001b[49m\u001b[43m,\u001b[49m\n\u001b[1;32m     15\u001b[0m \u001b[43m    \u001b[49m\u001b[43mstream\u001b[49m\u001b[38;5;241;43m=\u001b[39;49m\u001b[38;5;28;43;01mTrue\u001b[39;49;00m\u001b[43m,\u001b[49m\n\u001b[1;32m     16\u001b[0m \u001b[43m)\u001b[49m\n\u001b[1;32m     17\u001b[0m \u001b[38;5;28;01mfor\u001b[39;00m chunk \u001b[38;5;129;01min\u001b[39;00m stream:\n\u001b[1;32m     18\u001b[0m     \u001b[38;5;28;01mif\u001b[39;00m chunk\u001b[38;5;241m.\u001b[39mchoices[\u001b[38;5;241m0\u001b[39m]\u001b[38;5;241m.\u001b[39mdelta\u001b[38;5;241m.\u001b[39mcontent \u001b[38;5;129;01mis\u001b[39;00m \u001b[38;5;129;01mnot\u001b[39;00m \u001b[38;5;28;01mNone\u001b[39;00m:\n",
      "File \u001b[0;32m~/personal/storylabs/backend/.venv/lib/python3.12/site-packages/openai/_utils/_utils.py:275\u001b[0m, in \u001b[0;36mrequired_args.<locals>.inner.<locals>.wrapper\u001b[0;34m(*args, **kwargs)\u001b[0m\n\u001b[1;32m    273\u001b[0m             msg \u001b[38;5;241m=\u001b[39m \u001b[38;5;124mf\u001b[39m\u001b[38;5;124m\"\u001b[39m\u001b[38;5;124mMissing required argument: \u001b[39m\u001b[38;5;132;01m{\u001b[39;00mquote(missing[\u001b[38;5;241m0\u001b[39m])\u001b[38;5;132;01m}\u001b[39;00m\u001b[38;5;124m\"\u001b[39m\n\u001b[1;32m    274\u001b[0m     \u001b[38;5;28;01mraise\u001b[39;00m \u001b[38;5;167;01mTypeError\u001b[39;00m(msg)\n\u001b[0;32m--> 275\u001b[0m \u001b[38;5;28;01mreturn\u001b[39;00m \u001b[43mfunc\u001b[49m\u001b[43m(\u001b[49m\u001b[38;5;241;43m*\u001b[39;49m\u001b[43margs\u001b[49m\u001b[43m,\u001b[49m\u001b[43m \u001b[49m\u001b[38;5;241;43m*\u001b[39;49m\u001b[38;5;241;43m*\u001b[39;49m\u001b[43mkwargs\u001b[49m\u001b[43m)\u001b[49m\n",
      "File \u001b[0;32m~/personal/storylabs/backend/.venv/lib/python3.12/site-packages/openai/resources/chat/completions.py:829\u001b[0m, in \u001b[0;36mCompletions.create\u001b[0;34m(self, messages, model, audio, frequency_penalty, function_call, functions, logit_bias, logprobs, max_completion_tokens, max_tokens, metadata, modalities, n, parallel_tool_calls, prediction, presence_penalty, response_format, seed, service_tier, stop, store, stream, stream_options, temperature, tool_choice, tools, top_logprobs, top_p, user, extra_headers, extra_query, extra_body, timeout)\u001b[0m\n\u001b[1;32m    788\u001b[0m \u001b[38;5;129m@required_args\u001b[39m([\u001b[38;5;124m\"\u001b[39m\u001b[38;5;124mmessages\u001b[39m\u001b[38;5;124m\"\u001b[39m, \u001b[38;5;124m\"\u001b[39m\u001b[38;5;124mmodel\u001b[39m\u001b[38;5;124m\"\u001b[39m], [\u001b[38;5;124m\"\u001b[39m\u001b[38;5;124mmessages\u001b[39m\u001b[38;5;124m\"\u001b[39m, \u001b[38;5;124m\"\u001b[39m\u001b[38;5;124mmodel\u001b[39m\u001b[38;5;124m\"\u001b[39m, \u001b[38;5;124m\"\u001b[39m\u001b[38;5;124mstream\u001b[39m\u001b[38;5;124m\"\u001b[39m])\n\u001b[1;32m    789\u001b[0m \u001b[38;5;28;01mdef\u001b[39;00m \u001b[38;5;21mcreate\u001b[39m(\n\u001b[1;32m    790\u001b[0m     \u001b[38;5;28mself\u001b[39m,\n\u001b[0;32m   (...)\u001b[0m\n\u001b[1;32m    826\u001b[0m     timeout: \u001b[38;5;28mfloat\u001b[39m \u001b[38;5;241m|\u001b[39m httpx\u001b[38;5;241m.\u001b[39mTimeout \u001b[38;5;241m|\u001b[39m \u001b[38;5;28;01mNone\u001b[39;00m \u001b[38;5;241m|\u001b[39m NotGiven \u001b[38;5;241m=\u001b[39m NOT_GIVEN,\n\u001b[1;32m    827\u001b[0m ) \u001b[38;5;241m-\u001b[39m\u001b[38;5;241m>\u001b[39m ChatCompletion \u001b[38;5;241m|\u001b[39m Stream[ChatCompletionChunk]:\n\u001b[1;32m    828\u001b[0m     validate_response_format(response_format)\n\u001b[0;32m--> 829\u001b[0m     \u001b[38;5;28;01mreturn\u001b[39;00m \u001b[38;5;28;43mself\u001b[39;49m\u001b[38;5;241;43m.\u001b[39;49m\u001b[43m_post\u001b[49m\u001b[43m(\u001b[49m\n\u001b[1;32m    830\u001b[0m \u001b[43m        \u001b[49m\u001b[38;5;124;43m\"\u001b[39;49m\u001b[38;5;124;43m/chat/completions\u001b[39;49m\u001b[38;5;124;43m\"\u001b[39;49m\u001b[43m,\u001b[49m\n\u001b[1;32m    831\u001b[0m \u001b[43m        \u001b[49m\u001b[43mbody\u001b[49m\u001b[38;5;241;43m=\u001b[39;49m\u001b[43mmaybe_transform\u001b[49m\u001b[43m(\u001b[49m\n\u001b[1;32m    832\u001b[0m \u001b[43m            \u001b[49m\u001b[43m{\u001b[49m\n\u001b[1;32m    833\u001b[0m \u001b[43m                \u001b[49m\u001b[38;5;124;43m\"\u001b[39;49m\u001b[38;5;124;43mmessages\u001b[39;49m\u001b[38;5;124;43m\"\u001b[39;49m\u001b[43m:\u001b[49m\u001b[43m \u001b[49m\u001b[43mmessages\u001b[49m\u001b[43m,\u001b[49m\n\u001b[1;32m    834\u001b[0m \u001b[43m                \u001b[49m\u001b[38;5;124;43m\"\u001b[39;49m\u001b[38;5;124;43mmodel\u001b[39;49m\u001b[38;5;124;43m\"\u001b[39;49m\u001b[43m:\u001b[49m\u001b[43m \u001b[49m\u001b[43mmodel\u001b[49m\u001b[43m,\u001b[49m\n\u001b[1;32m    835\u001b[0m \u001b[43m                \u001b[49m\u001b[38;5;124;43m\"\u001b[39;49m\u001b[38;5;124;43maudio\u001b[39;49m\u001b[38;5;124;43m\"\u001b[39;49m\u001b[43m:\u001b[49m\u001b[43m \u001b[49m\u001b[43maudio\u001b[49m\u001b[43m,\u001b[49m\n\u001b[1;32m    836\u001b[0m \u001b[43m                \u001b[49m\u001b[38;5;124;43m\"\u001b[39;49m\u001b[38;5;124;43mfrequency_penalty\u001b[39;49m\u001b[38;5;124;43m\"\u001b[39;49m\u001b[43m:\u001b[49m\u001b[43m \u001b[49m\u001b[43mfrequency_penalty\u001b[49m\u001b[43m,\u001b[49m\n\u001b[1;32m    837\u001b[0m \u001b[43m                \u001b[49m\u001b[38;5;124;43m\"\u001b[39;49m\u001b[38;5;124;43mfunction_call\u001b[39;49m\u001b[38;5;124;43m\"\u001b[39;49m\u001b[43m:\u001b[49m\u001b[43m \u001b[49m\u001b[43mfunction_call\u001b[49m\u001b[43m,\u001b[49m\n\u001b[1;32m    838\u001b[0m \u001b[43m                \u001b[49m\u001b[38;5;124;43m\"\u001b[39;49m\u001b[38;5;124;43mfunctions\u001b[39;49m\u001b[38;5;124;43m\"\u001b[39;49m\u001b[43m:\u001b[49m\u001b[43m \u001b[49m\u001b[43mfunctions\u001b[49m\u001b[43m,\u001b[49m\n\u001b[1;32m    839\u001b[0m \u001b[43m                \u001b[49m\u001b[38;5;124;43m\"\u001b[39;49m\u001b[38;5;124;43mlogit_bias\u001b[39;49m\u001b[38;5;124;43m\"\u001b[39;49m\u001b[43m:\u001b[49m\u001b[43m \u001b[49m\u001b[43mlogit_bias\u001b[49m\u001b[43m,\u001b[49m\n\u001b[1;32m    840\u001b[0m \u001b[43m                \u001b[49m\u001b[38;5;124;43m\"\u001b[39;49m\u001b[38;5;124;43mlogprobs\u001b[39;49m\u001b[38;5;124;43m\"\u001b[39;49m\u001b[43m:\u001b[49m\u001b[43m \u001b[49m\u001b[43mlogprobs\u001b[49m\u001b[43m,\u001b[49m\n\u001b[1;32m    841\u001b[0m \u001b[43m                \u001b[49m\u001b[38;5;124;43m\"\u001b[39;49m\u001b[38;5;124;43mmax_completion_tokens\u001b[39;49m\u001b[38;5;124;43m\"\u001b[39;49m\u001b[43m:\u001b[49m\u001b[43m \u001b[49m\u001b[43mmax_completion_tokens\u001b[49m\u001b[43m,\u001b[49m\n\u001b[1;32m    842\u001b[0m \u001b[43m                \u001b[49m\u001b[38;5;124;43m\"\u001b[39;49m\u001b[38;5;124;43mmax_tokens\u001b[39;49m\u001b[38;5;124;43m\"\u001b[39;49m\u001b[43m:\u001b[49m\u001b[43m \u001b[49m\u001b[43mmax_tokens\u001b[49m\u001b[43m,\u001b[49m\n\u001b[1;32m    843\u001b[0m \u001b[43m                \u001b[49m\u001b[38;5;124;43m\"\u001b[39;49m\u001b[38;5;124;43mmetadata\u001b[39;49m\u001b[38;5;124;43m\"\u001b[39;49m\u001b[43m:\u001b[49m\u001b[43m \u001b[49m\u001b[43mmetadata\u001b[49m\u001b[43m,\u001b[49m\n\u001b[1;32m    844\u001b[0m \u001b[43m                \u001b[49m\u001b[38;5;124;43m\"\u001b[39;49m\u001b[38;5;124;43mmodalities\u001b[39;49m\u001b[38;5;124;43m\"\u001b[39;49m\u001b[43m:\u001b[49m\u001b[43m \u001b[49m\u001b[43mmodalities\u001b[49m\u001b[43m,\u001b[49m\n\u001b[1;32m    845\u001b[0m \u001b[43m                \u001b[49m\u001b[38;5;124;43m\"\u001b[39;49m\u001b[38;5;124;43mn\u001b[39;49m\u001b[38;5;124;43m\"\u001b[39;49m\u001b[43m:\u001b[49m\u001b[43m \u001b[49m\u001b[43mn\u001b[49m\u001b[43m,\u001b[49m\n\u001b[1;32m    846\u001b[0m \u001b[43m                \u001b[49m\u001b[38;5;124;43m\"\u001b[39;49m\u001b[38;5;124;43mparallel_tool_calls\u001b[39;49m\u001b[38;5;124;43m\"\u001b[39;49m\u001b[43m:\u001b[49m\u001b[43m \u001b[49m\u001b[43mparallel_tool_calls\u001b[49m\u001b[43m,\u001b[49m\n\u001b[1;32m    847\u001b[0m \u001b[43m                \u001b[49m\u001b[38;5;124;43m\"\u001b[39;49m\u001b[38;5;124;43mprediction\u001b[39;49m\u001b[38;5;124;43m\"\u001b[39;49m\u001b[43m:\u001b[49m\u001b[43m \u001b[49m\u001b[43mprediction\u001b[49m\u001b[43m,\u001b[49m\n\u001b[1;32m    848\u001b[0m \u001b[43m                \u001b[49m\u001b[38;5;124;43m\"\u001b[39;49m\u001b[38;5;124;43mpresence_penalty\u001b[39;49m\u001b[38;5;124;43m\"\u001b[39;49m\u001b[43m:\u001b[49m\u001b[43m \u001b[49m\u001b[43mpresence_penalty\u001b[49m\u001b[43m,\u001b[49m\n\u001b[1;32m    849\u001b[0m \u001b[43m                \u001b[49m\u001b[38;5;124;43m\"\u001b[39;49m\u001b[38;5;124;43mresponse_format\u001b[39;49m\u001b[38;5;124;43m\"\u001b[39;49m\u001b[43m:\u001b[49m\u001b[43m \u001b[49m\u001b[43mresponse_format\u001b[49m\u001b[43m,\u001b[49m\n\u001b[1;32m    850\u001b[0m \u001b[43m                \u001b[49m\u001b[38;5;124;43m\"\u001b[39;49m\u001b[38;5;124;43mseed\u001b[39;49m\u001b[38;5;124;43m\"\u001b[39;49m\u001b[43m:\u001b[49m\u001b[43m \u001b[49m\u001b[43mseed\u001b[49m\u001b[43m,\u001b[49m\n\u001b[1;32m    851\u001b[0m \u001b[43m                \u001b[49m\u001b[38;5;124;43m\"\u001b[39;49m\u001b[38;5;124;43mservice_tier\u001b[39;49m\u001b[38;5;124;43m\"\u001b[39;49m\u001b[43m:\u001b[49m\u001b[43m \u001b[49m\u001b[43mservice_tier\u001b[49m\u001b[43m,\u001b[49m\n\u001b[1;32m    852\u001b[0m \u001b[43m                \u001b[49m\u001b[38;5;124;43m\"\u001b[39;49m\u001b[38;5;124;43mstop\u001b[39;49m\u001b[38;5;124;43m\"\u001b[39;49m\u001b[43m:\u001b[49m\u001b[43m \u001b[49m\u001b[43mstop\u001b[49m\u001b[43m,\u001b[49m\n\u001b[1;32m    853\u001b[0m \u001b[43m                \u001b[49m\u001b[38;5;124;43m\"\u001b[39;49m\u001b[38;5;124;43mstore\u001b[39;49m\u001b[38;5;124;43m\"\u001b[39;49m\u001b[43m:\u001b[49m\u001b[43m \u001b[49m\u001b[43mstore\u001b[49m\u001b[43m,\u001b[49m\n\u001b[1;32m    854\u001b[0m \u001b[43m                \u001b[49m\u001b[38;5;124;43m\"\u001b[39;49m\u001b[38;5;124;43mstream\u001b[39;49m\u001b[38;5;124;43m\"\u001b[39;49m\u001b[43m:\u001b[49m\u001b[43m \u001b[49m\u001b[43mstream\u001b[49m\u001b[43m,\u001b[49m\n\u001b[1;32m    855\u001b[0m \u001b[43m                \u001b[49m\u001b[38;5;124;43m\"\u001b[39;49m\u001b[38;5;124;43mstream_options\u001b[39;49m\u001b[38;5;124;43m\"\u001b[39;49m\u001b[43m:\u001b[49m\u001b[43m \u001b[49m\u001b[43mstream_options\u001b[49m\u001b[43m,\u001b[49m\n\u001b[1;32m    856\u001b[0m \u001b[43m                \u001b[49m\u001b[38;5;124;43m\"\u001b[39;49m\u001b[38;5;124;43mtemperature\u001b[39;49m\u001b[38;5;124;43m\"\u001b[39;49m\u001b[43m:\u001b[49m\u001b[43m \u001b[49m\u001b[43mtemperature\u001b[49m\u001b[43m,\u001b[49m\n\u001b[1;32m    857\u001b[0m \u001b[43m                \u001b[49m\u001b[38;5;124;43m\"\u001b[39;49m\u001b[38;5;124;43mtool_choice\u001b[39;49m\u001b[38;5;124;43m\"\u001b[39;49m\u001b[43m:\u001b[49m\u001b[43m \u001b[49m\u001b[43mtool_choice\u001b[49m\u001b[43m,\u001b[49m\n\u001b[1;32m    858\u001b[0m \u001b[43m                \u001b[49m\u001b[38;5;124;43m\"\u001b[39;49m\u001b[38;5;124;43mtools\u001b[39;49m\u001b[38;5;124;43m\"\u001b[39;49m\u001b[43m:\u001b[49m\u001b[43m \u001b[49m\u001b[43mtools\u001b[49m\u001b[43m,\u001b[49m\n\u001b[1;32m    859\u001b[0m \u001b[43m                \u001b[49m\u001b[38;5;124;43m\"\u001b[39;49m\u001b[38;5;124;43mtop_logprobs\u001b[39;49m\u001b[38;5;124;43m\"\u001b[39;49m\u001b[43m:\u001b[49m\u001b[43m \u001b[49m\u001b[43mtop_logprobs\u001b[49m\u001b[43m,\u001b[49m\n\u001b[1;32m    860\u001b[0m \u001b[43m                \u001b[49m\u001b[38;5;124;43m\"\u001b[39;49m\u001b[38;5;124;43mtop_p\u001b[39;49m\u001b[38;5;124;43m\"\u001b[39;49m\u001b[43m:\u001b[49m\u001b[43m \u001b[49m\u001b[43mtop_p\u001b[49m\u001b[43m,\u001b[49m\n\u001b[1;32m    861\u001b[0m \u001b[43m                \u001b[49m\u001b[38;5;124;43m\"\u001b[39;49m\u001b[38;5;124;43muser\u001b[39;49m\u001b[38;5;124;43m\"\u001b[39;49m\u001b[43m:\u001b[49m\u001b[43m \u001b[49m\u001b[43muser\u001b[49m\u001b[43m,\u001b[49m\n\u001b[1;32m    862\u001b[0m \u001b[43m            \u001b[49m\u001b[43m}\u001b[49m\u001b[43m,\u001b[49m\n\u001b[1;32m    863\u001b[0m \u001b[43m            \u001b[49m\u001b[43mcompletion_create_params\u001b[49m\u001b[38;5;241;43m.\u001b[39;49m\u001b[43mCompletionCreateParams\u001b[49m\u001b[43m,\u001b[49m\n\u001b[1;32m    864\u001b[0m \u001b[43m        \u001b[49m\u001b[43m)\u001b[49m\u001b[43m,\u001b[49m\n\u001b[1;32m    865\u001b[0m \u001b[43m        \u001b[49m\u001b[43moptions\u001b[49m\u001b[38;5;241;43m=\u001b[39;49m\u001b[43mmake_request_options\u001b[49m\u001b[43m(\u001b[49m\n\u001b[1;32m    866\u001b[0m \u001b[43m            \u001b[49m\u001b[43mextra_headers\u001b[49m\u001b[38;5;241;43m=\u001b[39;49m\u001b[43mextra_headers\u001b[49m\u001b[43m,\u001b[49m\u001b[43m \u001b[49m\u001b[43mextra_query\u001b[49m\u001b[38;5;241;43m=\u001b[39;49m\u001b[43mextra_query\u001b[49m\u001b[43m,\u001b[49m\u001b[43m \u001b[49m\u001b[43mextra_body\u001b[49m\u001b[38;5;241;43m=\u001b[39;49m\u001b[43mextra_body\u001b[49m\u001b[43m,\u001b[49m\u001b[43m \u001b[49m\u001b[43mtimeout\u001b[49m\u001b[38;5;241;43m=\u001b[39;49m\u001b[43mtimeout\u001b[49m\n\u001b[1;32m    867\u001b[0m \u001b[43m        \u001b[49m\u001b[43m)\u001b[49m\u001b[43m,\u001b[49m\n\u001b[1;32m    868\u001b[0m \u001b[43m        \u001b[49m\u001b[43mcast_to\u001b[49m\u001b[38;5;241;43m=\u001b[39;49m\u001b[43mChatCompletion\u001b[49m\u001b[43m,\u001b[49m\n\u001b[1;32m    869\u001b[0m \u001b[43m        \u001b[49m\u001b[43mstream\u001b[49m\u001b[38;5;241;43m=\u001b[39;49m\u001b[43mstream\u001b[49m\u001b[43m \u001b[49m\u001b[38;5;129;43;01mor\u001b[39;49;00m\u001b[43m \u001b[49m\u001b[38;5;28;43;01mFalse\u001b[39;49;00m\u001b[43m,\u001b[49m\n\u001b[1;32m    870\u001b[0m \u001b[43m        \u001b[49m\u001b[43mstream_cls\u001b[49m\u001b[38;5;241;43m=\u001b[39;49m\u001b[43mStream\u001b[49m\u001b[43m[\u001b[49m\u001b[43mChatCompletionChunk\u001b[49m\u001b[43m]\u001b[49m\u001b[43m,\u001b[49m\n\u001b[1;32m    871\u001b[0m \u001b[43m    \u001b[49m\u001b[43m)\u001b[49m\n",
      "File \u001b[0;32m~/personal/storylabs/backend/.venv/lib/python3.12/site-packages/openai/_base_client.py:1280\u001b[0m, in \u001b[0;36mSyncAPIClient.post\u001b[0;34m(self, path, cast_to, body, options, files, stream, stream_cls)\u001b[0m\n\u001b[1;32m   1266\u001b[0m \u001b[38;5;28;01mdef\u001b[39;00m \u001b[38;5;21mpost\u001b[39m(\n\u001b[1;32m   1267\u001b[0m     \u001b[38;5;28mself\u001b[39m,\n\u001b[1;32m   1268\u001b[0m     path: \u001b[38;5;28mstr\u001b[39m,\n\u001b[0;32m   (...)\u001b[0m\n\u001b[1;32m   1275\u001b[0m     stream_cls: \u001b[38;5;28mtype\u001b[39m[_StreamT] \u001b[38;5;241m|\u001b[39m \u001b[38;5;28;01mNone\u001b[39;00m \u001b[38;5;241m=\u001b[39m \u001b[38;5;28;01mNone\u001b[39;00m,\n\u001b[1;32m   1276\u001b[0m ) \u001b[38;5;241m-\u001b[39m\u001b[38;5;241m>\u001b[39m ResponseT \u001b[38;5;241m|\u001b[39m _StreamT:\n\u001b[1;32m   1277\u001b[0m     opts \u001b[38;5;241m=\u001b[39m FinalRequestOptions\u001b[38;5;241m.\u001b[39mconstruct(\n\u001b[1;32m   1278\u001b[0m         method\u001b[38;5;241m=\u001b[39m\u001b[38;5;124m\"\u001b[39m\u001b[38;5;124mpost\u001b[39m\u001b[38;5;124m\"\u001b[39m, url\u001b[38;5;241m=\u001b[39mpath, json_data\u001b[38;5;241m=\u001b[39mbody, files\u001b[38;5;241m=\u001b[39mto_httpx_files(files), \u001b[38;5;241m*\u001b[39m\u001b[38;5;241m*\u001b[39moptions\n\u001b[1;32m   1279\u001b[0m     )\n\u001b[0;32m-> 1280\u001b[0m     \u001b[38;5;28;01mreturn\u001b[39;00m cast(ResponseT, \u001b[38;5;28;43mself\u001b[39;49m\u001b[38;5;241;43m.\u001b[39;49m\u001b[43mrequest\u001b[49m\u001b[43m(\u001b[49m\u001b[43mcast_to\u001b[49m\u001b[43m,\u001b[49m\u001b[43m \u001b[49m\u001b[43mopts\u001b[49m\u001b[43m,\u001b[49m\u001b[43m \u001b[49m\u001b[43mstream\u001b[49m\u001b[38;5;241;43m=\u001b[39;49m\u001b[43mstream\u001b[49m\u001b[43m,\u001b[49m\u001b[43m \u001b[49m\u001b[43mstream_cls\u001b[49m\u001b[38;5;241;43m=\u001b[39;49m\u001b[43mstream_cls\u001b[49m\u001b[43m)\u001b[49m)\n",
      "File \u001b[0;32m~/personal/storylabs/backend/.venv/lib/python3.12/site-packages/openai/_base_client.py:957\u001b[0m, in \u001b[0;36mSyncAPIClient.request\u001b[0;34m(self, cast_to, options, remaining_retries, stream, stream_cls)\u001b[0m\n\u001b[1;32m    954\u001b[0m \u001b[38;5;28;01melse\u001b[39;00m:\n\u001b[1;32m    955\u001b[0m     retries_taken \u001b[38;5;241m=\u001b[39m \u001b[38;5;241m0\u001b[39m\n\u001b[0;32m--> 957\u001b[0m \u001b[38;5;28;01mreturn\u001b[39;00m \u001b[38;5;28;43mself\u001b[39;49m\u001b[38;5;241;43m.\u001b[39;49m\u001b[43m_request\u001b[49m\u001b[43m(\u001b[49m\n\u001b[1;32m    958\u001b[0m \u001b[43m    \u001b[49m\u001b[43mcast_to\u001b[49m\u001b[38;5;241;43m=\u001b[39;49m\u001b[43mcast_to\u001b[49m\u001b[43m,\u001b[49m\n\u001b[1;32m    959\u001b[0m \u001b[43m    \u001b[49m\u001b[43moptions\u001b[49m\u001b[38;5;241;43m=\u001b[39;49m\u001b[43moptions\u001b[49m\u001b[43m,\u001b[49m\n\u001b[1;32m    960\u001b[0m \u001b[43m    \u001b[49m\u001b[43mstream\u001b[49m\u001b[38;5;241;43m=\u001b[39;49m\u001b[43mstream\u001b[49m\u001b[43m,\u001b[49m\n\u001b[1;32m    961\u001b[0m \u001b[43m    \u001b[49m\u001b[43mstream_cls\u001b[49m\u001b[38;5;241;43m=\u001b[39;49m\u001b[43mstream_cls\u001b[49m\u001b[43m,\u001b[49m\n\u001b[1;32m    962\u001b[0m \u001b[43m    \u001b[49m\u001b[43mretries_taken\u001b[49m\u001b[38;5;241;43m=\u001b[39;49m\u001b[43mretries_taken\u001b[49m\u001b[43m,\u001b[49m\n\u001b[1;32m    963\u001b[0m \u001b[43m\u001b[49m\u001b[43m)\u001b[49m\n",
      "File \u001b[0;32m~/personal/storylabs/backend/.venv/lib/python3.12/site-packages/openai/_base_client.py:1061\u001b[0m, in \u001b[0;36mSyncAPIClient._request\u001b[0;34m(self, cast_to, options, retries_taken, stream, stream_cls)\u001b[0m\n\u001b[1;32m   1058\u001b[0m         err\u001b[38;5;241m.\u001b[39mresponse\u001b[38;5;241m.\u001b[39mread()\n\u001b[1;32m   1060\u001b[0m     log\u001b[38;5;241m.\u001b[39mdebug(\u001b[38;5;124m\"\u001b[39m\u001b[38;5;124mRe-raising status error\u001b[39m\u001b[38;5;124m\"\u001b[39m)\n\u001b[0;32m-> 1061\u001b[0m     \u001b[38;5;28;01mraise\u001b[39;00m \u001b[38;5;28mself\u001b[39m\u001b[38;5;241m.\u001b[39m_make_status_error_from_response(err\u001b[38;5;241m.\u001b[39mresponse) \u001b[38;5;28;01mfrom\u001b[39;00m \u001b[38;5;28;01mNone\u001b[39;00m\n\u001b[1;32m   1063\u001b[0m \u001b[38;5;28;01mreturn\u001b[39;00m \u001b[38;5;28mself\u001b[39m\u001b[38;5;241m.\u001b[39m_process_response(\n\u001b[1;32m   1064\u001b[0m     cast_to\u001b[38;5;241m=\u001b[39mcast_to,\n\u001b[1;32m   1065\u001b[0m     options\u001b[38;5;241m=\u001b[39moptions,\n\u001b[0;32m   (...)\u001b[0m\n\u001b[1;32m   1069\u001b[0m     retries_taken\u001b[38;5;241m=\u001b[39mretries_taken,\n\u001b[1;32m   1070\u001b[0m )\n",
      "\u001b[0;31mNotFoundError\u001b[0m: Error code: 404 - {'error': {'message': 'The model `gpt-4o-2024-11-20` does not exist or you do not have access to it.', 'type': 'invalid_request_error', 'param': None, 'code': 'model_not_found'}}"
     ]
    }
   ],
   "source": [
    "from openai import OpenAI\n",
    "import os\n",
    "from dotenv import load_dotenv\n",
    "load_dotenv()\n",
    "\n",
    "client = OpenAI(api_key=os.environ[\"OPENAI_API_KEY\"])\n",
    "\n",
    "\n",
    "\n",
    "stream = client.chat.completions.create(\n",
    "    #model=\"gpt-4o-mini\",\n",
    "    model=\"gpt-4o-2024-11-20\",\n",
    "    messages=[{\"role\": \"system\", \"content\": f\"\"\"{writer_prompt}\"\"\".format(reading_level_guide=reading_level_guide, reading_level=\"2\")},\n",
    "              {\"role\": \"user\", \"content\": f\"\"\"This is the original story: {original_story}\"\"\"}],\n",
    "    stream=True,\n",
    ")\n",
    "for chunk in stream:\n",
    "    if chunk.choices[0].delta.content is not None:\n",
    "        print(chunk.choices[0].delta.content, end=\"\")"
   ]
  },
  {
   "cell_type": "code",
   "execution_count": 26,
   "metadata": {},
   "outputs": [],
   "source": [
    "#loop through reading levels\n",
    "for level in range(2, 11):\n",
    "    stream = client.chat.completions.create(\n",
    "        model=\"gpt-4o-mini\",\n",
    "        messages=[\n",
    "            {\"role\": \"system\", \"content\": f\"\"\"{writer_prompt}\"\"\".format(reading_level_guide=reading_level_guide, reading_level=str(level))},\n",
    "            {\"role\": \"user\", \"content\": f\"\"\"This is the original story: {original_story}\"\"\"}\n",
    "        ],\n",
    "        stream=True,\n",
    "    )\n",
    "    \n",
    "    output_content = \"\"\n",
    "    for chunk in stream:\n",
    "        if chunk.choices[0].delta.content is not None:\n",
    "            output_content += chunk.choices[0].delta.content\n",
    "    \n",
    "    with open(f\"generated_story_level_{level}.txt\", \"w\") as output_file:\n",
    "        output_file.write(output_content)"
   ]
  },
  {
   "cell_type": "code",
   "execution_count": 33,
   "metadata": {},
   "outputs": [],
   "source": [
    "messages=[{\"role\": \"system\", \"content\": f\"\"\"{writer_prompt}\"\"\".format(reading_level_guide=reading_level_guide, reading_level=\"2\")},\n",
    "              {\"role\": \"user\", \"content\": f\"\"\"This is the original story: {original_story}\"\"\"}]"
   ]
  },
  {
   "cell_type": "code",
   "execution_count": 34,
   "metadata": {},
   "outputs": [
    {
     "name": "stdout",
     "output_type": "stream",
     "text": [
      "[{'role': 'system', 'content': 'You are an expert in writing leveled readers for children.\\n\\nThis is the guide for the reading levels:\\n\\n## Reading Level Guide\\n\\n### Level 1\\n- **Description**: Level 1 books are for children who are just beginning to learn about books and reading. At this stage, your child is likely to be learning the alphabet at nursery, and may be able to recognise some simple, common words. Some books are wordless, with pictures telling the story. Wordless books provide lots to talk about, and help your child learn how to hold a book and turn the pages.\\n- **Approximate age**: 3–4 years old\\n\\n### Level 1+\\n- **Description**: Level 1+ books are for children who are just beginning to use simple phonics to read words like ‘sat’ and ’pin’. The books use words that are familiar and predictable, and the pictures help convey the meaning of the story.\\n- **Approximate age**: 4–5 years old\\n- **Example**: Taken from *A Dragon Balloon*:\\n  - \"Can Ben grab it? It is fun!\"\\n  - \"Get it in the net!\"\\n\\n### Level 2\\n- **Description**: By this stage, your child will be able to use their knowledge of letters and sounds to work out new words, though they may still need help. Pictures are used to help convey story meaning, and sentences are still mostly short and straightforward. Stories become very slightly more complex as your child becomes more comfortable reading more words.\\n- **Approximate age**: 4–5 years old\\n- **Example**: Taken from *Jack*:\\n  - \"It ran at Dad. Quick! Pick him up!\"\\n  - \"Dad shut it in a pen.\"\\n- Number of words: 50\\n\\n### Level 3\\n- **Description**: At this level, your child will be using phonics to help them read slightly more complicated words, including words with common digraphs like ‘ee’, ‘oa’, ‘ch’, and ‘th’. They will use phonics knowledge to work out less familiar words.\\n- **Approximate age**: 4–5 years old\\n- **Example**: Taken from *The Right Home*:\\n  - \"I need a home that is right for me.\"\\n  - \"My home needs to be fun. Let me see.\"\\n\\n### Level 4\\n- **Description**: By Level 4, your child will be using their phonics knowledge to work out words quickly, and will know a range of common tricky words (like ‘said’, ‘some’, and ‘what’) by sight. They are likely to be more confident in giving their opinion about stories and non-fiction texts.\\n- **Approximate age**: 4–6 years old\\n- **Example**: Taken from *The Stinky Plant*:\\n  - \"A man was sitting on a tree trunk. He did not look happy.\"\\n  - \"“What is the matter?” said Wilma.\"\\n\\n### Level 5\\n- **Description**: By Level 5, your child will start learning alternative spellings for the sounds in words – for example, they will learn that the letters ‘ou’ can be pronounced like ‘ow’ or ‘oo’. Level 5 books may contain words with apostrophes, such as ‘didn’t’ and ‘wasn’t’. They will also introduce children to unusual words that extend their vocabulary, like ‘terrible’ instead of ‘bad’.\\n- **Approximate age**: 5–6 years old\\n- **Example**: Taken from *The Parachute*:\\n  - \"Nok told Ant and Tiger what to do. They tied the string to the plastic bag.\"\\n  - \"“Can I go first?” asked Tiger. Nok put the parachute on Tiger’s back. Ant took a photo. “Smile!” he said.\"\\n\\n### Level 6\\n- **Description**: Stories in Level 6 are longer and more complex than in previous levels. By Level 6, your child will often notice when their reading does not make sense, and they will go back to correct themselves without being asked to. They will be able to work out many words automatically without sounding them out. They will be working on more alternative spellings for different sounds – for example, they may know that the ‘igh’ sound can also be spelled ‘ie’, ‘y, or ‘i’.\\n- **Approximate age**: 5–6 years old\\n- **Example**: Taken from *Who Eats Who*:\\n  - \"All living things are part of food chains. Yes, all living things – big and small, plants and animals!\"\\n  - \"A food chain is made when one living thing eats another living thing ... and that living thing eats another ... and that living thing eats another.\"\\n\\n### Level 7\\n- **Description**: At Level 7, most children can read out loud quite fluently and can usually find the answer to a question within a section of text. Your child will get used to words with unusual phonics patterns, such as ‘beautiful’, ‘eye’, and ‘any’. Words with several syllables will often be included.\\n- **Approximate age**: 5–6 years old\\n- **Example**: Taken from *Planet Exis*:\\n  - \"Max looked out through the micro-ship’s viewscreen. Ahead was a beautiful green planet with two glowing rings criss-crossing round it.\"\\n  - \"“There it is at last, Nok,” Max said. “Planet Exis,” said Seven, who was hovering nearby. Nok’s eyes were shining. “Home,” he said.\"\\n\\n### Level 8\\n- **Description**: At Level 8, children are generally more confident in their reading and know most common, non-decodable tricky words. Level 8 stories are often split into chapters. Your child is likely to enjoy choosing which books to read, often reading some of the text in order to help them decide.\\n- **Approximate age**: 6–7 years old\\n- **Example**: Taken from *Mini Marvels*:\\n  - \"This amazing pygmy (say pig-mee) seahorse is found on coral reefs in warm, tropical seas. It looks like the coral, which helps it hide from predators.\"\\n  - \"Many pairs of pygmy seahorses live on one piece of coral. The female seahorse lays eggs. Then the male carries the eggs in a pouch to look after them.\"\\n\\n### Level 9\\n- **Description**: Once your child is at Level 9, they will be able to read most words automatically, either silently or out loud. With non-fiction texts, they will be able to use features like indexes, headings, and photo captions to find information.\\n- **Approximate age**: 6–8 years old\\n- **Example**: Taken from *False Alarms*:\\n  - \"“Keep it,” said the Head. “No real harm was done. I’ve arranged for the door of the bank to be fixed.” He smiled. “When the bank manager saw your costumes, he thought you’d come from a rival circus!”\"\\n  - \"Boost and Flex raced to the skyscraper. High above, someone was standing on a platform, holding a bucket. “The thief!” cried Boost. “That bucket must be full of his stolen loot. Flex, get up there!”\"\\n\\n### Level 10\\n- **Description**: By Level 10, your child will be building up their stamina to read longer texts. They will use parts of unfamiliar words to help them work out the meaning (for example, spotting that ‘clarify’ is a bit like ‘clear’ so ‘clarify’ means ‘to make clear’).\\n- **Approximate age**: 6–8 years old\\n- **Example**: Taken from *A Life in the Sky*:\\n  - \"Plunge Dive and Surface Dip\"\\n  - \"“I dive through air to dip in the waves. I’m quick and sharp and bold – I grab my fish!”\"\\n  - \"When they need food, Arctic terns fly across the water, then zoom down to grab fish or shrimp from the surface of the water. They sometimes eat insects as they fly.\"\\n\\nYou are given a story. Please rewrite the story as a leveled reader for children at reading level 2.'}, {'role': 'user', 'content': 'This is the original story: RAPUNZEL\\nThere were once a man and a woman who had long in vain wished for a child. At length the woman hoped that God was about to grant her desire. These people had a little window at the back of their house from which a splendid garden could be seen, which was full of the most beautiful flowers and herbs. It was, however, surrounded by a high wall, and no one dared to go into it because it belonged to an enchantress, who had great power and was dreaded by all the world. One day the woman was standing by this window and looking down into the garden, when she saw a bed which was planted with the most beautiful rampion (rapunzel), and it looked so fresh and green that she longed for it, she quite pined away, and began to look pale and miserable. Then her husband was alarmed, and asked: ‘What ails you, dear wife?’ ‘Ah,’ she replied, ‘if I can’t eat some of the rampion, which is in the garden behind our house, I shall die.’ The man, who loved her, thought: ‘Sooner than let your wife die, bring her some of the rampion yourself, let it cost what it will.’ At twilight, he clambered down over the wall into the garden of the enchantress, hastily clutched a handful of rampion, and took it to his wife. She at once made herself a salad of it, and ate it greedily. It tasted so good to her—so very good, that the next day she longed for it three times as much as before. If he was to have any rest, her husband must once more descend into the garden. In the gloom of evening therefore, he let himself down again; but when he had clambered down the wall he was terribly afraid, for he saw the enchantress standing before him. ‘How can you dare,’ said she with angry look, ‘descend into my garden and steal my rampion like a thief? You shall suffer for it!’ ‘Ah,’ answered he, ‘let mercy take the place of justice, I only made up my mind to do it out of necessity. My wife saw your rampion from the window, and felt such a longing for it that she would have died if she had not got some to eat.’ Then the enchantress allowed her anger to be softened, and said to him: ‘If the case be as you say, I will allow you to take away with you as much rampion as you will, only I make one condition, you must give me the child which your wife will bring into the world; it shall be well treated, and I will care for it like a mother.’ The man in his terror consented to everything, and when the woman was brought to bed, the enchantress appeared at once, gave the child the name of Rapunzel, and took it away with her.\\n\\nRapunzel grew into the most beautiful child under the sun. When she was twelve years old, the enchantress shut her into a tower, which lay in a forest, and had neither stairs nor door, but quite at the top was a little window. When the enchantress wanted to go in, she placed herself beneath it and cried:\\n\\n ‘Rapunzel, Rapunzel,\\n  Let down your hair to me.’\\nRapunzel had magnificent long hair, fine as spun gold, and when she heard the voice of the enchantress she unfastened her braided tresses, wound them round one of the hooks of the window above, and then the hair fell twenty ells down, and the enchantress climbed up by it.\\n\\nAfter a year or two, it came to pass that the king’s son rode through the forest and passed by the tower. Then he heard a song, which was so charming that he stood still and listened. This was Rapunzel, who in her solitude passed her time in letting her sweet voice resound. The king’s son wanted to climb up to her, and looked for the door of the tower, but none was to be found. He rode home, but the singing had so deeply touched his heart, that every day he went out into the forest and listened to it. Once when he was thus standing behind a tree, he saw that an enchantress came there, and he heard how she cried:\\n\\n ‘Rapunzel, Rapunzel,\\n  Let down your hair to me.’\\nThen Rapunzel let down the braids of her hair, and the enchantress climbed up to her. ‘If that is the ladder by which one mounts, I too will try my fortune,’ said he, and the next day when it began to grow dark, he went to the tower and cried:\\n\\n ‘Rapunzel, Rapunzel,\\n  Let down your hair to me.’\\nImmediately the hair fell down and the king’s son climbed up.\\n\\nAt first Rapunzel was terribly frightened when a man, such as her eyes had never yet beheld, came to her; but the king’s son began to talk to her quite like a friend, and told her that his heart had been so stirred that it had let him have no rest, and he had been forced to see her. Then Rapunzel lost her fear, and when he asked her if she would take him for her husband, and she saw that he was young and handsome, she thought: ‘He will love me more than old Dame Gothel does’; and she said yes, and laid her hand in his. She said: ‘I will willingly go away with you, but I do not know how to get down. Bring with you a skein of silk every time that you come, and I will weave a ladder with it, and when that is ready I will descend, and you will take me on your horse.’ They agreed that until that time he should come to her every evening, for the old woman came by day. The enchantress remarked nothing of this, until once Rapunzel said to her: ‘Tell me, Dame Gothel, how it happens that you are so much heavier for me to draw up than the young king’s son—he is with me in a moment.’ ‘Ah! you wicked child,’ cried the enchantress. ‘What do I hear you say! I thought I had separated you from all the world, and yet you have deceived me!’ In her anger she clutched Rapunzel’s beautiful tresses, wrapped them twice round her left hand, seized a pair of scissors with the right, and snip, snap, they were cut off, and the lovely braids lay on the ground. And she was so pitiless that she took poor Rapunzel into a desert where she had to live in great grief and misery.\\n\\nOn the same day that she cast out Rapunzel, however, the enchantress fastened the braids of hair, which she had cut off, to the hook of the window, and when the king’s son came and cried:\\n\\n ‘Rapunzel, Rapunzel,\\n  Let down your hair to me.’\\nshe let the hair down. The king’s son ascended, but instead of finding his dearest Rapunzel, he found the enchantress, who gazed at him with wicked and venomous looks. ‘Aha!’ she cried mockingly, ‘you would fetch your dearest, but the beautiful bird sits no longer singing in the nest; the cat has got it, and will scratch out your eyes as well. Rapunzel is lost to you; you will never see her again.’ The king’s son was beside himself with pain, and in his despair he leapt down from the tower. He escaped with his life, but the thorns into which he fell pierced his eyes. Then he wandered quite blind about the forest, ate nothing but roots and berries, and did naught but lament and weep over the loss of his dearest wife. Thus he roamed about in misery for some years, and at length came to the desert where Rapunzel, with the twins to which she had given birth, a boy and a girl, lived in wretchedness. He heard a voice, and it seemed so familiar to him that he went towards it, and when he approached, Rapunzel knew him and fell on his neck and wept. Two of her tears wetted his eyes and they grew clear again, and he could see with them as before. He led her to his kingdom where he was joyfully received, and they lived for a long time afterwards, happy and contented.'}]\n"
     ]
    }
   ],
   "source": [
    "print(messages)"
   ]
  },
  {
   "cell_type": "code",
   "execution_count": null,
   "metadata": {},
   "outputs": [],
   "source": []
  }
 ],
 "metadata": {
  "kernelspec": {
   "display_name": "Python 3 (ipykernel)",
   "language": "python",
   "name": "python3"
  }
 },
 "nbformat": 4,
 "nbformat_minor": 2
}

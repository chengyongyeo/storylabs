{
 "cells": [
  {
   "cell_type": "code",
   "execution_count": 43,
   "metadata": {},
   "outputs": [],
   "source": [
    "from openai import OpenAI\n",
    "import os\n",
    "from dotenv import load_dotenv\n",
    "load_dotenv()\n",
    "from datetime import datetime\n",
    "import uuid"
   ]
  },
  {
   "cell_type": "code",
   "execution_count": 60,
   "metadata": {},
   "outputs": [
    {
     "name": "stdout",
     "output_type": "stream",
     "text": [
      "app/storybuilder/stories/Caitlin_2024-12-15_21-16-56_56f191f66a854aaabb7067e5f37fe42a\n"
     ]
    }
   ],
   "source": [
    "child_age = str(6)\n",
    "child_name = \"Caitlin\"\n",
    "child_interests = \"Barbie\"\n",
    "child_name_no_spaces = child_name.replace(\" \", \"_\")\n",
    "today = datetime.now().strftime(\"%Y-%m-%d_%H-%M-%S\")\n",
    "folder_name = os.path.join('app', 'storybuilder', 'stories', f'{child_name_no_spaces}_{today}_{uuid.uuid4().hex}')\n",
    "print(folder_name)"
   ]
  },
  {
   "cell_type": "code",
   "execution_count": 61,
   "metadata": {},
   "outputs": [
    {
     "name": "stdout",
     "output_type": "stream",
     "text": [
      "# main.md\n",
      "@story: Barbie's Magical Adventure\n",
      "@flow: [\n",
      "    \"fairy_land_intro\",\n",
      "    \"meeting_barbie\",\n",
      "    \"finding_the_dress\"\n",
      "]\n",
      "@state: {\n",
      "    global: {\n",
      "        friends_made: [],\n",
      "        magical_items: []\n",
      "    }\n",
      "}\n",
      "\n",
      "# characters.md\n",
      "@character: barbie\n",
      "prompt: A stylish doll with long blonde hair, sparkling blue eyes, and a lovely pink dress.\n",
      "personality: {\n",
      "    trait: \"charming and adventurous\",\n",
      "    goal: \"to help Caitlin discover magical treasures\",\n",
      "    speech_style: \"enthusiastic and kind\"\n",
      "}\n",
      "\n",
      "# scenes.md\n",
      "@scene: fairy_land\n",
      "id: fairy_land_1\n",
      "prompt: A colorful fairy land with twinkling stars and bright flowers, sparkling all around.\n",
      "mood: joyful\n",
      "time: midday\n",
      "\n",
      "@scene: meeting_barbie\n",
      "id: meeting_barbie_2\n",
      "prompt: A cozy clearing with a beautiful rainbow and glittering butterflies fluttering above.\n",
      "mood: magical\n",
      "time: midday\n",
      "\n",
      "@scene: finding_the_dress\n",
      "id: finding_the_dress_3\n",
      "prompt: A shimmering cave filled with sparkling gemstones and a soft, glowing light.\n",
      "mood: exciting\n",
      "time: midday\n",
      "\n",
      "# scene_fairy_land_intro.md\n",
      "@scene: fairy_land\n",
      "@id: fairy_land_1\n",
      "\n",
      "@narrate\n",
      "\"Once upon a time, in a magical fairy land filled with bright colors and twinkling stars, a little girl named Caitlin found herself on an exciting adventure.\"\n",
      "\n",
      "@speak: barbie\n",
      "[emotion: excited]\n",
      "\"Hello, Caitlin! Welcome to fairy land! Are you ready for a magical adventure?\"\n",
      "\n",
      "@input\n",
      "\"What do you think, Caitlin? Should we go on a magical adventure with Barbie?\"\n",
      "\n",
      "# scene_meeting_barbie.md\n",
      "@scene: meeting_barbie\n",
      "@id: meeting_barbie_2\n",
      "\n",
      "@narrate\n",
      "\"As Caitlin followed Barbie, they reached a cozy clearing with a beautiful rainbow stretching across the sky.\"\n",
      "\n",
      "@speak: barbie\n",
      "[emotion: cheerful]\n",
      "\"Look at that rainbow, Caitlin! Do you believe there’s a treasure waiting for us?\"\n",
      "\n",
      "@input\n",
      "\"What kind of treasure do you think we will find at the end of the rainbow?\"\n",
      "\n",
      "# scene_finding_the_dress.md\n",
      "@scene: finding_the_dress\n",
      "@id: finding_the_dress_3\n",
      "\n",
      "@narrate\n",
      "\"They followed the rainbow to a shimmering cave filled with sparkling gemstones and a soft, glowing light.\"\n",
      "\n",
      "@speak: barbie\n",
      "[emotion: amazed]\n",
      "\"Wow! Look at all these beautiful gems! I think we might find a magical dress here! Can you help me look?\"\n",
      "\n",
      "@input\n",
      "\"What color do you think the magical dress will be?\"\n",
      "\n",
      "@narrate\n",
      "\"Together, Caitlin and Barbie searched through the shimmering gems, finding the most magical treasures in the fairy land.\"\n",
      "\n",
      "@speak: barbie\n",
      "[emotion: joyful]\n",
      "\"Thank you for helping me find the treasures, Caitlin! You're my best friend!\"\n",
      "\n",
      "@input\n",
      "\"What was your favorite part of our adventure together, Caitlin?\"\n"
     ]
    }
   ],
   "source": [
    "client = OpenAI(api_key=os.environ[\"OPENAI_API_KEY\"])\n",
    "\n",
    "#load the generator prompt\n",
    "with open('app/storybuilder/prompts/generator.md', 'r') as file:\n",
    "    md_generator_prompt = file.read()\n",
    "\n",
    "with open('app/storybuilder/prompts/childs_info.txt', 'r') as file:\n",
    "    child_info = file.read()\n",
    "\n",
    "completion = client.chat.completions.create(\n",
    "    model=\"gpt-4o-mini\",\n",
    "    messages=[{\"role\": \"system\", \"content\": md_generator_prompt},\n",
    "              {\"role\": \"user\", \"content\": f\"\"\"{child_info}\"\"\".format(child_age=child_age,child_name=child_name, child_interests=child_interests)}],\n",
    "    stream=False,\n",
    ")\n",
    "\n",
    "print(completion.choices[0].message.content)\n"
   ]
  },
  {
   "cell_type": "code",
   "execution_count": 62,
   "metadata": {},
   "outputs": [],
   "source": [
    "#split the completion into multiple files \n",
    "# each file starts with #scene_name.md\n",
    "\n",
    "def split_scenes(completion_text):\n",
    "    # Split the text into lines\n",
    "    lines = completion_text.split('\\n')\n",
    "    \n",
    "    current_scene = None\n",
    "    current_content = []\n",
    "    scenes = {}\n",
    "    \n",
    "    for line in lines:\n",
    "        # Check for new scene marker\n",
    "        if line.startswith('#') and line.endswith('.md'):\n",
    "            # If we have a current scene, save it\n",
    "            if current_scene:\n",
    "                scenes[current_scene] = '\\n'.join(current_content)\n",
    "            \n",
    "            # Start new scene\n",
    "            current_scene = line[1:].strip()  # Remove # and .md\n",
    "            current_content = []\n",
    "        elif current_scene:\n",
    "            current_content.append(line)\n",
    "    \n",
    "    # Save the last scene\n",
    "    if current_scene and current_content:\n",
    "        scenes[current_scene] = '\\n'.join(current_content)\n",
    "    \n",
    "    return scenes\n",
    "\n",
    "\n"
   ]
  },
  {
   "cell_type": "code",
   "execution_count": 63,
   "metadata": {},
   "outputs": [],
   "source": [
    "# Get the scenes from completion\n",
    "scenes = split_scenes(completion.choices[0].message.content)\n"
   ]
  },
  {
   "cell_type": "code",
   "execution_count": 64,
   "metadata": {},
   "outputs": [
    {
     "name": "stdout",
     "output_type": "stream",
     "text": [
      "Created scene file: main.md\n",
      "Created scene file: characters.md\n",
      "Created scene file: scenes.md\n",
      "Created scene file: scene_fairy_land_intro.md\n",
      "Created scene file: scene_meeting_barbie.md\n",
      "Created scene file: scene_finding_the_dress.md\n"
     ]
    }
   ],
   "source": [
    "#make stories directory if not exists\n",
    "\n",
    "if not os.path.exists(folder_name):\n",
    "    os.makedirs(folder_name)\n",
    "\n",
    "# Write each scene to a file\n",
    "for scene_name, content in scenes.items():\n",
    "    with open(os.path.join(folder_name, scene_name), 'w') as f:\n",
    "        f.write(content.strip())\n",
    "    print(f'Created scene file: {scene_name}')"
   ]
  },
  {
   "cell_type": "code",
   "execution_count": null,
   "metadata": {},
   "outputs": [],
   "source": []
  }
 ],
 "metadata": {
  "kernelspec": {
   "display_name": "Python 3 (ipykernel)",
   "language": "python",
   "name": "python3"
  },
  "language_info": {
   "codemirror_mode": {
    "name": "ipython",
    "version": 3
   },
   "file_extension": ".py",
   "mimetype": "text/x-python",
   "name": "python",
   "nbconvert_exporter": "python",
   "pygments_lexer": "ipython3",
   "version": "3.12.0"
  }
 },
 "nbformat": 4,
 "nbformat_minor": 2
}

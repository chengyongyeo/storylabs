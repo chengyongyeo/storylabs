{
 "cells": [
  {
   "cell_type": "code",
   "execution_count": 1,
   "metadata": {},
   "outputs": [
    {
     "data": {
      "text/plain": [
       "True"
      ]
     },
     "execution_count": 1,
     "metadata": {},
     "output_type": "execute_result"
    }
   ],
   "source": [
    "from openai import OpenAI\n",
    "import os\n",
    "from dotenv import load_dotenv\n",
    "from pydantic import BaseModel, ValidationError\n",
    "import json\n",
    "\n",
    "load_dotenv()"
   ]
  },
  {
   "cell_type": "code",
   "execution_count": 25,
   "metadata": {},
   "outputs": [
    {
     "name": "stdout",
     "output_type": "stream",
     "text": [
      "### Rapunzel\n",
      "\n",
      "Once there was a man and a woman who wanted a baby. They wished for a long time. One day, the woman saw a garden from her window. It was full of beautiful flowers and herbs, but it had a high wall. The garden belonged to a powerful enchantress, and no one dared to go in.\n",
      "\n",
      "The woman saw a plant called rampion in the garden. It looked so fresh and green that she really wanted to eat it. She felt so sick without it. Her husband noticed and asked, \"What is wrong, dear wife?\" \n",
      "\n",
      "\"I want some rampion from the garden,\" she replied. \"If I can't eat it, I will feel very sad!\"\n",
      "\n",
      "The husband cared for her and thought, \"I will bring her some rampion.\" That night, he climbed over the wall and picked some. He gave it to his wife, and she made a salad. It tasted so good that she wanted more the next day.\n",
      "\n",
      "The husband went back to the garden to get more rampion, but this time he saw the enchantress. She was angry. \"How dare you steal my rampion?\" she yelled. The husband was scared but explained, \"My wife wanted it so much. If she doesn’t eat it, she will be very sad!\"\n",
      "\n",
      "The enchantress felt sorry for him and said, \"You may take as much rampion as you want, but you must give me the child your wife has when it is born. I will take care of the baby.\" The husband was so scared that he agreed.\n",
      "\n",
      "When the woman had a baby girl, the enchantress took her and named her Rapunzel. Rapunzel grew up to be very beautiful. When she was twelve, the enchantress locked her in a tall tower. There was no door, only a small window.\n",
      "\n",
      "When the enchantress came to visit, she called out, \"Rapunzel, Rapunzel, let down your hair!\" Rapunzel had long, golden hair. She let her hair down, and the enchantress climbed up.\n",
      "\n",
      "One day, a prince rode through the forest. He heard Rapunzel singing and stopped to listen. He wanted to see her but couldn’t find the door. Every day, he came back to hear her lovely voice.\n",
      "\n",
      "One evening, he saw the enchantress come and heard her call for Rapunzel. He thought, \"I will try this too!\" The next day, he called, \"Rapunzel, Rapunzel, let down your hair!\" Her hair fell down, and he climbed up.\n",
      "\n",
      "Rapunzel was scared when she saw the prince, but he spoke kindly. He told her that he had to see her because her song was beautiful. Soon, Rapunzel was not afraid anymore. When he asked her to marry him, she said yes! \n",
      "\n",
      "She wanted to escape, but she didn’t know how. \"Bring me silk every time you come,\" she said. \"I will make a ladder, and we can leave together.\" They agreed to meet every evening.\n",
      "\n",
      "The enchantress didn't notice at first, but one day, Rapunzel said, \"You are so heavy to pull up!\" The enchantress grew angry and cut off Rapunzel's hair. She sent Rapunzel away to live alone.\n",
      "\n",
      "When the prince came and called, \"Rapunzel, Rapunzel, let down your hair!\" the enchantress let down the cut hair instead. The prince climbed up, but there was no Rapunzel. The enchantress laughed, \"She is gone! You will never see her again!\"\n",
      "\n",
      "The prince was heartbroken. He jumped from the tower and landed in a thorny bush. He hurt his eyes and could not see! He wandered through the forest for many years, feeling sad.\n",
      "\n",
      "One day, he heard a familiar voice. It was Rapunzel! She had twins, a boy and a girl. When she saw him, she cried and hugged him. Her tears fell on his eyes, and he could see again!\n",
      "\n",
      "The prince took Rapunzel and their children to his kingdom. They were happy together, living a joyful life.\n"
     ]
    }
   ],
   "source": [
    "#load in the generated story\n",
    "with open(\"output/gpt-4o-mini/generated_story_level_2.txt\", \"r\") as file:\n",
    "    generated_story = file.read()\n",
    "\n",
    "print(generated_story)"
   ]
  },
  {
   "cell_type": "code",
   "execution_count": 65,
   "metadata": {},
   "outputs": [],
   "source": [
    "from openai import OpenAI\n",
    "import os\n",
    "from dotenv import load_dotenv\n",
    "from pydantic import BaseModel, ValidationError\n",
    "import json\n",
    "\n",
    "load_dotenv()\n",
    "\n",
    "class Clothing(BaseModel):\n",
    "    clothing_type: str\n",
    "    clothing_style: str\n",
    "    clothing_colour: str\n",
    "    clothing_pattern: str\n",
    "    clothing_texture: str\n",
    "\n",
    "class CharacterImagePrompt(BaseModel):\n",
    "    name: str\n",
    "    pose: str\n",
    "    clothing: Clothing\n",
    "    expression: str\n",
    "    overall_description: str\n",
    "\n",
    "class StoryImagePrompts(BaseModel):\n",
    "    background_image_prompt: str\n",
    "    character_image_prompts: list[CharacterImagePrompt]\n",
    "\n",
    "class Scene(BaseModel):\n",
    "    scene_no: int\n",
    "    story_text: str\n",
    "    story_image_prompts: StoryImagePrompts\n",
    "\n",
    "class CharacterPermanentAttributes(BaseModel):\n",
    "    name: str\n",
    "    gender: str\n",
    "    facial_features: str\n",
    "    hair_colour: str\n",
    "    hair_style: str\n",
    "    body_type: str\n",
    "    height: str\n",
    "    weight: str\n",
    "    species: str\n",
    "\n",
    "class StoryScenes(BaseModel):\n",
    "    illustration_style: str\n",
    "    characters: list[CharacterPermanentAttributes]\n",
    "    scenes: list[Scene]\n",
    "\n",
    "def split_story_into_scenes(story_text: str) -> StoryScenes:\n",
    "    # Define a prompt to instruct the model to split the story into scenes\n",
    "    prompt = f\"Split the following story into scenes. Separate each scene with a new line. This is the story: {story_text}\"\n",
    "\n",
    "    # Call the OpenAI API\n",
    "    client = OpenAI(api_key=os.environ[\"OPENAI_API_KEY\"])\n",
    "\n",
    "    completion = client.beta.chat.completions.parse(\n",
    "        model=\"gpt-4o-mini\",\n",
    "        messages=[\n",
    "            {\n",
    "                \"role\": \"system\",\n",
    "                \"content\": f\"\"\"You are an expert story illustrator creating a web app for children ages between 6-8 learning to read through stories. You are given a story text and before illustrating it, you need to \n",
    "                1. Read through the story text and chunk up the story into scenes. MAKE sure to have all the key scenes including the introduction, development, conflict, climax and resolution.\n",
    "                2. Choose an illustration style for the story suitable for children ages between 6-8. Describe the style in detail so that can be used to generate consistent background images and characters. Describe the time period of the story, for example, for example, medieval, modern, futuristic, etc.\n",
    "                3. Make a list of all the characters that appear in the story. If the same character is referred to with different ways, eg. man, husband, Mike, etc. you should refer to this character using his actual name if it is mentioned in the story, else refer to this character using the name that is most commonly used in the story and which is easily understood by someone reading your output. ALWAYS maintain consistency when referring to the same character throughout your output.\n",
    "                3. For each scene, describe the background scene in detail, including the\n",
    "                    - setting, \n",
    "                    - time of day\n",
    "                    - weather\n",
    "                    - the mood.\n",
    "                    DO NOT INCLUDE any characters in the background description.\n",
    "                4. For each scene, describe the characters in detail including their \n",
    "                    - clothing (include the type of clothes, composition, style, colour, texture, pattern, etc.)\n",
    "                    - poses\n",
    "                    - facial expressions \n",
    "                    so that it can be used to generate consistent images. The clothing description should be consistent for the same character unless it makes sense to change the character's clothing. Clothing description should include the type of clothes, composition, style, colour, texture, pattern, etc.              \n",
    "                DO NOT alter the story text in any way.\n",
    "                MAKE SURE TO use ALL the text provided in the story text.\"\"\"\n",
    "            },\n",
    "            {\n",
    "                \"role\": \"user\",\n",
    "                \"content\": f\"This is the story: {story_text}\"\n",
    "            }\n",
    "        ],\n",
    "        response_format=StoryScenes # Use \"json\" as the response format\n",
    "    )\n",
    "\n",
    "    # Parse the response into the StoryScenes model\n",
    "\n",
    "    scenes = completion.choices[0].message.parsed\n",
    "    return scenes\n",
    "    \n",
    "# Example usage\n",
    "# scenes = split_story_into_scenes(\"Your story text here\")\n",
    "# print(scenes)"
   ]
  },
  {
   "cell_type": "code",
   "execution_count": 66,
   "metadata": {},
   "outputs": [
    {
     "name": "stdout",
     "output_type": "stream",
     "text": [
      "illustration_style='The illustration style for this story features vibrant colors and whimsical shapes reminiscent of classic fairy tales. Characters will be depicted in a charming, cartoonish manner with exaggerated expressions to convey emotions effectively. The backgrounds will incorporate elements of fantasy, with lush greenery, magical towers, and enchanting gardens. The overall aesthetic is cheerful and inviting, using soft lines and bright tones to capture the attention of children aged 6-8. The time period is medieval, with elements such as castles, towers, and enchanting forests that give the story a timeless fairy tale feel.' characters=[CharacterPermanentAttributes(name='The Woman', gender='Female', facial_features='Gentle face with soft features', hair_colour='Brown', hair_style='Long and wavy', body_type='Slim', height='Average', weight='Average', species='Human'), CharacterPermanentAttributes(name='The Husband', gender='Male', facial_features='Strong jawline with a warm smile', hair_colour='Dark brown', hair_style='Short and slightly tousled', body_type='Athletic', height='Tall', weight='Medium', species='Human'), CharacterPermanentAttributes(name='The Enchantress', gender='Female', facial_features='A sharp, angular face with piercing eyes', hair_colour='White', hair_style='Long, flowing hair', body_type='Tall and slender', height='Taller than average', weight='Light', species='Human'), CharacterPermanentAttributes(name='Rapunzel', gender='Female', facial_features='Beautiful face with bright eyes', hair_colour='Golden', hair_style='Extremely long, flowing hair', body_type='Slim', height='Average', weight='Light', species='Human'), CharacterPermanentAttributes(name='The Prince', gender='Male', facial_features='Chiseled features with a charming smile', hair_colour='Blonde', hair_style='Medium length and neat', body_type='Fit', height='Tall', weight='Medium', species='Human')] scenes=[Scene(scene_no=1, story_text='Once there was a man and a woman who wanted a baby. They wished for a long time. One day, the woman saw a garden from her window. It was full of beautiful flowers and herbs, but it had a high wall. The garden belonged to a powerful enchantress, and no one dared to go in.', story_image_prompts=StoryImagePrompts(background_image_prompt='A quaint village house with a window overlooking a lush garden filled with colorful flowers and herbs. The garden has a tall, vine-covered stone wall surrounding it, indicating a magical atmosphere. Bright blue skies with a few fluffy clouds.', character_image_prompts=[])), Scene(scene_no=2, story_text='The woman saw a plant called rampion in the garden. It looked so fresh and green that she really wanted to eat it. She felt so sick without it. Her husband noticed and asked, \"What is wrong, dear wife?\"', story_image_prompts=StoryImagePrompts(background_image_prompt='Inside a cozy kitchen with sunlight streaming through the window. On the table, there are bowls of fresh vegetables. The atmosphere is warm and inviting, with a hint of worry in the air.', character_image_prompts=[CharacterImagePrompt(name='The Woman', pose='Sitting at the table with a hand on her forehead, looking worried,', clothing=Clothing(clothing_type='Dress', clothing_style='Simple medieval dress', clothing_colour='Light blue', clothing_pattern='Solid', clothing_texture='Soft cotton'), expression='Worried and anxious', overall_description='The woman appears gentle and soft-hearted, reflecting her desire for the rampion.'), CharacterImagePrompt(name='The Husband', pose='Standing beside her with a concerned expression,', clothing=Clothing(clothing_type='Tunic and trousers', clothing_style='Simple medieval attire', clothing_colour='Brown and cream', clothing_pattern='Solid', clothing_texture='Wool'), expression='Concerned and attentive', overall_description='The husband shows deep care for his wife, conveying a sense of protection and loyalty.')])), Scene(scene_no=3, story_text='\"I want some rampion from the garden,\" she replied. \"If I can\\'t eat it, I will feel very sad!\" The husband cared for her and thought, \"I will bring her some rampion.\" That night, he climbed over the wall and picked some.', story_image_prompts=StoryImagePrompts(background_image_prompt='The garden at night, illuminated by a full moon. The vibrant flowers appear even more enchanting under the moonlight, while the tall wall looms in the background. The scene has a magical yet slightly tense atmosphere.', character_image_prompts=[CharacterImagePrompt(name='The Husband', pose='Climbing over the wall carefully,', clothing=Clothing(clothing_type='Tunic and trousers', clothing_style='Simple medieval attire', clothing_colour='Brown and cream', clothing_pattern='Solid', clothing_texture='Wool'), expression='Determined yet cautious', overall_description='The husband looks resolute, eager to help his wife, accompanied by a sense of adventure.')])), Scene(scene_no=4, story_text='He gave it to his wife, and she made a salad. It tasted so good that she wanted more the next day. The husband went back to the garden to get more rampion, but this time he saw the enchantress. She was angry. \"How dare you steal my rampion?\" she yelled.', story_image_prompts=StoryImagePrompts(background_image_prompt='Inside the warm kitchen where the woman is busy preparing a salad. A lovely aroma fills the air, and the mood is cheerful. The window shows a glimpse of the garden outside.', character_image_prompts=[CharacterImagePrompt(name='The Woman', pose='Smiling while mixing salad in a bowl,', clothing=Clothing(clothing_type='Dress', clothing_style='Simple medieval dress', clothing_colour='Light blue', clothing_pattern='Solid', clothing_texture='Soft cotton'), expression='Joyful and satisfied', overall_description='The woman looks content, basking in the flavors of the rampion salad.'), CharacterImagePrompt(name='The Enchantress', pose='Standing with arms crossed, glaring,', clothing=Clothing(clothing_type='Robes', clothing_style='Elegant and flowing', clothing_colour='Dark purple', clothing_pattern='None', clothing_texture='Silk'), expression='Angry and fierce', overall_description='The enchantress has a commanding presence, with an air of authority and intimidation.')])), Scene(scene_no=5, story_text='The husband was scared but explained, \"My wife wanted it so much. If she doesn’t eat it, she will be very sad!\" The enchantress felt sorry for him and said, \"You may take as much rampion as you want, but you must give me the child your wife has when it is born. I will take care of the baby.\" The husband was so scared that he agreed.', story_image_prompts=StoryImagePrompts(background_image_prompt='The wall of the garden separating the husband and the enchantress, filled with flowers on the side. The enchantress stands tall and intimidating, with the husband looking small and frightened. The atmosphere is intense and somber, with darkening clouds above hinting at trouble ahead.', character_image_prompts=[CharacterImagePrompt(name='The Husband', pose='Standing with shoulders slumped, looking fearful,', clothing=Clothing(clothing_type='Tunic and trousers', clothing_style='Simple medieval attire', clothing_colour='Brown and cream', clothing_pattern='Solid', clothing_texture='Wool'), expression='Fearful and anxious', overall_description=\"The husband's expression is one of concern and dread about the bargain he is being forced to make.\"), CharacterImagePrompt(name='The Enchantress', pose='Standing with arms crossed and a stern look,', clothing=Clothing(clothing_type='Robes', clothing_style='Elegant and flowing', clothing_colour='Dark purple', clothing_pattern='None', clothing_texture='Silk'), expression='Stern and commanding', overall_description='The enchantress exudes power and expectancy, making her demands clear.')])), Scene(scene_no=6, story_text='When the woman had a baby girl, the enchantress took her and named her Rapunzel. Rapunzel grew up to be very beautiful. When she was twelve, the enchantress locked her in a tall tower. There was no door, only a small window.', story_image_prompts=StoryImagePrompts(background_image_prompt=\"A tall, majestic tower surrounded by a dense forest, with a small window shining with light. The surroundings are magical with birds flying and colorful flowers around. The mood is enchanting yet lonely, indicating Rapunzel's isolation.\", character_image_prompts=[CharacterImagePrompt(name='Rapunzel', pose='Standing at the window with a look of wonder,', clothing=Clothing(clothing_type='Long dress', clothing_style='Medieval style', clothing_colour='Lavender', clothing_pattern='None', clothing_texture='Soft fabric'), expression='Curious and hopeful', overall_description='Rapunzel looks beautiful and ethereal, radiating innocence and longing.')])), Scene(scene_no=7, story_text='When the enchantress came to visit, she called out, \"Rapunzel, Rapunzel, let down your hair!\" Rapunzel had long, golden hair. She let her hair down, and the enchantress climbed up.', story_image_prompts=StoryImagePrompts(background_image_prompt=\"The interior of the tower, bright and cozy with a small window. Rapunzel's long golden hair cascades down, forming a shimmering golden waterfall. The atmosphere is magical yet melancholic, capturing the contrast of captivity and beauty.\", character_image_prompts=[CharacterImagePrompt(name='Rapunzel', pose='Leaning out of the window, hair cascading down,', clothing=Clothing(clothing_type='Long dress', clothing_style='Medieval style', clothing_colour='Lavender', clothing_pattern='None', clothing_texture='Soft fabric'), expression='Content yet longing', overall_description=\"Rapunzel's beauty is accentuated by her flowing hair, suggesting innocence and a desire for freedom.\"), CharacterImagePrompt(name='The Enchantress', pose='Climbing up, grasping the hair with one hand,', clothing=Clothing(clothing_type='Robes', clothing_style='Elegant and flowing', clothing_colour='Dark purple', clothing_pattern='None', clothing_texture='Silk'), expression='Determined', overall_description=\"The enchantress appears focused and determined as she climbs, contrasting with Rapunzel's gentleness.\")])), Scene(scene_no=8, story_text='One day, a prince rode through the forest. He heard Rapunzel singing and stopped to listen. He wanted to see her but couldn’t find the door. Every day, he came back to hear her lovely voice.', story_image_prompts=StoryImagePrompts(background_image_prompt='A vibrant forest filled with colorful trees and bright flowers. Sunlight filters through the branches, creating a magical feeling. The mood is serene and enchanting, full of anticipation.', character_image_prompts=[CharacterImagePrompt(name='The Prince', pose='Riding on a horse, with a keen look in his eyes,', clothing=Clothing(clothing_type='Royal attire', clothing_style='Medieval with elegant cuts', clothing_colour='Navy blue and gold', clothing_pattern='Subtle floral', clothing_texture='Rich velvet'), expression='Curious and enchanted', overall_description='The prince embodies a regal demeanor, with an adventurous spirit, captivated by the singing.')])), Scene(scene_no=9, story_text='One evening, he saw the enchantress come and heard her call for Rapunzel. He thought, \"I will try this too!\" The next day, he called, \"Rapunzel, Rapunzel, let down your hair!\" Her hair fell down, and he climbed up.', story_image_prompts=StoryImagePrompts(background_image_prompt='The scene outside the tower during twilight, with a golden hue illuminating the sky. The tower stands majestically in the center, and the prince is below, looking up expectantly. The feel is romantic and hopeful, capturing the moment before the climb.', character_image_prompts=[CharacterImagePrompt(name='The Prince', pose='Looking up with determination, ready to call out,', clothing=Clothing(clothing_type='Royal attire', clothing_style='Medieval with elegant cuts', clothing_colour='Navy blue and gold', clothing_pattern='Subtle floral', clothing_texture='Rich velvet'), expression='Determined and captivated', overall_description='The prince stands tall, a sense of purpose in his posture as he prepares to call for Rapunzel.')])), Scene(scene_no=10, story_text='Rapunzel was scared when she saw the prince, but he spoke kindly. He told her that he had to see her because her song was beautiful. Soon, Rapunzel was not afraid anymore. When he asked her to marry him, she said yes!', story_image_prompts=StoryImagePrompts(background_image_prompt='Inside the tower, where sunlight brightens the room filled with plants. The atmosphere is one of joy and newfound love, filled with warmth and tenderness.', character_image_prompts=[CharacterImagePrompt(name='Rapunzel', pose='Standing close to the prince with a shy smile,', clothing=Clothing(clothing_type='Long dress', clothing_style='Medieval style', clothing_colour='Lavender', clothing_pattern='None', clothing_texture='Soft fabric'), expression='Joyful and shy', overall_description='Rapunzel radiates beauty and innocence, her eyes sparkling with happiness.'), CharacterImagePrompt(name='The Prince', pose='Looking at Rapunzel with admiration,', clothing=Clothing(clothing_type='Royal attire', clothing_style='Medieval with elegant cuts', clothing_colour='Navy blue and gold', clothing_pattern='Subtle floral', clothing_texture='Rich velvet'), expression='Adoring and happy', overall_description=\"The prince's demeanor is warm and inviting, reflecting his deep affection for Rapunzel.\")])), Scene(scene_no=11, story_text='She wanted to escape, but she didn’t know how. \"Bring me silk every time you come,\" she said. \"I will make a ladder, and we can leave together.\" They agreed to meet every evening.', story_image_prompts=StoryImagePrompts(background_image_prompt='The interior of the tower with a view of the stars through the small window. The atmosphere is filled with excitement and hope, with silk pieces scattered around.', character_image_prompts=[CharacterImagePrompt(name='Rapunzel', pose='Sitting with her hands thoughtfully on her knees, planning,', clothing=Clothing(clothing_type='Long dress', clothing_style='Medieval style', clothing_colour='Lavender', clothing_pattern='None', clothing_texture='Soft fabric'), expression='Hopeful and determined', overall_description='Rapunzel appears resilient, reflecting her determination to escape.'), CharacterImagePrompt(name='The Prince', pose='Kneeling beside her leaning in with a gentle smile,', clothing=Clothing(clothing_type='Royal attire', clothing_style='Medieval with elegant cuts', clothing_colour='Navy blue and gold', clothing_pattern='Subtle floral', clothing_texture='Rich velvet'), expression='Encouraging and supportive', overall_description='The prince is depicted as a loving and loyal partner, showing his commitment.')])), Scene(scene_no=12, story_text='The enchantress didn\\'t notice at first, but one day, Rapunzel said, \"You are so heavy to pull up!\" The enchantress grew angry and cut off Rapunzel\\'s hair. She sent Rapunzel away to live alone.', story_image_prompts=StoryImagePrompts(background_image_prompt=\"The tower, less brightly lit than before, with an ominous cloud gathering above. The mood is heavy with tension and despair, representing Rapunzel's impending isolation.\", character_image_prompts=[CharacterImagePrompt(name='The Enchantress', pose='Standing with scissors in hand, looking furious,', clothing=Clothing(clothing_type='Robes', clothing_style='Elegant and flowing', clothing_colour='Dark purple', clothing_pattern='None', clothing_texture='Silk'), expression='Furious and cold', overall_description=\"The enchantress's anger is palpable, highlighting her power and cruelty.\"), CharacterImagePrompt(name='Rapunzel', pose='Crouching with fear, hiding her hair,', clothing=Clothing(clothing_type='Long dress', clothing_style='Medieval style', clothing_colour='Lavender', clothing_pattern='None', clothing_texture='Soft fabric'), expression='Terrified and vulnerable', overall_description=\"Rapunzel looks frightened and small under the enchantress's threatening presence.\")])), Scene(scene_no=13, story_text='When the prince came and called, \"Rapunzel, Rapunzel, let down your hair!\" the enchantress let down the cut hair instead. The prince climbed up, but there was no Rapunzel. The enchantress laughed, \"She is gone! You will never see her again!\"', story_image_prompts=StoryImagePrompts(background_image_prompt='The tower with the prince climbing up, looking confused and worried. The atmosphere is tense and filled with despair, with the enchantress lurking in the shadows, casting a sense of foreboding.', character_image_prompts=[CharacterImagePrompt(name='The Prince', pose='Climbing up with a worried expression,', clothing=Clothing(clothing_type='Royal attire', clothing_style='Medieval with elegant cuts', clothing_colour='Navy blue and gold', clothing_pattern='Subtle floral', clothing_texture='Rich velvet'), expression='Worried and confused', overall_description=\"The prince's expression reflects his concern and urgency.\"), CharacterImagePrompt(name='The Enchantress', pose='Standing behind the prince, laughing maliciously,', clothing=Clothing(clothing_type='Robes', clothing_style='Elegant and flowing', clothing_colour='Dark purple', clothing_pattern='None', clothing_texture='Silk'), expression='Maliciously joyful', overall_description=\"The enchantress's evil delight shows her triumph over the prince's feelings.\")])), Scene(scene_no=14, story_text='The prince was heartbroken. He jumped from the tower and landed in a thorny bush. He hurt his eyes and could not see! He wandered through the forest for many years, feeling sad.', story_image_prompts=StoryImagePrompts(background_image_prompt=\"The forest filled with dense trees and thorny bushes under a gloomy sky. The atmosphere is somber and heavy, mirroring the prince's despair as he navigates through the forest, lost and hurt.\", character_image_prompts=[CharacterImagePrompt(name='The Prince', pose='Stumbling through the forest, looking disoriented,', clothing=Clothing(clothing_type='Royal attire', clothing_style='Medieval with elegant cuts', clothing_colour='Navy blue and gold', clothing_pattern='Subtle floral', clothing_texture='Rich velvet'), expression='Heartbroken and lost', overall_description='The prince looks worn and weary from his long wander through the forest.')])), Scene(scene_no=15, story_text='One day, he heard a familiar voice. It was Rapunzel! She had twins, a boy and a girl. When she saw him, she cried and hugged him. Her tears fell on his eyes, and he could see again!', story_image_prompts=StoryImagePrompts(background_image_prompt='A clearing in the forest filled with sunlight shining through the trees. The mood is joyful and bright as Rapunzel reunites with the prince, symbolizing hope and love triumphing over hardship.', character_image_prompts=[CharacterImagePrompt(name='Rapunzel', pose='Kneeling with joy, embracing the prince,', clothing=Clothing(clothing_type='Long dress', clothing_style='Medieval style', clothing_colour='Lavender', clothing_pattern='None', clothing_texture='Soft fabric'), expression='Joyful and loving', overall_description='Rapunzel exudes happiness and relief, her face glowing with love.'), CharacterImagePrompt(name='The Prince', pose='Holding Rapunzel with tears of joy,', clothing=Clothing(clothing_type='Royal attire', clothing_style='Medieval with elegant cuts', clothing_colour='Navy blue and gold', clothing_pattern='Subtle floral', clothing_texture='Rich velvet'), expression='Overjoyed and relieved', overall_description=\"The prince's face is filled with joy and love, marking the reunion after years of hardship.\")])), Scene(scene_no=16, story_text='The prince took Rapunzel and their children to his kingdom. They were happy together, living a joyful life.', story_image_prompts=StoryImagePrompts(background_image_prompt='A majestic castle in the background with a bright, sunny sky. The atmosphere radiates happiness and tranquility, reflecting the peace they have found together as a family.', character_image_prompts=[CharacterImagePrompt(name='Rapunzel', pose='Standing next to the prince with their children, smiling joyfully,', clothing=Clothing(clothing_type='Long dress', clothing_style='Medieval style', clothing_colour='Lavender', clothing_pattern='None', clothing_texture='Soft fabric'), expression='Content and loving', overall_description='Rapunzel looks radiant, symbolizing a new beginning.'), CharacterImagePrompt(name='The Prince', pose='Holding hands with Rapunzel, looking blissful,', clothing=Clothing(clothing_type='Royal attire', clothing_style='Medieval with elegant cuts', clothing_colour='Navy blue and gold', clothing_pattern='Subtle floral', clothing_texture='Rich velvet'), expression='Proud and happy', overall_description='The prince exudes confidence and joy, representing his loving nature.'), CharacterImagePrompt(name='The Twins', pose='Playing around their parents, smiling and laughing,', clothing=Clothing(clothing_type='Cute medieval attire', clothing_style='Simple and playful', clothing_colour='Pastel colors', clothing_pattern='None', clothing_texture='Soft cotton'), expression='Joyful and playful', overall_description=\"The twins represent innocence and joyfulness, completing the family's happiness.\")]))]\n"
     ]
    }
   ],
   "source": [
    "scenes = split_story_into_scenes(generated_story)\n",
    "print(scenes)"
   ]
  },
  {
   "cell_type": "code",
   "execution_count": 67,
   "metadata": {},
   "outputs": [
    {
     "name": "stdout",
     "output_type": "stream",
     "text": [
      "{\n",
      "    \"illustration_style\": \"The illustration style for this story features vibrant colors and whimsical shapes reminiscent of classic fairy tales. Characters will be depicted in a charming, cartoonish manner with exaggerated expressions to convey emotions effectively. The backgrounds will incorporate elements of fantasy, with lush greenery, magical towers, and enchanting gardens. The overall aesthetic is cheerful and inviting, using soft lines and bright tones to capture the attention of children aged 6-8. The time period is medieval, with elements such as castles, towers, and enchanting forests that give the story a timeless fairy tale feel.\",\n",
      "    \"characters\": [\n",
      "        {\n",
      "            \"name\": \"The Woman\",\n",
      "            \"gender\": \"Female\",\n",
      "            \"facial_features\": \"Gentle face with soft features\",\n",
      "            \"hair_colour\": \"Brown\",\n",
      "            \"hair_style\": \"Long and wavy\",\n",
      "            \"body_type\": \"Slim\",\n",
      "            \"height\": \"Average\",\n",
      "            \"weight\": \"Average\",\n",
      "            \"species\": \"Human\"\n",
      "        },\n",
      "        {\n",
      "            \"name\": \"The Husband\",\n",
      "            \"gender\": \"Male\",\n",
      "            \"facial_features\": \"Strong jawline with a warm smile\",\n",
      "            \"hair_colour\": \"Dark brown\",\n",
      "            \"hair_style\": \"Short and slightly tousled\",\n",
      "            \"body_type\": \"Athletic\",\n",
      "            \"height\": \"Tall\",\n",
      "            \"weight\": \"Medium\",\n",
      "            \"species\": \"Human\"\n",
      "        },\n",
      "        {\n",
      "            \"name\": \"The Enchantress\",\n",
      "            \"gender\": \"Female\",\n",
      "            \"facial_features\": \"A sharp, angular face with piercing eyes\",\n",
      "            \"hair_colour\": \"White\",\n",
      "            \"hair_style\": \"Long, flowing hair\",\n",
      "            \"body_type\": \"Tall and slender\",\n",
      "            \"height\": \"Taller than average\",\n",
      "            \"weight\": \"Light\",\n",
      "            \"species\": \"Human\"\n",
      "        },\n",
      "        {\n",
      "            \"name\": \"Rapunzel\",\n",
      "            \"gender\": \"Female\",\n",
      "            \"facial_features\": \"Beautiful face with bright eyes\",\n",
      "            \"hair_colour\": \"Golden\",\n",
      "            \"hair_style\": \"Extremely long, flowing hair\",\n",
      "            \"body_type\": \"Slim\",\n",
      "            \"height\": \"Average\",\n",
      "            \"weight\": \"Light\",\n",
      "            \"species\": \"Human\"\n",
      "        },\n",
      "        {\n",
      "            \"name\": \"The Prince\",\n",
      "            \"gender\": \"Male\",\n",
      "            \"facial_features\": \"Chiseled features with a charming smile\",\n",
      "            \"hair_colour\": \"Blonde\",\n",
      "            \"hair_style\": \"Medium length and neat\",\n",
      "            \"body_type\": \"Fit\",\n",
      "            \"height\": \"Tall\",\n",
      "            \"weight\": \"Medium\",\n",
      "            \"species\": \"Human\"\n",
      "        }\n",
      "    ],\n",
      "    \"scenes\": [\n",
      "        {\n",
      "            \"scene_no\": 1,\n",
      "            \"story_text\": \"Once there was a man and a woman who wanted a baby. They wished for a long time. One day, the woman saw a garden from her window. It was full of beautiful flowers and herbs, but it had a high wall. The garden belonged to a powerful enchantress, and no one dared to go in.\",\n",
      "            \"story_image_prompts\": {\n",
      "                \"background_image_prompt\": \"A quaint village house with a window overlooking a lush garden filled with colorful flowers and herbs. The garden has a tall, vine-covered stone wall surrounding it, indicating a magical atmosphere. Bright blue skies with a few fluffy clouds.\",\n",
      "                \"character_image_prompts\": []\n",
      "            }\n",
      "        },\n",
      "        {\n",
      "            \"scene_no\": 2,\n",
      "            \"story_text\": \"The woman saw a plant called rampion in the garden. It looked so fresh and green that she really wanted to eat it. She felt so sick without it. Her husband noticed and asked, \\\"What is wrong, dear wife?\\\"\",\n",
      "            \"story_image_prompts\": {\n",
      "                \"background_image_prompt\": \"Inside a cozy kitchen with sunlight streaming through the window. On the table, there are bowls of fresh vegetables. The atmosphere is warm and inviting, with a hint of worry in the air.\",\n",
      "                \"character_image_prompts\": [\n",
      "                    {\n",
      "                        \"name\": \"The Woman\",\n",
      "                        \"pose\": \"Sitting at the table with a hand on her forehead, looking worried,\",\n",
      "                        \"clothing\": {\n",
      "                            \"clothing_type\": \"Dress\",\n",
      "                            \"clothing_style\": \"Simple medieval dress\",\n",
      "                            \"clothing_colour\": \"Light blue\",\n",
      "                            \"clothing_pattern\": \"Solid\",\n",
      "                            \"clothing_texture\": \"Soft cotton\"\n",
      "                        },\n",
      "                        \"expression\": \"Worried and anxious\",\n",
      "                        \"overall_description\": \"The woman appears gentle and soft-hearted, reflecting her desire for the rampion.\"\n",
      "                    },\n",
      "                    {\n",
      "                        \"name\": \"The Husband\",\n",
      "                        \"pose\": \"Standing beside her with a concerned expression,\",\n",
      "                        \"clothing\": {\n",
      "                            \"clothing_type\": \"Tunic and trousers\",\n",
      "                            \"clothing_style\": \"Simple medieval attire\",\n",
      "                            \"clothing_colour\": \"Brown and cream\",\n",
      "                            \"clothing_pattern\": \"Solid\",\n",
      "                            \"clothing_texture\": \"Wool\"\n",
      "                        },\n",
      "                        \"expression\": \"Concerned and attentive\",\n",
      "                        \"overall_description\": \"The husband shows deep care for his wife, conveying a sense of protection and loyalty.\"\n",
      "                    }\n",
      "                ]\n",
      "            }\n",
      "        },\n",
      "        {\n",
      "            \"scene_no\": 3,\n",
      "            \"story_text\": \"\\\"I want some rampion from the garden,\\\" she replied. \\\"If I can't eat it, I will feel very sad!\\\" The husband cared for her and thought, \\\"I will bring her some rampion.\\\" That night, he climbed over the wall and picked some.\",\n",
      "            \"story_image_prompts\": {\n",
      "                \"background_image_prompt\": \"The garden at night, illuminated by a full moon. The vibrant flowers appear even more enchanting under the moonlight, while the tall wall looms in the background. The scene has a magical yet slightly tense atmosphere.\",\n",
      "                \"character_image_prompts\": [\n",
      "                    {\n",
      "                        \"name\": \"The Husband\",\n",
      "                        \"pose\": \"Climbing over the wall carefully,\",\n",
      "                        \"clothing\": {\n",
      "                            \"clothing_type\": \"Tunic and trousers\",\n",
      "                            \"clothing_style\": \"Simple medieval attire\",\n",
      "                            \"clothing_colour\": \"Brown and cream\",\n",
      "                            \"clothing_pattern\": \"Solid\",\n",
      "                            \"clothing_texture\": \"Wool\"\n",
      "                        },\n",
      "                        \"expression\": \"Determined yet cautious\",\n",
      "                        \"overall_description\": \"The husband looks resolute, eager to help his wife, accompanied by a sense of adventure.\"\n",
      "                    }\n",
      "                ]\n",
      "            }\n",
      "        },\n",
      "        {\n",
      "            \"scene_no\": 4,\n",
      "            \"story_text\": \"He gave it to his wife, and she made a salad. It tasted so good that she wanted more the next day. The husband went back to the garden to get more rampion, but this time he saw the enchantress. She was angry. \\\"How dare you steal my rampion?\\\" she yelled.\",\n",
      "            \"story_image_prompts\": {\n",
      "                \"background_image_prompt\": \"Inside the warm kitchen where the woman is busy preparing a salad. A lovely aroma fills the air, and the mood is cheerful. The window shows a glimpse of the garden outside.\",\n",
      "                \"character_image_prompts\": [\n",
      "                    {\n",
      "                        \"name\": \"The Woman\",\n",
      "                        \"pose\": \"Smiling while mixing salad in a bowl,\",\n",
      "                        \"clothing\": {\n",
      "                            \"clothing_type\": \"Dress\",\n",
      "                            \"clothing_style\": \"Simple medieval dress\",\n",
      "                            \"clothing_colour\": \"Light blue\",\n",
      "                            \"clothing_pattern\": \"Solid\",\n",
      "                            \"clothing_texture\": \"Soft cotton\"\n",
      "                        },\n",
      "                        \"expression\": \"Joyful and satisfied\",\n",
      "                        \"overall_description\": \"The woman looks content, basking in the flavors of the rampion salad.\"\n",
      "                    },\n",
      "                    {\n",
      "                        \"name\": \"The Enchantress\",\n",
      "                        \"pose\": \"Standing with arms crossed, glaring,\",\n",
      "                        \"clothing\": {\n",
      "                            \"clothing_type\": \"Robes\",\n",
      "                            \"clothing_style\": \"Elegant and flowing\",\n",
      "                            \"clothing_colour\": \"Dark purple\",\n",
      "                            \"clothing_pattern\": \"None\",\n",
      "                            \"clothing_texture\": \"Silk\"\n",
      "                        },\n",
      "                        \"expression\": \"Angry and fierce\",\n",
      "                        \"overall_description\": \"The enchantress has a commanding presence, with an air of authority and intimidation.\"\n",
      "                    }\n",
      "                ]\n",
      "            }\n",
      "        },\n",
      "        {\n",
      "            \"scene_no\": 5,\n",
      "            \"story_text\": \"The husband was scared but explained, \\\"My wife wanted it so much. If she doesn\\u2019t eat it, she will be very sad!\\\" The enchantress felt sorry for him and said, \\\"You may take as much rampion as you want, but you must give me the child your wife has when it is born. I will take care of the baby.\\\" The husband was so scared that he agreed.\",\n",
      "            \"story_image_prompts\": {\n",
      "                \"background_image_prompt\": \"The wall of the garden separating the husband and the enchantress, filled with flowers on the side. The enchantress stands tall and intimidating, with the husband looking small and frightened. The atmosphere is intense and somber, with darkening clouds above hinting at trouble ahead.\",\n",
      "                \"character_image_prompts\": [\n",
      "                    {\n",
      "                        \"name\": \"The Husband\",\n",
      "                        \"pose\": \"Standing with shoulders slumped, looking fearful,\",\n",
      "                        \"clothing\": {\n",
      "                            \"clothing_type\": \"Tunic and trousers\",\n",
      "                            \"clothing_style\": \"Simple medieval attire\",\n",
      "                            \"clothing_colour\": \"Brown and cream\",\n",
      "                            \"clothing_pattern\": \"Solid\",\n",
      "                            \"clothing_texture\": \"Wool\"\n",
      "                        },\n",
      "                        \"expression\": \"Fearful and anxious\",\n",
      "                        \"overall_description\": \"The husband's expression is one of concern and dread about the bargain he is being forced to make.\"\n",
      "                    },\n",
      "                    {\n",
      "                        \"name\": \"The Enchantress\",\n",
      "                        \"pose\": \"Standing with arms crossed and a stern look,\",\n",
      "                        \"clothing\": {\n",
      "                            \"clothing_type\": \"Robes\",\n",
      "                            \"clothing_style\": \"Elegant and flowing\",\n",
      "                            \"clothing_colour\": \"Dark purple\",\n",
      "                            \"clothing_pattern\": \"None\",\n",
      "                            \"clothing_texture\": \"Silk\"\n",
      "                        },\n",
      "                        \"expression\": \"Stern and commanding\",\n",
      "                        \"overall_description\": \"The enchantress exudes power and expectancy, making her demands clear.\"\n",
      "                    }\n",
      "                ]\n",
      "            }\n",
      "        },\n",
      "        {\n",
      "            \"scene_no\": 6,\n",
      "            \"story_text\": \"When the woman had a baby girl, the enchantress took her and named her Rapunzel. Rapunzel grew up to be very beautiful. When she was twelve, the enchantress locked her in a tall tower. There was no door, only a small window.\",\n",
      "            \"story_image_prompts\": {\n",
      "                \"background_image_prompt\": \"A tall, majestic tower surrounded by a dense forest, with a small window shining with light. The surroundings are magical with birds flying and colorful flowers around. The mood is enchanting yet lonely, indicating Rapunzel's isolation.\",\n",
      "                \"character_image_prompts\": [\n",
      "                    {\n",
      "                        \"name\": \"Rapunzel\",\n",
      "                        \"pose\": \"Standing at the window with a look of wonder,\",\n",
      "                        \"clothing\": {\n",
      "                            \"clothing_type\": \"Long dress\",\n",
      "                            \"clothing_style\": \"Medieval style\",\n",
      "                            \"clothing_colour\": \"Lavender\",\n",
      "                            \"clothing_pattern\": \"None\",\n",
      "                            \"clothing_texture\": \"Soft fabric\"\n",
      "                        },\n",
      "                        \"expression\": \"Curious and hopeful\",\n",
      "                        \"overall_description\": \"Rapunzel looks beautiful and ethereal, radiating innocence and longing.\"\n",
      "                    }\n",
      "                ]\n",
      "            }\n",
      "        },\n",
      "        {\n",
      "            \"scene_no\": 7,\n",
      "            \"story_text\": \"When the enchantress came to visit, she called out, \\\"Rapunzel, Rapunzel, let down your hair!\\\" Rapunzel had long, golden hair. She let her hair down, and the enchantress climbed up.\",\n",
      "            \"story_image_prompts\": {\n",
      "                \"background_image_prompt\": \"The interior of the tower, bright and cozy with a small window. Rapunzel's long golden hair cascades down, forming a shimmering golden waterfall. The atmosphere is magical yet melancholic, capturing the contrast of captivity and beauty.\",\n",
      "                \"character_image_prompts\": [\n",
      "                    {\n",
      "                        \"name\": \"Rapunzel\",\n",
      "                        \"pose\": \"Leaning out of the window, hair cascading down,\",\n",
      "                        \"clothing\": {\n",
      "                            \"clothing_type\": \"Long dress\",\n",
      "                            \"clothing_style\": \"Medieval style\",\n",
      "                            \"clothing_colour\": \"Lavender\",\n",
      "                            \"clothing_pattern\": \"None\",\n",
      "                            \"clothing_texture\": \"Soft fabric\"\n",
      "                        },\n",
      "                        \"expression\": \"Content yet longing\",\n",
      "                        \"overall_description\": \"Rapunzel's beauty is accentuated by her flowing hair, suggesting innocence and a desire for freedom.\"\n",
      "                    },\n",
      "                    {\n",
      "                        \"name\": \"The Enchantress\",\n",
      "                        \"pose\": \"Climbing up, grasping the hair with one hand,\",\n",
      "                        \"clothing\": {\n",
      "                            \"clothing_type\": \"Robes\",\n",
      "                            \"clothing_style\": \"Elegant and flowing\",\n",
      "                            \"clothing_colour\": \"Dark purple\",\n",
      "                            \"clothing_pattern\": \"None\",\n",
      "                            \"clothing_texture\": \"Silk\"\n",
      "                        },\n",
      "                        \"expression\": \"Determined\",\n",
      "                        \"overall_description\": \"The enchantress appears focused and determined as she climbs, contrasting with Rapunzel's gentleness.\"\n",
      "                    }\n",
      "                ]\n",
      "            }\n",
      "        },\n",
      "        {\n",
      "            \"scene_no\": 8,\n",
      "            \"story_text\": \"One day, a prince rode through the forest. He heard Rapunzel singing and stopped to listen. He wanted to see her but couldn\\u2019t find the door. Every day, he came back to hear her lovely voice.\",\n",
      "            \"story_image_prompts\": {\n",
      "                \"background_image_prompt\": \"A vibrant forest filled with colorful trees and bright flowers. Sunlight filters through the branches, creating a magical feeling. The mood is serene and enchanting, full of anticipation.\",\n",
      "                \"character_image_prompts\": [\n",
      "                    {\n",
      "                        \"name\": \"The Prince\",\n",
      "                        \"pose\": \"Riding on a horse, with a keen look in his eyes,\",\n",
      "                        \"clothing\": {\n",
      "                            \"clothing_type\": \"Royal attire\",\n",
      "                            \"clothing_style\": \"Medieval with elegant cuts\",\n",
      "                            \"clothing_colour\": \"Navy blue and gold\",\n",
      "                            \"clothing_pattern\": \"Subtle floral\",\n",
      "                            \"clothing_texture\": \"Rich velvet\"\n",
      "                        },\n",
      "                        \"expression\": \"Curious and enchanted\",\n",
      "                        \"overall_description\": \"The prince embodies a regal demeanor, with an adventurous spirit, captivated by the singing.\"\n",
      "                    }\n",
      "                ]\n",
      "            }\n",
      "        },\n",
      "        {\n",
      "            \"scene_no\": 9,\n",
      "            \"story_text\": \"One evening, he saw the enchantress come and heard her call for Rapunzel. He thought, \\\"I will try this too!\\\" The next day, he called, \\\"Rapunzel, Rapunzel, let down your hair!\\\" Her hair fell down, and he climbed up.\",\n",
      "            \"story_image_prompts\": {\n",
      "                \"background_image_prompt\": \"The scene outside the tower during twilight, with a golden hue illuminating the sky. The tower stands majestically in the center, and the prince is below, looking up expectantly. The feel is romantic and hopeful, capturing the moment before the climb.\",\n",
      "                \"character_image_prompts\": [\n",
      "                    {\n",
      "                        \"name\": \"The Prince\",\n",
      "                        \"pose\": \"Looking up with determination, ready to call out,\",\n",
      "                        \"clothing\": {\n",
      "                            \"clothing_type\": \"Royal attire\",\n",
      "                            \"clothing_style\": \"Medieval with elegant cuts\",\n",
      "                            \"clothing_colour\": \"Navy blue and gold\",\n",
      "                            \"clothing_pattern\": \"Subtle floral\",\n",
      "                            \"clothing_texture\": \"Rich velvet\"\n",
      "                        },\n",
      "                        \"expression\": \"Determined and captivated\",\n",
      "                        \"overall_description\": \"The prince stands tall, a sense of purpose in his posture as he prepares to call for Rapunzel.\"\n",
      "                    }\n",
      "                ]\n",
      "            }\n",
      "        },\n",
      "        {\n",
      "            \"scene_no\": 10,\n",
      "            \"story_text\": \"Rapunzel was scared when she saw the prince, but he spoke kindly. He told her that he had to see her because her song was beautiful. Soon, Rapunzel was not afraid anymore. When he asked her to marry him, she said yes!\",\n",
      "            \"story_image_prompts\": {\n",
      "                \"background_image_prompt\": \"Inside the tower, where sunlight brightens the room filled with plants. The atmosphere is one of joy and newfound love, filled with warmth and tenderness.\",\n",
      "                \"character_image_prompts\": [\n",
      "                    {\n",
      "                        \"name\": \"Rapunzel\",\n",
      "                        \"pose\": \"Standing close to the prince with a shy smile,\",\n",
      "                        \"clothing\": {\n",
      "                            \"clothing_type\": \"Long dress\",\n",
      "                            \"clothing_style\": \"Medieval style\",\n",
      "                            \"clothing_colour\": \"Lavender\",\n",
      "                            \"clothing_pattern\": \"None\",\n",
      "                            \"clothing_texture\": \"Soft fabric\"\n",
      "                        },\n",
      "                        \"expression\": \"Joyful and shy\",\n",
      "                        \"overall_description\": \"Rapunzel radiates beauty and innocence, her eyes sparkling with happiness.\"\n",
      "                    },\n",
      "                    {\n",
      "                        \"name\": \"The Prince\",\n",
      "                        \"pose\": \"Looking at Rapunzel with admiration,\",\n",
      "                        \"clothing\": {\n",
      "                            \"clothing_type\": \"Royal attire\",\n",
      "                            \"clothing_style\": \"Medieval with elegant cuts\",\n",
      "                            \"clothing_colour\": \"Navy blue and gold\",\n",
      "                            \"clothing_pattern\": \"Subtle floral\",\n",
      "                            \"clothing_texture\": \"Rich velvet\"\n",
      "                        },\n",
      "                        \"expression\": \"Adoring and happy\",\n",
      "                        \"overall_description\": \"The prince's demeanor is warm and inviting, reflecting his deep affection for Rapunzel.\"\n",
      "                    }\n",
      "                ]\n",
      "            }\n",
      "        },\n",
      "        {\n",
      "            \"scene_no\": 11,\n",
      "            \"story_text\": \"She wanted to escape, but she didn\\u2019t know how. \\\"Bring me silk every time you come,\\\" she said. \\\"I will make a ladder, and we can leave together.\\\" They agreed to meet every evening.\",\n",
      "            \"story_image_prompts\": {\n",
      "                \"background_image_prompt\": \"The interior of the tower with a view of the stars through the small window. The atmosphere is filled with excitement and hope, with silk pieces scattered around.\",\n",
      "                \"character_image_prompts\": [\n",
      "                    {\n",
      "                        \"name\": \"Rapunzel\",\n",
      "                        \"pose\": \"Sitting with her hands thoughtfully on her knees, planning,\",\n",
      "                        \"clothing\": {\n",
      "                            \"clothing_type\": \"Long dress\",\n",
      "                            \"clothing_style\": \"Medieval style\",\n",
      "                            \"clothing_colour\": \"Lavender\",\n",
      "                            \"clothing_pattern\": \"None\",\n",
      "                            \"clothing_texture\": \"Soft fabric\"\n",
      "                        },\n",
      "                        \"expression\": \"Hopeful and determined\",\n",
      "                        \"overall_description\": \"Rapunzel appears resilient, reflecting her determination to escape.\"\n",
      "                    },\n",
      "                    {\n",
      "                        \"name\": \"The Prince\",\n",
      "                        \"pose\": \"Kneeling beside her leaning in with a gentle smile,\",\n",
      "                        \"clothing\": {\n",
      "                            \"clothing_type\": \"Royal attire\",\n",
      "                            \"clothing_style\": \"Medieval with elegant cuts\",\n",
      "                            \"clothing_colour\": \"Navy blue and gold\",\n",
      "                            \"clothing_pattern\": \"Subtle floral\",\n",
      "                            \"clothing_texture\": \"Rich velvet\"\n",
      "                        },\n",
      "                        \"expression\": \"Encouraging and supportive\",\n",
      "                        \"overall_description\": \"The prince is depicted as a loving and loyal partner, showing his commitment.\"\n",
      "                    }\n",
      "                ]\n",
      "            }\n",
      "        },\n",
      "        {\n",
      "            \"scene_no\": 12,\n",
      "            \"story_text\": \"The enchantress didn't notice at first, but one day, Rapunzel said, \\\"You are so heavy to pull up!\\\" The enchantress grew angry and cut off Rapunzel's hair. She sent Rapunzel away to live alone.\",\n",
      "            \"story_image_prompts\": {\n",
      "                \"background_image_prompt\": \"The tower, less brightly lit than before, with an ominous cloud gathering above. The mood is heavy with tension and despair, representing Rapunzel's impending isolation.\",\n",
      "                \"character_image_prompts\": [\n",
      "                    {\n",
      "                        \"name\": \"The Enchantress\",\n",
      "                        \"pose\": \"Standing with scissors in hand, looking furious,\",\n",
      "                        \"clothing\": {\n",
      "                            \"clothing_type\": \"Robes\",\n",
      "                            \"clothing_style\": \"Elegant and flowing\",\n",
      "                            \"clothing_colour\": \"Dark purple\",\n",
      "                            \"clothing_pattern\": \"None\",\n",
      "                            \"clothing_texture\": \"Silk\"\n",
      "                        },\n",
      "                        \"expression\": \"Furious and cold\",\n",
      "                        \"overall_description\": \"The enchantress's anger is palpable, highlighting her power and cruelty.\"\n",
      "                    },\n",
      "                    {\n",
      "                        \"name\": \"Rapunzel\",\n",
      "                        \"pose\": \"Crouching with fear, hiding her hair,\",\n",
      "                        \"clothing\": {\n",
      "                            \"clothing_type\": \"Long dress\",\n",
      "                            \"clothing_style\": \"Medieval style\",\n",
      "                            \"clothing_colour\": \"Lavender\",\n",
      "                            \"clothing_pattern\": \"None\",\n",
      "                            \"clothing_texture\": \"Soft fabric\"\n",
      "                        },\n",
      "                        \"expression\": \"Terrified and vulnerable\",\n",
      "                        \"overall_description\": \"Rapunzel looks frightened and small under the enchantress's threatening presence.\"\n",
      "                    }\n",
      "                ]\n",
      "            }\n",
      "        },\n",
      "        {\n",
      "            \"scene_no\": 13,\n",
      "            \"story_text\": \"When the prince came and called, \\\"Rapunzel, Rapunzel, let down your hair!\\\" the enchantress let down the cut hair instead. The prince climbed up, but there was no Rapunzel. The enchantress laughed, \\\"She is gone! You will never see her again!\\\"\",\n",
      "            \"story_image_prompts\": {\n",
      "                \"background_image_prompt\": \"The tower with the prince climbing up, looking confused and worried. The atmosphere is tense and filled with despair, with the enchantress lurking in the shadows, casting a sense of foreboding.\",\n",
      "                \"character_image_prompts\": [\n",
      "                    {\n",
      "                        \"name\": \"The Prince\",\n",
      "                        \"pose\": \"Climbing up with a worried expression,\",\n",
      "                        \"clothing\": {\n",
      "                            \"clothing_type\": \"Royal attire\",\n",
      "                            \"clothing_style\": \"Medieval with elegant cuts\",\n",
      "                            \"clothing_colour\": \"Navy blue and gold\",\n",
      "                            \"clothing_pattern\": \"Subtle floral\",\n",
      "                            \"clothing_texture\": \"Rich velvet\"\n",
      "                        },\n",
      "                        \"expression\": \"Worried and confused\",\n",
      "                        \"overall_description\": \"The prince's expression reflects his concern and urgency.\"\n",
      "                    },\n",
      "                    {\n",
      "                        \"name\": \"The Enchantress\",\n",
      "                        \"pose\": \"Standing behind the prince, laughing maliciously,\",\n",
      "                        \"clothing\": {\n",
      "                            \"clothing_type\": \"Robes\",\n",
      "                            \"clothing_style\": \"Elegant and flowing\",\n",
      "                            \"clothing_colour\": \"Dark purple\",\n",
      "                            \"clothing_pattern\": \"None\",\n",
      "                            \"clothing_texture\": \"Silk\"\n",
      "                        },\n",
      "                        \"expression\": \"Maliciously joyful\",\n",
      "                        \"overall_description\": \"The enchantress's evil delight shows her triumph over the prince's feelings.\"\n",
      "                    }\n",
      "                ]\n",
      "            }\n",
      "        },\n",
      "        {\n",
      "            \"scene_no\": 14,\n",
      "            \"story_text\": \"The prince was heartbroken. He jumped from the tower and landed in a thorny bush. He hurt his eyes and could not see! He wandered through the forest for many years, feeling sad.\",\n",
      "            \"story_image_prompts\": {\n",
      "                \"background_image_prompt\": \"The forest filled with dense trees and thorny bushes under a gloomy sky. The atmosphere is somber and heavy, mirroring the prince's despair as he navigates through the forest, lost and hurt.\",\n",
      "                \"character_image_prompts\": [\n",
      "                    {\n",
      "                        \"name\": \"The Prince\",\n",
      "                        \"pose\": \"Stumbling through the forest, looking disoriented,\",\n",
      "                        \"clothing\": {\n",
      "                            \"clothing_type\": \"Royal attire\",\n",
      "                            \"clothing_style\": \"Medieval with elegant cuts\",\n",
      "                            \"clothing_colour\": \"Navy blue and gold\",\n",
      "                            \"clothing_pattern\": \"Subtle floral\",\n",
      "                            \"clothing_texture\": \"Rich velvet\"\n",
      "                        },\n",
      "                        \"expression\": \"Heartbroken and lost\",\n",
      "                        \"overall_description\": \"The prince looks worn and weary from his long wander through the forest.\"\n",
      "                    }\n",
      "                ]\n",
      "            }\n",
      "        },\n",
      "        {\n",
      "            \"scene_no\": 15,\n",
      "            \"story_text\": \"One day, he heard a familiar voice. It was Rapunzel! She had twins, a boy and a girl. When she saw him, she cried and hugged him. Her tears fell on his eyes, and he could see again!\",\n",
      "            \"story_image_prompts\": {\n",
      "                \"background_image_prompt\": \"A clearing in the forest filled with sunlight shining through the trees. The mood is joyful and bright as Rapunzel reunites with the prince, symbolizing hope and love triumphing over hardship.\",\n",
      "                \"character_image_prompts\": [\n",
      "                    {\n",
      "                        \"name\": \"Rapunzel\",\n",
      "                        \"pose\": \"Kneeling with joy, embracing the prince,\",\n",
      "                        \"clothing\": {\n",
      "                            \"clothing_type\": \"Long dress\",\n",
      "                            \"clothing_style\": \"Medieval style\",\n",
      "                            \"clothing_colour\": \"Lavender\",\n",
      "                            \"clothing_pattern\": \"None\",\n",
      "                            \"clothing_texture\": \"Soft fabric\"\n",
      "                        },\n",
      "                        \"expression\": \"Joyful and loving\",\n",
      "                        \"overall_description\": \"Rapunzel exudes happiness and relief, her face glowing with love.\"\n",
      "                    },\n",
      "                    {\n",
      "                        \"name\": \"The Prince\",\n",
      "                        \"pose\": \"Holding Rapunzel with tears of joy,\",\n",
      "                        \"clothing\": {\n",
      "                            \"clothing_type\": \"Royal attire\",\n",
      "                            \"clothing_style\": \"Medieval with elegant cuts\",\n",
      "                            \"clothing_colour\": \"Navy blue and gold\",\n",
      "                            \"clothing_pattern\": \"Subtle floral\",\n",
      "                            \"clothing_texture\": \"Rich velvet\"\n",
      "                        },\n",
      "                        \"expression\": \"Overjoyed and relieved\",\n",
      "                        \"overall_description\": \"The prince's face is filled with joy and love, marking the reunion after years of hardship.\"\n",
      "                    }\n",
      "                ]\n",
      "            }\n",
      "        },\n",
      "        {\n",
      "            \"scene_no\": 16,\n",
      "            \"story_text\": \"The prince took Rapunzel and their children to his kingdom. They were happy together, living a joyful life.\",\n",
      "            \"story_image_prompts\": {\n",
      "                \"background_image_prompt\": \"A majestic castle in the background with a bright, sunny sky. The atmosphere radiates happiness and tranquility, reflecting the peace they have found together as a family.\",\n",
      "                \"character_image_prompts\": [\n",
      "                    {\n",
      "                        \"name\": \"Rapunzel\",\n",
      "                        \"pose\": \"Standing next to the prince with their children, smiling joyfully,\",\n",
      "                        \"clothing\": {\n",
      "                            \"clothing_type\": \"Long dress\",\n",
      "                            \"clothing_style\": \"Medieval style\",\n",
      "                            \"clothing_colour\": \"Lavender\",\n",
      "                            \"clothing_pattern\": \"None\",\n",
      "                            \"clothing_texture\": \"Soft fabric\"\n",
      "                        },\n",
      "                        \"expression\": \"Content and loving\",\n",
      "                        \"overall_description\": \"Rapunzel looks radiant, symbolizing a new beginning.\"\n",
      "                    },\n",
      "                    {\n",
      "                        \"name\": \"The Prince\",\n",
      "                        \"pose\": \"Holding hands with Rapunzel, looking blissful,\",\n",
      "                        \"clothing\": {\n",
      "                            \"clothing_type\": \"Royal attire\",\n",
      "                            \"clothing_style\": \"Medieval with elegant cuts\",\n",
      "                            \"clothing_colour\": \"Navy blue and gold\",\n",
      "                            \"clothing_pattern\": \"Subtle floral\",\n",
      "                            \"clothing_texture\": \"Rich velvet\"\n",
      "                        },\n",
      "                        \"expression\": \"Proud and happy\",\n",
      "                        \"overall_description\": \"The prince exudes confidence and joy, representing his loving nature.\"\n",
      "                    },\n",
      "                    {\n",
      "                        \"name\": \"The Twins\",\n",
      "                        \"pose\": \"Playing around their parents, smiling and laughing,\",\n",
      "                        \"clothing\": {\n",
      "                            \"clothing_type\": \"Cute medieval attire\",\n",
      "                            \"clothing_style\": \"Simple and playful\",\n",
      "                            \"clothing_colour\": \"Pastel colors\",\n",
      "                            \"clothing_pattern\": \"None\",\n",
      "                            \"clothing_texture\": \"Soft cotton\"\n",
      "                        },\n",
      "                        \"expression\": \"Joyful and playful\",\n",
      "                        \"overall_description\": \"The twins represent innocence and joyfulness, completing the family's happiness.\"\n",
      "                    }\n",
      "                ]\n",
      "            }\n",
      "        }\n",
      "    ]\n",
      "}\n"
     ]
    }
   ],
   "source": [
    "scenes_json = scenes.model_dump(mode=\"json\")\n",
    "print(json.dumps(scenes_json, indent=4))"
   ]
  },
  {
   "cell_type": "code",
   "execution_count": 68,
   "metadata": {},
   "outputs": [],
   "source": [
    "#write the output to file\n",
    "with open(\"output/gpt-4o-mini/generated_story_scenes_level_2.json\", \"w\") as file:\n",
    "    json.dump(scenes_json, file, indent=4)"
   ]
  },
  {
   "cell_type": "code",
   "execution_count": 69,
   "metadata": {},
   "outputs": [],
   "source": [
    "#read the file storylabs/backend/output/gpt-4o-mini/generated_story_scenes_level_2.json\n",
    "import json\n",
    "with open(\"output/gpt-4o-mini/generated_story_scenes_level_2.json\", \"r\") as file:\n",
    "    scenes_json = json.load(file)\n",
    "\n",
    "\n"
   ]
  },
  {
   "cell_type": "markdown",
   "metadata": {},
   "source": [
    "## Flux"
   ]
  },
  {
   "cell_type": "code",
   "execution_count": 31,
   "metadata": {},
   "outputs": [
    {
     "name": "stdout",
     "output_type": "stream",
     "text": [
      "The following packages are already present in the pyproject.toml and will be skipped:\n",
      "\n",
      "  - \u001b[36mreplicate\u001b[39m\n",
      "\n",
      "If you want to update it to the latest compatible version, you can use `poetry update package`.\n",
      "If you prefer to upgrade it to the latest available version, you can use `poetry add package@latest`.\n",
      "\n",
      "Nothing to add.\n"
     ]
    }
   ],
   "source": [
    "!poetry add replicate"
   ]
  },
  {
   "cell_type": "code",
   "execution_count": 2,
   "metadata": {},
   "outputs": [],
   "source": [
    "import replicate\n",
    "load_dotenv()\n",
    "REPLICATE_API_TOKEN = os.environ[\"REPLICATE_API_TOKEN\"]"
   ]
  },
  {
   "cell_type": "code",
   "execution_count": 70,
   "metadata": {},
   "outputs": [],
   "source": [
    "#load the image prompts from file\n",
    "with open(\"output/gpt-4o-mini/generated_story_scenes_level_2.json\", \"r\") as file:\n",
    "    story_image_prompts = json.load(file)"
   ]
  },
  {
   "cell_type": "code",
   "execution_count": 71,
   "metadata": {},
   "outputs": [
    {
     "name": "stdout",
     "output_type": "stream",
     "text": [
      "['The Woman', 'The Husband', 'The Enchantress', 'Rapunzel', 'The Prince']\n"
     ]
    }
   ],
   "source": [
    "#load the list of characters\n",
    "with open(\"output/gpt-4o-mini/generated_story_scenes_level_2.json\", \"r\") as file:\n",
    "    story_image_prompts = json.load(file)\n",
    "    characters = [story_image_prompts[\"characters\"][i][\"name\"] for i in range(len(story_image_prompts[\"characters\"]))]\n",
    "    print(characters)"
   ]
  },
  {
   "cell_type": "code",
   "execution_count": 109,
   "metadata": {},
   "outputs": [
    {
     "name": "stdout",
     "output_type": "stream",
     "text": [
      "The Prince\n"
     ]
    }
   ],
   "source": [
    "character_name=characters[4]\n",
    "print(character_name)"
   ]
  },
  {
   "cell_type": "code",
   "execution_count": 110,
   "metadata": {},
   "outputs": [
    {
     "name": "stdout",
     "output_type": "stream",
     "text": [
      "[{'clothing_type': 'Royal attire', 'clothing_style': 'Medieval with elegant cuts', 'clothing_colour': 'Navy blue and gold', 'clothing_pattern': 'Subtle floral', 'clothing_texture': 'Rich velvet'}, {'clothing_type': 'Royal attire', 'clothing_style': 'Medieval with elegant cuts', 'clothing_colour': 'Navy blue and gold', 'clothing_pattern': 'Subtle floral', 'clothing_texture': 'Rich velvet'}, {'clothing_type': 'Royal attire', 'clothing_style': 'Medieval with elegant cuts', 'clothing_colour': 'Navy blue and gold', 'clothing_pattern': 'Subtle floral', 'clothing_texture': 'Rich velvet'}, {'clothing_type': 'Royal attire', 'clothing_style': 'Medieval with elegant cuts', 'clothing_colour': 'Navy blue and gold', 'clothing_pattern': 'Subtle floral', 'clothing_texture': 'Rich velvet'}, {'clothing_type': 'Royal attire', 'clothing_style': 'Medieval with elegant cuts', 'clothing_colour': 'Navy blue and gold', 'clothing_pattern': 'Subtle floral', 'clothing_texture': 'Rich velvet'}, {'clothing_type': 'Royal attire', 'clothing_style': 'Medieval with elegant cuts', 'clothing_colour': 'Navy blue and gold', 'clothing_pattern': 'Subtle floral', 'clothing_texture': 'Rich velvet'}, {'clothing_type': 'Royal attire', 'clothing_style': 'Medieval with elegant cuts', 'clothing_colour': 'Navy blue and gold', 'clothing_pattern': 'Subtle floral', 'clothing_texture': 'Rich velvet'}, {'clothing_type': 'Royal attire', 'clothing_style': 'Medieval with elegant cuts', 'clothing_colour': 'Navy blue and gold', 'clothing_pattern': 'Subtle floral', 'clothing_texture': 'Rich velvet'}]\n"
     ]
    }
   ],
   "source": [
    "#get all the clothing for character Woman\n",
    "character_clothing = []\n",
    "for scene in story_image_prompts[\"scenes\"]:\n",
    "    if scene['story_image_prompts'].get('character_image_prompts'):\n",
    "        for character in scene['story_image_prompts']['character_image_prompts']:\n",
    "            if character.get('name', '') == character_name:\n",
    "                character_clothing.append(character['clothing'])\n",
    "\n",
    "print(character_clothing)"
   ]
  },
  {
   "cell_type": "code",
   "execution_count": 111,
   "metadata": {},
   "outputs": [
    {
     "name": "stdout",
     "output_type": "stream",
     "text": [
      "{'name': 'The Prince', 'gender': 'Male', 'facial_features': 'Chiseled features with a charming smile', 'hair_colour': 'Blonde', 'hair_style': 'Medium length and neat', 'body_type': 'Fit', 'height': 'Tall', 'weight': 'Medium', 'species': 'Human'}\n"
     ]
    }
   ],
   "source": [
    "character_permanent_attributes = next((character for character in story_image_prompts[\"characters\"] if character[\"name\"] == character_name), None)\n",
    "print(character_permanent_attributes)\n"
   ]
  },
  {
   "cell_type": "code",
   "execution_count": 112,
   "metadata": {},
   "outputs": [
    {
     "name": "stdout",
     "output_type": "stream",
     "text": [
      "wL5W7\n"
     ]
    }
   ],
   "source": [
    "#generate a trigger word for this character, random 5 letters\n",
    "import random\n",
    "import string\n",
    "trigger_word = ''.join(random.choices(string.ascii_letters + string.digits, k=5))\n",
    "#concatenate with gender\n",
    "print(trigger_word)"
   ]
  },
  {
   "cell_type": "code",
   "execution_count": 113,
   "metadata": {},
   "outputs": [
    {
     "name": "stdout",
     "output_type": "stream",
     "text": [
      "\n",
      "Character permanent attributes: {'name': 'The Prince', 'gender': 'Male', 'facial_features': 'Chiseled features with a charming smile', 'hair_colour': 'Blonde', 'hair_style': 'Medium length and neat', 'body_type': 'Fit', 'height': 'Tall', 'weight': 'Medium', 'species': 'Human'} \n",
      "Clothing: {'clothing_type': 'Royal attire', 'clothing_style': 'Medieval with elegant cuts', 'clothing_colour': 'Navy blue and gold', 'clothing_pattern': 'Subtle floral', 'clothing_texture': 'Rich velvet'}\n",
      "Illustration style: The illustration style for this story features vibrant colors and whimsical shapes reminiscent of classic fairy tales. Characters will be depicted in a charming, cartoonish manner with exaggerated expressions to convey emotions effectively. The backgrounds will incorporate elements of fantasy, with lush greenery, magical towers, and enchanting gardens. The overall aesthetic is cheerful and inviting, using soft lines and bright tones to capture the attention of children aged 6-8. The time period is medieval, with elements such as castles, towers, and enchanting forests that give the story a timeless fairy tale feel.\n",
      "\n"
     ]
    }
   ],
   "source": [
    "#1 image\n",
    "image_prompt_single_image = f\"\"\"\n",
    "Character permanent attributes: {character_permanent_attributes} \n",
    "Clothing: {character_clothing[0]}\n",
    "Illustration style: {story_image_prompts['illustration_style']}\n",
    "\"\"\"\n",
    "\n",
    "#remove name from the image prompt text\n",
    "\n",
    "\n",
    "\n",
    "\n",
    "print(image_prompt_single_image)\n",
    "\n"
   ]
  },
  {
   "cell_type": "code",
   "execution_count": 132,
   "metadata": {},
   "outputs": [],
   "source": [
    "\n",
    "#use openai to convert this prompt into prose for flux input prompt\n",
    "client = OpenAI(api_key=os.environ[\"OPENAI_API_KEY\"])\n",
    "\n",
    "completion = client.beta.chat.completions.parse(\n",
    "    model=\"gpt-4o-mini\",\n",
    "    messages=[\n",
    "        {\n",
    "            \"role\": \"user\",\n",
    "            \"content\": f\"\"\"write an image prompt for the character in the image prompt below. {image_prompt_single_image} DO NOT include the words Image Prompt\"\"\"\n",
    "        }\n",
    "    ]\n",
    ")   \n"
   ]
  },
  {
   "cell_type": "code",
   "execution_count": 133,
   "metadata": {},
   "outputs": [
    {
     "name": "stdout",
     "output_type": "stream",
     "text": [
      "Create an illustration of **The Prince**, a tall and fit young man with chiseled features and a charming smile. His medium-length blonde hair is neat and well-styled. Dress him in exquisite royal attire that embodies medieval elegance, featuring a navy blue and gold color scheme with subtle floral patterns and rich velvet texture. The setting should be whimsical, filled with lush greenery, enchanting gardens, and magical towers that evoke a fairy tale atmosphere. The illustration should capture the cheerful, inviting style, with vibrant colors and soft lines, ensuring to emphasize The Prince's exaggerated expressions that convey warmth and charm, appealing to a young audience of ages 6-8.\n"
     ]
    }
   ],
   "source": [
    "flux_prompt = completion.choices[0].message.content\n",
    "print(flux_prompt)\n"
   ]
  },
  {
   "cell_type": "code",
   "execution_count": 114,
   "metadata": {},
   "outputs": [
    {
     "name": "stdout",
     "output_type": "stream",
     "text": [
      "\n",
      "Generate a character sheet of the character below shown 5 different angles:\n",
      "\n",
      "Permanent attributes: {'name': 'wL5W7', 'gender': 'Male', 'facial_features': 'Chiseled features with a charming smile', 'hair_colour': 'Blonde', 'hair_style': 'Medium length and neat', 'body_type': 'Fit', 'height': 'Tall', 'weight': 'Medium', 'species': 'Human'} \n",
      "Clothing: {'clothing_type': 'Royal attire', 'clothing_style': 'Medieval with elegant cuts', 'clothing_colour': 'Navy blue and gold', 'clothing_pattern': 'Subtle floral', 'clothing_texture': 'Rich velvet'}\n",
      "Illustration style: The illustration style for this story features vibrant colors and whimsical shapes reminiscent of classic fairy tales. Characters will be depicted in a charming, cartoonish manner with exaggerated expressions to convey emotions effectively. The backgrounds will incorporate elements of fantasy, with lush greenery, magical towers, and enchanting gardens. The overall aesthetic is cheerful and inviting, using soft lines and bright tones to capture the attention of children aged 6-8. The time period is medieval, with elements such as castles, towers, and enchanting forests that give the story a timeless fairy tale feel.\n",
      "\n"
     ]
    }
   ],
   "source": [
    "#character sheet\n",
    "image_prompt_character_sheet = f\"\"\"\n",
    "Generate a character sheet of the character below shown 5 different angles:\n",
    "\n",
    "Permanent attributes: {character_permanent_attributes} \n",
    "Clothing: {character_clothing[0]}\n",
    "Illustration style: {story_image_prompts['illustration_style']}\n",
    "\"\"\"\n",
    "\n",
    "#remove name from the image prompt text\n",
    "\n",
    "\n",
    "\n",
    "image_prompt_text = image_prompt_character_sheet.replace(character_name, trigger_word)\n",
    "print(image_prompt_text)"
   ]
  },
  {
   "cell_type": "code",
   "execution_count": 3,
   "metadata": {},
   "outputs": [],
   "source": [
    "#write a character_name_trigger_word.txt with the\n",
    "# Permanent attributes: {character_permanent_attributes} \n",
    "#Clothing: {character_clothing[0]} \n",
    "\n",
    "flux_prompt='The train stops in a magical forest where the trees sparkle and treasure chests can be seen.'"
   ]
  },
  {
   "cell_type": "code",
   "execution_count": 4,
   "metadata": {},
   "outputs": [],
   "source": [
    "input = {\n",
    "    \"prompt\": flux_prompt,\n",
    "    \"prompt_upsampling\": False, \n",
    "    \"aspect_ratio\": \"16:9\", \n",
    "    \"output_format\": \"png\", \n",
    "    \"seed\": 123457\n",
    "}\n",
    "\n",
    "output = replicate.run(\n",
    "    \"black-forest-labs/flux-1.1-pro\",\n",
    "    input=input\n",
    ")\n"
   ]
  },
  {
   "cell_type": "code",
   "execution_count": 5,
   "metadata": {},
   "outputs": [
    {
     "data": {
      "text/plain": [
       "replicate.helpers.FileOutput"
      ]
     },
     "execution_count": 5,
     "metadata": {},
     "output_type": "execute_result"
    }
   ],
   "source": [
    "type(output)"
   ]
  },
  {
   "cell_type": "code",
   "execution_count": 135,
   "metadata": {},
   "outputs": [],
   "source": [
    "#make output directory if it doesn't exist\n",
    "os.makedirs(\"output/images\", exist_ok=True)\n",
    "#increment instead of keep appending _1\n",
    "filename = f\"output/images/{character_name}_{trigger_word}.png\"\n",
    "counter = 1\n",
    "while os.path.exists(filename):\n",
    "    filename = f\"output/images/{character_name}_{trigger_word}_{counter}.png\"\n",
    "    counter += 1\n",
    "with open(filename, \"wb\") as file:\n",
    "    file.write(output.read())\n"
   ]
  },
  {
   "cell_type": "markdown",
   "metadata": {},
   "source": [
    "# Generate more images of the same character given 1 starting image"
   ]
  },
  {
   "cell_type": "code",
   "execution_count": 98,
   "metadata": {},
   "outputs": [],
   "source": [
    "import replicate\n",
    "load_dotenv()\n",
    "REPLICATE_API_TOKEN = os.environ[\"REPLICATE_API_TOKEN\"]"
   ]
  },
  {
   "cell_type": "code",
   "execution_count": 120,
   "metadata": {},
   "outputs": [
    {
     "data": {
      "text/plain": [
       "\"\\nCharacter permanent attributes: {'name': 'The Prince', 'gender': 'Male', 'facial_features': 'Chiseled features with a charming smile', 'hair_colour': 'Blonde', 'hair_style': 'Medium length and neat', 'body_type': 'Fit', 'height': 'Tall', 'weight': 'Medium', 'species': 'Human'} \\nClothing: {'clothing_type': 'Royal attire', 'clothing_style': 'Medieval with elegant cuts', 'clothing_colour': 'Navy blue and gold', 'clothing_pattern': 'Subtle floral', 'clothing_texture': 'Rich velvet'}\\nIllustration style: The illustration style for this story features vibrant colors and whimsical shapes reminiscent of classic fairy tales. Characters will be depicted in a charming, cartoonish manner with exaggerated expressions to convey emotions effectively. The backgrounds will incorporate elements of fantasy, with lush greenery, magical towers, and enchanting gardens. The overall aesthetic is cheerful and inviting, using soft lines and bright tones to capture the attention of children aged 6-8. The time period is medieval, with elements such as castles, towers, and enchanting forests that give the story a timeless fairy tale feel.\\n\""
      ]
     },
     "execution_count": 120,
     "metadata": {},
     "output_type": "execute_result"
    }
   ],
   "source": [
    "image_prompt_single_image"
   ]
  },
  {
   "cell_type": "code",
   "execution_count": 136,
   "metadata": {},
   "outputs": [
    {
     "name": "stdout",
     "output_type": "stream",
     "text": [
      "<_io.BufferedReader name='output/images/ThePrince_wL5W7.png'>\n"
     ]
    }
   ],
   "source": [
    "image = open(\"output/images/ThePrince_wL5W7.png\", \"rb\")\n",
    "print(image)"
   ]
  },
  {
   "cell_type": "code",
   "execution_count": 137,
   "metadata": {},
   "outputs": [
    {
     "name": "stdout",
     "output_type": "stream",
     "text": [
      "Create an illustration of **The Prince**, a tall and fit young man with chiseled features and a charming smile. His medium-length blonde hair is neat and well-styled. Dress him in exquisite royal attire that embodies medieval elegance, featuring a navy blue and gold color scheme with subtle floral patterns and rich velvet texture. The setting should be whimsical, filled with lush greenery, enchanting gardens, and magical towers that evoke a fairy tale atmosphere. The illustration should capture the cheerful, inviting style, with vibrant colors and soft lines, ensuring to emphasize The Prince's exaggerated expressions that convey warmth and charm, appealing to a young audience of ages 6-8.\n"
     ]
    }
   ],
   "source": [
    "print(flux_prompt)"
   ]
  },
  {
   "cell_type": "code",
   "execution_count": 121,
   "metadata": {},
   "outputs": [
    {
     "name": "stdout",
     "output_type": "stream",
     "text": [
      "\n",
      "Character permanent attributes: {'name': 'The Prince', 'gender': 'Male', 'facial_features': 'Chiseled features with a charming smile', 'hair_colour': 'Blonde', 'hair_style': 'Medium length and neat', 'body_type': 'Fit', 'height': 'Tall', 'weight': 'Medium', 'species': 'Human'} \n",
      "Clothing: {'clothing_type': 'Royal attire', 'clothing_style': 'Medieval with elegant cuts', 'clothing_colour': 'Navy blue and gold', 'clothing_pattern': 'Subtle floral', 'clothing_texture': 'Rich velvet'}\n",
      "Illustration style: The illustration style for this story features vibrant colors and whimsical shapes reminiscent of classic fairy tales. Characters will be depicted in a charming, cartoonish manner with exaggerated expressions to convey emotions effectively. The backgrounds will incorporate elements of fantasy, with lush greenery, magical towers, and enchanting gardens. The overall aesthetic is cheerful and inviting, using soft lines and bright tones to capture the attention of children aged 6-8. The time period is medieval, with elements such as castles, towers, and enchanting forests that give the story a timeless fairy tale feel.\n",
      "\n"
     ]
    }
   ],
   "source": [
    "print(image_prompt_single_image)"
   ]
  },
  {
   "cell_type": "code",
   "execution_count": 149,
   "metadata": {},
   "outputs": [],
   "source": [
    "import requests\n",
    "\n",
    "def download_image(url, save_path):\n",
    "    # Send a GET request to the URL\n",
    "    response = requests.get(url)\n",
    "    \n",
    "    # Check if the request was successful\n",
    "    if response.status_code == 200:\n",
    "        # Open a local file in binary write mode\n",
    "        with open(save_path, 'wb') as file:\n",
    "            # Write the content of the response to the file\n",
    "            file.write(response.content)\n",
    "        print(f\"Image successfully downloaded: {save_path}\")\n",
    "    else:\n",
    "        print(f\"Failed to download image. Status code: {response.status_code}\")\n",
    "\n"
   ]
  },
  {
   "cell_type": "code",
   "execution_count": 144,
   "metadata": {},
   "outputs": [],
   "source": [
    "\n",
    "output = replicate.run(\n",
    "    \"fofr/consistent-character:9c77a3c2f884193fcee4d89645f02a0b9def9434f9e03cb98460456b831c8772\",\n",
    "    input={\n",
    "        \"seed\": 123456,\n",
    "        \"prompt\": flux_prompt,\n",
    "        \"subject\": image,\n",
    "        \"output_format\": \"png\",\n",
    "        \"output_quality\": 80,\n",
    "        \"negative_prompt\": \"\",\n",
    "        \"randomise_poses\": True,\n",
    "        \"number_of_outputs\": 5,\n",
    "        \"number_of_images_per_pose\": 1\n",
    "    }\n",
    ")\n",
    "\n",
    "# The fofr/consistent-character model can stream output as it's running.\n",
    "# The predict method returns an iterator, and you can iterate over that output.\n"
   ]
  },
  {
   "cell_type": "code",
   "execution_count": 145,
   "metadata": {},
   "outputs": [
    {
     "name": "stdout",
     "output_type": "stream",
     "text": [
      "https://replicate.delivery/xezq/I0gdtvUxpvbqCpScofidiuxEaoF7cdU3JQ35BD8eBvihRq5TA/ComfyUI_00001_.png\n",
      "https://replicate.delivery/xezq/0UNZGeB5DMzvTSuHKvD6udpooqUdQYvUld3YMguIkSR1I18JA/ComfyUI_00002_.png\n",
      "https://replicate.delivery/xezq/lG2fP3Co81WaVykpTnepStpWkGL4YtMHp6O1Rb4cWxc0Rq5TA/ComfyUI_00003_.png\n",
      "https://replicate.delivery/xezq/8f52w1ShmdXFdaatU8w8jAgAtQy4vR44jToQESopGu3AJ18JA/ComfyUI_00004_.png\n",
      "https://replicate.delivery/xezq/efVdbEL3e3IlSIC1XmTReOdwzedvWRLLkMFMDvJTyLkoRSNfE/ComfyUI_00005_.png\n"
     ]
    }
   ],
   "source": [
    "fofr_images = []\n",
    "\n",
    "for item in output:\n",
    "    print(item)\n",
    "    fofr_images.append(item)\n"
   ]
  },
  {
   "cell_type": "code",
   "execution_count": 157,
   "metadata": {},
   "outputs": [
    {
     "name": "stdout",
     "output_type": "stream",
     "text": [
      "Image successfully downloaded: ComfyUI_00005_.png\n"
     ]
    }
   ],
   "source": [
    "import requests\n",
    "\n",
    "def download_image(url, save_path):\n",
    "    # Send a GET request to the URL\n",
    "    response = requests.get(url)\n",
    "    \n",
    "    # Check if the request was successful\n",
    "    if response.status_code == 200:\n",
    "        # Open a local file in binary write mode\n",
    "        with open(save_path, 'wb') as file:\n",
    "            # Write the content of the response to the file\n",
    "            file.write(response.content)\n",
    "        print(f\"Image successfully downloaded: {save_path}\")\n",
    "    else:\n",
    "        print(f\"Failed to download image. Status code: {response.status_code}\")\n",
    "\n",
    "# URL of the image\n",
    "image_url = \"https://replicate.delivery/xezq/efVdbEL3e3IlSIC1XmTReOdwzedvWRLLkMFMDvJTyLkoRSNfE/ComfyUI_00005_.png\"\n",
    "\n",
    "# Local path where the image will be saved\n",
    "save_path = \"ComfyUI_00005_.png\"\n",
    "\n",
    "# Download the image\n",
    "download_image(image_url, save_path)"
   ]
  },
  {
   "cell_type": "code",
   "execution_count": 151,
   "metadata": {},
   "outputs": [
    {
     "ename": "NameError",
     "evalue": "name 'fofr_images' is not defined",
     "output_type": "error",
     "traceback": [
      "\u001b[0;31m---------------------------------------------------------------------------\u001b[0m",
      "\u001b[0;31mNameError\u001b[0m                                 Traceback (most recent call last)",
      "Cell \u001b[0;32mIn[151], line 4\u001b[0m\n\u001b[1;32m      2\u001b[0m os\u001b[38;5;241m.\u001b[39mmakedirs(\u001b[38;5;124m\"\u001b[39m\u001b[38;5;124moutput/images/fofr/\u001b[39m\u001b[38;5;124m\"\u001b[39m, exist_ok\u001b[38;5;241m=\u001b[39m\u001b[38;5;28;01mTrue\u001b[39;00m)\n\u001b[1;32m      3\u001b[0m counter\u001b[38;5;241m=\u001b[39m\u001b[38;5;241m0\u001b[39m\n\u001b[0;32m----> 4\u001b[0m \u001b[38;5;28;01mfor\u001b[39;00m image \u001b[38;5;129;01min\u001b[39;00m \u001b[43mfofr_images\u001b[49m:\n\u001b[1;32m      5\u001b[0m     image_url \u001b[38;5;241m=\u001b[39m image\n\u001b[1;32m      6\u001b[0m     save_path \u001b[38;5;241m=\u001b[39m \u001b[38;5;124m\"\u001b[39m\u001b[38;5;124moutput/images/fofr/\u001b[39m\u001b[38;5;124m\"\u001b[39m \u001b[38;5;241m+\u001b[39m character_name \u001b[38;5;241m+\u001b[39m \u001b[38;5;124m\"\u001b[39m\u001b[38;5;124m_\u001b[39m\u001b[38;5;124m\"\u001b[39m \u001b[38;5;241m+\u001b[39m trigger_word \u001b[38;5;241m+\u001b[39m \u001b[38;5;124m\"\u001b[39m\u001b[38;5;124m_\u001b[39m\u001b[38;5;124m\"\u001b[39m \u001b[38;5;241m+\u001b[39m \u001b[38;5;28mstr\u001b[39m(counter) \u001b[38;5;241m+\u001b[39m \u001b[38;5;124m\"\u001b[39m\u001b[38;5;124m.png\u001b[39m\u001b[38;5;124m\"\u001b[39m\n",
      "\u001b[0;31mNameError\u001b[0m: name 'fofr_images' is not defined"
     ]
    }
   ],
   "source": [
    "#makedir output/images/fofr/\n",
    "os.makedirs(\"output/images/fofr/\", exist_ok=True)\n",
    "counter=0\n",
    "for image in fofr_images:\n",
    "    image_url = image\n",
    "    save_path = \"output/images/fofr/\" + character_name + \"_\" + trigger_word + \"_\" + str(counter) + \".png\"\n",
    "    counter += 1\n",
    "# Download the image\n",
    "download_image(image_url, save_path)\n",
    "#https://replicate.delivery/xezq/I0gdtvUxpvbqCpScofidiuxEaoF7cdU3JQ35BD8eBvihRq5TA/ComfyUI_00001_.png\n"
   ]
  },
  {
   "cell_type": "code",
   "execution_count": 147,
   "metadata": {},
   "outputs": [
    {
     "ename": "ReplicateError",
     "evalue": "ReplicateError Details:\nstatus: 403\ndetail: You do not have access to the specified training destination",
     "output_type": "error",
     "traceback": [
      "\u001b[0;31m---------------------------------------------------------------------------\u001b[0m",
      "\u001b[0;31mReplicateError\u001b[0m                            Traceback (most recent call last)",
      "Cell \u001b[0;32mIn[147], line 1\u001b[0m\n\u001b[0;32m----> 1\u001b[0m training \u001b[38;5;241m=\u001b[39m \u001b[43mreplicate\u001b[49m\u001b[38;5;241;43m.\u001b[39;49m\u001b[43mtrainings\u001b[49m\u001b[38;5;241;43m.\u001b[39;49m\u001b[43mcreate\u001b[49m\u001b[43m(\u001b[49m\n\u001b[1;32m      2\u001b[0m \u001b[43m  \u001b[49m\u001b[43mdestination\u001b[49m\u001b[38;5;241;43m=\u001b[39;49m\u001b[38;5;124;43m\"\u001b[39;49m\u001b[38;5;124;43mchengyongyeo/storylabs-flux-rapunzel\u001b[39;49m\u001b[38;5;124;43m\"\u001b[39;49m\u001b[43m,\u001b[49m\n\u001b[1;32m      3\u001b[0m \u001b[43m  \u001b[49m\u001b[43mversion\u001b[49m\u001b[38;5;241;43m=\u001b[39;49m\u001b[38;5;124;43m\"\u001b[39;49m\u001b[38;5;124;43mostris/flux-dev-lora-trainer:e440909d3512c31646ee2e0c7d6f6f4923224863a6a10c494606e79fb5844497\u001b[39;49m\u001b[38;5;124;43m\"\u001b[39;49m\u001b[43m,\u001b[49m\n\u001b[1;32m      4\u001b[0m \u001b[43m  \u001b[49m\u001b[38;5;28;43minput\u001b[39;49m\u001b[38;5;241;43m=\u001b[39;49m\u001b[43m{\u001b[49m\n\u001b[1;32m      5\u001b[0m \u001b[43m    \u001b[49m\u001b[38;5;124;43m\"\u001b[39;49m\u001b[38;5;124;43msteps\u001b[39;49m\u001b[38;5;124;43m\"\u001b[39;49m\u001b[43m:\u001b[49m\u001b[43m \u001b[49m\u001b[38;5;241;43m1000\u001b[39;49m\u001b[43m,\u001b[49m\n\u001b[1;32m      6\u001b[0m \u001b[43m    \u001b[49m\u001b[38;5;124;43m\"\u001b[39;49m\u001b[38;5;124;43mlora_rank\u001b[39;49m\u001b[38;5;124;43m\"\u001b[39;49m\u001b[43m:\u001b[49m\u001b[43m \u001b[49m\u001b[38;5;241;43m16\u001b[39;49m\u001b[43m,\u001b[49m\n\u001b[1;32m      7\u001b[0m \u001b[43m    \u001b[49m\u001b[38;5;124;43m\"\u001b[39;49m\u001b[38;5;124;43moptimizer\u001b[39;49m\u001b[38;5;124;43m\"\u001b[39;49m\u001b[43m:\u001b[49m\u001b[43m \u001b[49m\u001b[38;5;124;43m\"\u001b[39;49m\u001b[38;5;124;43madamw8bit\u001b[39;49m\u001b[38;5;124;43m\"\u001b[39;49m\u001b[43m,\u001b[49m\n\u001b[1;32m      8\u001b[0m \u001b[43m    \u001b[49m\u001b[38;5;124;43m\"\u001b[39;49m\u001b[38;5;124;43mbatch_size\u001b[39;49m\u001b[38;5;124;43m\"\u001b[39;49m\u001b[43m:\u001b[49m\u001b[43m \u001b[49m\u001b[38;5;241;43m1\u001b[39;49m\u001b[43m,\u001b[49m\n\u001b[1;32m      9\u001b[0m \u001b[43m    \u001b[49m\u001b[38;5;124;43m\"\u001b[39;49m\u001b[38;5;124;43mresolution\u001b[39;49m\u001b[38;5;124;43m\"\u001b[39;49m\u001b[43m:\u001b[49m\u001b[43m \u001b[49m\u001b[38;5;124;43m\"\u001b[39;49m\u001b[38;5;124;43m512,768,1024\u001b[39;49m\u001b[38;5;124;43m\"\u001b[39;49m\u001b[43m,\u001b[49m\n\u001b[1;32m     10\u001b[0m \u001b[43m    \u001b[49m\u001b[38;5;124;43m\"\u001b[39;49m\u001b[38;5;124;43mautocaption\u001b[39;49m\u001b[38;5;124;43m\"\u001b[39;49m\u001b[43m:\u001b[49m\u001b[43m \u001b[49m\u001b[38;5;28;43;01mTrue\u001b[39;49;00m\u001b[43m,\u001b[49m\n\u001b[1;32m     11\u001b[0m \u001b[43m    \u001b[49m\u001b[38;5;124;43m\"\u001b[39;49m\u001b[38;5;124;43minput_images\u001b[39;49m\u001b[38;5;124;43m\"\u001b[39;49m\u001b[43m:\u001b[49m\u001b[43m \u001b[49m\u001b[38;5;124;43m\"\u001b[39;49m\u001b[38;5;124;43moutput/images/TheWoman_3AGnA_2.png.zip\u001b[39;49m\u001b[38;5;124;43m\"\u001b[39;49m\u001b[43m,\u001b[49m\n\u001b[1;32m     12\u001b[0m \u001b[43m    \u001b[49m\u001b[38;5;124;43m\"\u001b[39;49m\u001b[38;5;124;43mtrigger_word\u001b[39;49m\u001b[38;5;124;43m\"\u001b[39;49m\u001b[43m:\u001b[49m\u001b[43m \u001b[49m\u001b[43mtrigger_word\u001b[49m\u001b[43m,\u001b[49m\n\u001b[1;32m     13\u001b[0m \u001b[43m    \u001b[49m\u001b[38;5;124;43m\"\u001b[39;49m\u001b[38;5;124;43mlearning_rate\u001b[39;49m\u001b[38;5;124;43m\"\u001b[39;49m\u001b[43m:\u001b[49m\u001b[43m \u001b[49m\u001b[38;5;241;43m0.0004\u001b[39;49m\u001b[43m,\u001b[49m\n\u001b[1;32m     14\u001b[0m \u001b[43m    \u001b[49m\u001b[38;5;124;43m\"\u001b[39;49m\u001b[38;5;124;43mwandb_project\u001b[39;49m\u001b[38;5;124;43m\"\u001b[39;49m\u001b[43m:\u001b[49m\u001b[43m \u001b[49m\u001b[38;5;124;43m\"\u001b[39;49m\u001b[38;5;124;43mflux_train_replicate\u001b[39;49m\u001b[38;5;124;43m\"\u001b[39;49m\u001b[43m,\u001b[49m\n\u001b[1;32m     15\u001b[0m \u001b[43m    \u001b[49m\u001b[38;5;124;43m\"\u001b[39;49m\u001b[38;5;124;43mwandb_save_interval\u001b[39;49m\u001b[38;5;124;43m\"\u001b[39;49m\u001b[43m:\u001b[49m\u001b[43m \u001b[49m\u001b[38;5;241;43m100\u001b[39;49m\u001b[43m,\u001b[49m\n\u001b[1;32m     16\u001b[0m \u001b[43m    \u001b[49m\u001b[38;5;124;43m\"\u001b[39;49m\u001b[38;5;124;43mcaption_dropout_rate\u001b[39;49m\u001b[38;5;124;43m\"\u001b[39;49m\u001b[43m:\u001b[49m\u001b[43m \u001b[49m\u001b[38;5;241;43m0.05\u001b[39;49m\u001b[43m,\u001b[49m\n\u001b[1;32m     17\u001b[0m \u001b[43m    \u001b[49m\u001b[38;5;124;43m\"\u001b[39;49m\u001b[38;5;124;43mcache_latents_to_disk\u001b[39;49m\u001b[38;5;124;43m\"\u001b[39;49m\u001b[43m:\u001b[49m\u001b[43m \u001b[49m\u001b[38;5;28;43;01mFalse\u001b[39;49;00m\u001b[43m,\u001b[49m\n\u001b[1;32m     18\u001b[0m \u001b[43m    \u001b[49m\u001b[38;5;124;43m\"\u001b[39;49m\u001b[38;5;124;43mwandb_sample_interval\u001b[39;49m\u001b[38;5;124;43m\"\u001b[39;49m\u001b[43m:\u001b[49m\u001b[43m \u001b[49m\u001b[38;5;241;43m100\u001b[39;49m\n\u001b[1;32m     19\u001b[0m \u001b[43m  \u001b[49m\u001b[43m}\u001b[49m\n\u001b[1;32m     20\u001b[0m \u001b[43m)\u001b[49m\n",
      "File \u001b[0;32m~/personal/storylabs/backend/.venv/lib/python3.12/site-packages/replicate/training.py:300\u001b[0m, in \u001b[0;36mTrainings.create\u001b[0;34m(self, model, version, input, *args, **params)\u001b[0m\n\u001b[1;32m    292\u001b[0m     \u001b[38;5;28minput\u001b[39m \u001b[38;5;241m=\u001b[39m encode_json(\n\u001b[1;32m    293\u001b[0m         \u001b[38;5;28minput\u001b[39m,\n\u001b[1;32m    294\u001b[0m         client\u001b[38;5;241m=\u001b[39m\u001b[38;5;28mself\u001b[39m\u001b[38;5;241m.\u001b[39m_client,\n\u001b[1;32m    295\u001b[0m         file_encoding_strategy\u001b[38;5;241m=\u001b[39mfile_encoding_strategy,\n\u001b[1;32m    296\u001b[0m     )\n\u001b[1;32m    298\u001b[0m body \u001b[38;5;241m=\u001b[39m _create_training_body(\u001b[38;5;28minput\u001b[39m, \u001b[38;5;241m*\u001b[39m\u001b[38;5;241m*\u001b[39mparams)\n\u001b[0;32m--> 300\u001b[0m resp \u001b[38;5;241m=\u001b[39m \u001b[38;5;28;43mself\u001b[39;49m\u001b[38;5;241;43m.\u001b[39;49m\u001b[43m_client\u001b[49m\u001b[38;5;241;43m.\u001b[39;49m\u001b[43m_request\u001b[49m\u001b[43m(\u001b[49m\n\u001b[1;32m    301\u001b[0m \u001b[43m    \u001b[49m\u001b[38;5;124;43m\"\u001b[39;49m\u001b[38;5;124;43mPOST\u001b[39;49m\u001b[38;5;124;43m\"\u001b[39;49m\u001b[43m,\u001b[49m\n\u001b[1;32m    302\u001b[0m \u001b[43m    \u001b[49m\u001b[43murl\u001b[49m\u001b[43m,\u001b[49m\n\u001b[1;32m    303\u001b[0m \u001b[43m    \u001b[49m\u001b[43mjson\u001b[49m\u001b[38;5;241;43m=\u001b[39;49m\u001b[43mbody\u001b[49m\u001b[43m,\u001b[49m\n\u001b[1;32m    304\u001b[0m \u001b[43m\u001b[49m\u001b[43m)\u001b[49m\n\u001b[1;32m    306\u001b[0m \u001b[38;5;28;01mreturn\u001b[39;00m _json_to_training(\u001b[38;5;28mself\u001b[39m\u001b[38;5;241m.\u001b[39m_client, resp\u001b[38;5;241m.\u001b[39mjson())\n",
      "File \u001b[0;32m~/personal/storylabs/backend/.venv/lib/python3.12/site-packages/replicate/client.py:89\u001b[0m, in \u001b[0;36mClient._request\u001b[0;34m(self, method, path, **kwargs)\u001b[0m\n\u001b[1;32m     87\u001b[0m \u001b[38;5;28;01mdef\u001b[39;00m \u001b[38;5;21m_request\u001b[39m(\u001b[38;5;28mself\u001b[39m, method: \u001b[38;5;28mstr\u001b[39m, path: \u001b[38;5;28mstr\u001b[39m, \u001b[38;5;241m*\u001b[39m\u001b[38;5;241m*\u001b[39mkwargs) \u001b[38;5;241m-\u001b[39m\u001b[38;5;241m>\u001b[39m httpx\u001b[38;5;241m.\u001b[39mResponse:\n\u001b[1;32m     88\u001b[0m     resp \u001b[38;5;241m=\u001b[39m \u001b[38;5;28mself\u001b[39m\u001b[38;5;241m.\u001b[39m_client\u001b[38;5;241m.\u001b[39mrequest(method, path, \u001b[38;5;241m*\u001b[39m\u001b[38;5;241m*\u001b[39mkwargs)\n\u001b[0;32m---> 89\u001b[0m     \u001b[43m_raise_for_status\u001b[49m\u001b[43m(\u001b[49m\u001b[43mresp\u001b[49m\u001b[43m)\u001b[49m\n\u001b[1;32m     91\u001b[0m     \u001b[38;5;28;01mreturn\u001b[39;00m resp\n",
      "File \u001b[0;32m~/personal/storylabs/backend/.venv/lib/python3.12/site-packages/replicate/client.py:393\u001b[0m, in \u001b[0;36m_raise_for_status\u001b[0;34m(resp)\u001b[0m\n\u001b[1;32m    391\u001b[0m \u001b[38;5;28;01mdef\u001b[39;00m \u001b[38;5;21m_raise_for_status\u001b[39m(resp: httpx\u001b[38;5;241m.\u001b[39mResponse) \u001b[38;5;241m-\u001b[39m\u001b[38;5;241m>\u001b[39m \u001b[38;5;28;01mNone\u001b[39;00m:\n\u001b[1;32m    392\u001b[0m     \u001b[38;5;28;01mif\u001b[39;00m \u001b[38;5;241m400\u001b[39m \u001b[38;5;241m<\u001b[39m\u001b[38;5;241m=\u001b[39m resp\u001b[38;5;241m.\u001b[39mstatus_code \u001b[38;5;241m<\u001b[39m \u001b[38;5;241m600\u001b[39m:\n\u001b[0;32m--> 393\u001b[0m         \u001b[38;5;28;01mraise\u001b[39;00m ReplicateError\u001b[38;5;241m.\u001b[39mfrom_response(resp)\n",
      "\u001b[0;31mReplicateError\u001b[0m: ReplicateError Details:\nstatus: 403\ndetail: You do not have access to the specified training destination"
     ]
    }
   ],
   "source": [
    "training = replicate.trainings.create(\n",
    "  destination=\"chengyongyeo/storylabs-flux-rapunzel\",\n",
    "  version=\"ostris/flux-dev-lora-trainer:e440909d3512c31646ee2e0c7d6f6f4923224863a6a10c494606e79fb5844497\",\n",
    "  input={\n",
    "    \"steps\": 1000,\n",
    "    \"lora_rank\": 16,\n",
    "    \"optimizer\": \"adamw8bit\",\n",
    "    \"batch_size\": 1,\n",
    "    \"resolution\": \"512,768,1024\",\n",
    "    \"autocaption\": True,\n",
    "    \"input_images\": \"output/images/TheWoman_3AGnA_2.png.zip\",\n",
    "    \"trigger_word\": trigger_word,\n",
    "    \"learning_rate\": 0.0004,\n",
    "    \"wandb_project\": \"flux_train_replicate\",\n",
    "    \"wandb_save_interval\": 100,\n",
    "    \"caption_dropout_rate\": 0.05,\n",
    "    \"cache_latents_to_disk\": False,\n",
    "    \"wandb_sample_interval\": 100\n",
    "  }\n",
    ")"
   ]
  },
  {
   "cell_type": "code",
   "execution_count": 102,
   "metadata": {},
   "outputs": [
    {
     "name": "stdout",
     "output_type": "stream",
     "text": [
      "Using version \u001b[39;1m^4.10.0.84\u001b[39;22m for \u001b[36mopencv-python\u001b[39m\n",
      "\n",
      "\u001b[34mUpdating dependencies\u001b[39m\n",
      "\u001b[2K\u001b[34mResolving dependencies...\u001b[39m \u001b[39;2m(1.6s)\u001b[39;22m\n",
      "\n",
      "\u001b[39;1mPackage operations\u001b[39;22m: \u001b[34m2\u001b[39m installs, \u001b[34m0\u001b[39m updates, \u001b[34m0\u001b[39m removals\n",
      "\n",
      "  \u001b[34;1m-\u001b[39;22m \u001b[39mInstalling \u001b[39m\u001b[36mnumpy\u001b[39m\u001b[39m (\u001b[39m\u001b[39;1m2.2.0\u001b[39;22m\u001b[39m)\u001b[39m: \u001b[34mPending...\u001b[39m\n",
      "\u001b[1A\u001b[0J  \u001b[34;1m-\u001b[39;22m \u001b[39mInstalling \u001b[39m\u001b[36mnumpy\u001b[39m\u001b[39m (\u001b[39m\u001b[39;1m2.2.0\u001b[39;22m\u001b[39m)\u001b[39m: \u001b[34mDownloading...\u001b[39m \u001b[39;1m0%\u001b[39;22m\n",
      "\u001b[1A\u001b[0J  \u001b[34;1m-\u001b[39;22m \u001b[39mInstalling \u001b[39m\u001b[36mnumpy\u001b[39m\u001b[39m (\u001b[39m\u001b[39;1m2.2.0\u001b[39;22m\u001b[39m)\u001b[39m: \u001b[34mDownloading...\u001b[39m \u001b[39;1m10%\u001b[39;22m\n",
      "\u001b[1A\u001b[0J  \u001b[34;1m-\u001b[39;22m \u001b[39mInstalling \u001b[39m\u001b[36mnumpy\u001b[39m\u001b[39m (\u001b[39m\u001b[39;1m2.2.0\u001b[39;22m\u001b[39m)\u001b[39m: \u001b[34mDownloading...\u001b[39m \u001b[39;1m20%\u001b[39;22m\n",
      "\u001b[1A\u001b[0J  \u001b[34;1m-\u001b[39;22m \u001b[39mInstalling \u001b[39m\u001b[36mnumpy\u001b[39m\u001b[39m (\u001b[39m\u001b[39;1m2.2.0\u001b[39;22m\u001b[39m)\u001b[39m: \u001b[34mDownloading...\u001b[39m \u001b[39;1m30%\u001b[39;22m\n",
      "\u001b[1A\u001b[0J  \u001b[34;1m-\u001b[39;22m \u001b[39mInstalling \u001b[39m\u001b[36mnumpy\u001b[39m\u001b[39m (\u001b[39m\u001b[39;1m2.2.0\u001b[39;22m\u001b[39m)\u001b[39m: \u001b[34mDownloading...\u001b[39m \u001b[39;1m40%\u001b[39;22m\n",
      "\u001b[1A\u001b[0J  \u001b[34;1m-\u001b[39;22m \u001b[39mInstalling \u001b[39m\u001b[36mnumpy\u001b[39m\u001b[39m (\u001b[39m\u001b[39;1m2.2.0\u001b[39;22m\u001b[39m)\u001b[39m: \u001b[34mDownloading...\u001b[39m \u001b[39;1m50%\u001b[39;22m\n",
      "\u001b[1A\u001b[0J  \u001b[34;1m-\u001b[39;22m \u001b[39mInstalling \u001b[39m\u001b[36mnumpy\u001b[39m\u001b[39m (\u001b[39m\u001b[39;1m2.2.0\u001b[39;22m\u001b[39m)\u001b[39m: \u001b[34mDownloading...\u001b[39m \u001b[39;1m60%\u001b[39;22m\n",
      "\u001b[1A\u001b[0J  \u001b[34;1m-\u001b[39;22m \u001b[39mInstalling \u001b[39m\u001b[36mnumpy\u001b[39m\u001b[39m (\u001b[39m\u001b[39;1m2.2.0\u001b[39;22m\u001b[39m)\u001b[39m: \u001b[34mDownloading...\u001b[39m \u001b[39;1m70%\u001b[39;22m\n",
      "\u001b[1A\u001b[0J  \u001b[34;1m-\u001b[39;22m \u001b[39mInstalling \u001b[39m\u001b[36mnumpy\u001b[39m\u001b[39m (\u001b[39m\u001b[39;1m2.2.0\u001b[39;22m\u001b[39m)\u001b[39m: \u001b[34mDownloading...\u001b[39m \u001b[39;1m80%\u001b[39;22m\n",
      "\u001b[1A\u001b[0J  \u001b[34;1m-\u001b[39;22m \u001b[39mInstalling \u001b[39m\u001b[36mnumpy\u001b[39m\u001b[39m (\u001b[39m\u001b[39;1m2.2.0\u001b[39;22m\u001b[39m)\u001b[39m: \u001b[34mDownloading...\u001b[39m \u001b[39;1m90%\u001b[39;22m\n",
      "\u001b[1A\u001b[0J  \u001b[34;1m-\u001b[39;22m \u001b[39mInstalling \u001b[39m\u001b[36mnumpy\u001b[39m\u001b[39m (\u001b[39m\u001b[39;1m2.2.0\u001b[39;22m\u001b[39m)\u001b[39m: \u001b[34mDownloading...\u001b[39m \u001b[39;1m100%\u001b[39;22m\n",
      "\u001b[1A\u001b[0J  \u001b[34;1m-\u001b[39;22m \u001b[39mInstalling \u001b[39m\u001b[36mnumpy\u001b[39m\u001b[39m (\u001b[39m\u001b[39;1m2.2.0\u001b[39;22m\u001b[39m)\u001b[39m: \u001b[34mInstalling...\u001b[39m\n",
      "\u001b[1A\u001b[0J  \u001b[32;1m-\u001b[39;22m \u001b[39mInstalling \u001b[39m\u001b[36mnumpy\u001b[39m\u001b[39m (\u001b[39m\u001b[32m2.2.0\u001b[39m\u001b[39m)\u001b[39m\n",
      "  \u001b[34;1m-\u001b[39;22m \u001b[39mInstalling \u001b[39m\u001b[36mopencv-python\u001b[39m\u001b[39m (\u001b[39m\u001b[39;1m4.10.0.84\u001b[39;22m\u001b[39m)\u001b[39m: \u001b[34mPending...\u001b[39m\n",
      "\u001b[1A\u001b[0J  \u001b[34;1m-\u001b[39;22m \u001b[39mInstalling \u001b[39m\u001b[36mopencv-python\u001b[39m\u001b[39m (\u001b[39m\u001b[39;1m4.10.0.84\u001b[39;22m\u001b[39m)\u001b[39m: \u001b[34mDownloading...\u001b[39m \u001b[39;1m0%\u001b[39;22m\n",
      "\u001b[1A\u001b[0J  \u001b[34;1m-\u001b[39;22m \u001b[39mInstalling \u001b[39m\u001b[36mopencv-python\u001b[39m\u001b[39m (\u001b[39m\u001b[39;1m4.10.0.84\u001b[39;22m\u001b[39m)\u001b[39m: \u001b[34mDownloading...\u001b[39m \u001b[39;1m5%\u001b[39;22m\n",
      "\u001b[1A\u001b[0J  \u001b[34;1m-\u001b[39;22m \u001b[39mInstalling \u001b[39m\u001b[36mopencv-python\u001b[39m\u001b[39m (\u001b[39m\u001b[39;1m4.10.0.84\u001b[39;22m\u001b[39m)\u001b[39m: \u001b[34mDownloading...\u001b[39m \u001b[39;1m10%\u001b[39;22m\n",
      "\u001b[1A\u001b[0J  \u001b[34;1m-\u001b[39;22m \u001b[39mInstalling \u001b[39m\u001b[36mopencv-python\u001b[39m\u001b[39m (\u001b[39m\u001b[39;1m4.10.0.84\u001b[39;22m\u001b[39m)\u001b[39m: \u001b[34mDownloading...\u001b[39m \u001b[39;1m15%\u001b[39;22m\n",
      "\u001b[1A\u001b[0J  \u001b[34;1m-\u001b[39;22m \u001b[39mInstalling \u001b[39m\u001b[36mopencv-python\u001b[39m\u001b[39m (\u001b[39m\u001b[39;1m4.10.0.84\u001b[39;22m\u001b[39m)\u001b[39m: \u001b[34mDownloading...\u001b[39m \u001b[39;1m20%\u001b[39;22m\n",
      "\u001b[1A\u001b[0J  \u001b[34;1m-\u001b[39;22m \u001b[39mInstalling \u001b[39m\u001b[36mopencv-python\u001b[39m\u001b[39m (\u001b[39m\u001b[39;1m4.10.0.84\u001b[39;22m\u001b[39m)\u001b[39m: \u001b[34mDownloading...\u001b[39m \u001b[39;1m26%\u001b[39;22m\n",
      "\u001b[1A\u001b[0J  \u001b[34;1m-\u001b[39;22m \u001b[39mInstalling \u001b[39m\u001b[36mopencv-python\u001b[39m\u001b[39m (\u001b[39m\u001b[39;1m4.10.0.84\u001b[39;22m\u001b[39m)\u001b[39m: \u001b[34mDownloading...\u001b[39m \u001b[39;1m30%\u001b[39;22m\n",
      "\u001b[1A\u001b[0J  \u001b[34;1m-\u001b[39;22m \u001b[39mInstalling \u001b[39m\u001b[36mopencv-python\u001b[39m\u001b[39m (\u001b[39m\u001b[39;1m4.10.0.84\u001b[39;22m\u001b[39m)\u001b[39m: \u001b[34mDownloading...\u001b[39m \u001b[39;1m36%\u001b[39;22m\n",
      "\u001b[1A\u001b[0J  \u001b[34;1m-\u001b[39;22m \u001b[39mInstalling \u001b[39m\u001b[36mopencv-python\u001b[39m\u001b[39m (\u001b[39m\u001b[39;1m4.10.0.84\u001b[39;22m\u001b[39m)\u001b[39m: \u001b[34mDownloading...\u001b[39m \u001b[39;1m40%\u001b[39;22m\n",
      "\u001b[1A\u001b[0J  \u001b[34;1m-\u001b[39;22m \u001b[39mInstalling \u001b[39m\u001b[36mopencv-python\u001b[39m\u001b[39m (\u001b[39m\u001b[39;1m4.10.0.84\u001b[39;22m\u001b[39m)\u001b[39m: \u001b[34mDownloading...\u001b[39m \u001b[39;1m44%\u001b[39;22m\n",
      "\u001b[1A\u001b[0J  \u001b[34;1m-\u001b[39;22m \u001b[39mInstalling \u001b[39m\u001b[36mopencv-python\u001b[39m\u001b[39m (\u001b[39m\u001b[39;1m4.10.0.84\u001b[39;22m\u001b[39m)\u001b[39m: \u001b[34mDownloading...\u001b[39m \u001b[39;1m50%\u001b[39;22m\n",
      "\u001b[1A\u001b[0J  \u001b[34;1m-\u001b[39;22m \u001b[39mInstalling \u001b[39m\u001b[36mopencv-python\u001b[39m\u001b[39m (\u001b[39m\u001b[39;1m4.10.0.84\u001b[39;22m\u001b[39m)\u001b[39m: \u001b[34mDownloading...\u001b[39m \u001b[39;1m56%\u001b[39;22m\n",
      "\u001b[1A\u001b[0J  \u001b[34;1m-\u001b[39;22m \u001b[39mInstalling \u001b[39m\u001b[36mopencv-python\u001b[39m\u001b[39m (\u001b[39m\u001b[39;1m4.10.0.84\u001b[39;22m\u001b[39m)\u001b[39m: \u001b[34mDownloading...\u001b[39m \u001b[39;1m60%\u001b[39;22m\n",
      "\u001b[1A\u001b[0J  \u001b[34;1m-\u001b[39;22m \u001b[39mInstalling \u001b[39m\u001b[36mopencv-python\u001b[39m\u001b[39m (\u001b[39m\u001b[39;1m4.10.0.84\u001b[39;22m\u001b[39m)\u001b[39m: \u001b[34mDownloading...\u001b[39m \u001b[39;1m66%\u001b[39;22m\n",
      "\u001b[1A\u001b[0J  \u001b[34;1m-\u001b[39;22m \u001b[39mInstalling \u001b[39m\u001b[36mopencv-python\u001b[39m\u001b[39m (\u001b[39m\u001b[39;1m4.10.0.84\u001b[39;22m\u001b[39m)\u001b[39m: \u001b[34mDownloading...\u001b[39m \u001b[39;1m70%\u001b[39;22m\n",
      "\u001b[1A\u001b[0J  \u001b[34;1m-\u001b[39;22m \u001b[39mInstalling \u001b[39m\u001b[36mopencv-python\u001b[39m\u001b[39m (\u001b[39m\u001b[39;1m4.10.0.84\u001b[39;22m\u001b[39m)\u001b[39m: \u001b[34mDownloading...\u001b[39m \u001b[39;1m76%\u001b[39;22m\n",
      "\u001b[1A\u001b[0J  \u001b[34;1m-\u001b[39;22m \u001b[39mInstalling \u001b[39m\u001b[36mopencv-python\u001b[39m\u001b[39m (\u001b[39m\u001b[39;1m4.10.0.84\u001b[39;22m\u001b[39m)\u001b[39m: \u001b[34mDownloading...\u001b[39m \u001b[39;1m80%\u001b[39;22m\n",
      "\u001b[1A\u001b[0J  \u001b[34;1m-\u001b[39;22m \u001b[39mInstalling \u001b[39m\u001b[36mopencv-python\u001b[39m\u001b[39m (\u001b[39m\u001b[39;1m4.10.0.84\u001b[39;22m\u001b[39m)\u001b[39m: \u001b[34mDownloading...\u001b[39m \u001b[39;1m88%\u001b[39;22m\n",
      "\u001b[1A\u001b[0J  \u001b[34;1m-\u001b[39;22m \u001b[39mInstalling \u001b[39m\u001b[36mopencv-python\u001b[39m\u001b[39m (\u001b[39m\u001b[39;1m4.10.0.84\u001b[39;22m\u001b[39m)\u001b[39m: \u001b[34mDownloading...\u001b[39m \u001b[39;1m90%\u001b[39;22m\n",
      "\u001b[1A\u001b[0J  \u001b[34;1m-\u001b[39;22m \u001b[39mInstalling \u001b[39m\u001b[36mopencv-python\u001b[39m\u001b[39m (\u001b[39m\u001b[39;1m4.10.0.84\u001b[39;22m\u001b[39m)\u001b[39m: \u001b[34mDownloading...\u001b[39m \u001b[39;1m100%\u001b[39;22m\n",
      "\u001b[1A\u001b[0J  \u001b[34;1m-\u001b[39;22m \u001b[39mInstalling \u001b[39m\u001b[36mopencv-python\u001b[39m\u001b[39m (\u001b[39m\u001b[39;1m4.10.0.84\u001b[39;22m\u001b[39m)\u001b[39m: \u001b[34mInstalling...\u001b[39m\n",
      "\u001b[1A\u001b[0J  \u001b[32;1m-\u001b[39;22m \u001b[39mInstalling \u001b[39m\u001b[36mopencv-python\u001b[39m\u001b[39m (\u001b[39m\u001b[32m4.10.0.84\u001b[39m\u001b[39m)\u001b[39m\n",
      "\n",
      "\u001b[34mWriting lock file\u001b[39m\n"
     ]
    }
   ],
   "source": [
    "!poetry add opencv-python"
   ]
  },
  {
   "cell_type": "code",
   "execution_count": 103,
   "metadata": {},
   "outputs": [
    {
     "name": "stderr",
     "output_type": "stream",
     "text": [
      "[ WARN:0@0.027] global loadsave.cpp:241 findDecoder imread_('path/to/character_sheet.png'): can't open/read file: check file path/integrity\n"
     ]
    },
    {
     "ename": "error",
     "evalue": "OpenCV(4.10.0) /Users/runner/work/opencv-python/opencv-python/opencv/modules/dnn/src/darknet/darknet_importer.cpp:210: error: (-212:Parsing error) Failed to open NetParameter file: yolov3.cfg in function 'readNetFromDarknet'\n",
     "output_type": "error",
     "traceback": [
      "\u001b[0;31m---------------------------------------------------------------------------\u001b[0m",
      "\u001b[0;31merror\u001b[0m                                     Traceback (most recent call last)",
      "Cell \u001b[0;32mIn[103], line 60\u001b[0m\n\u001b[1;32m     57\u001b[0m output_folder \u001b[38;5;241m=\u001b[39m \u001b[38;5;124m\"\u001b[39m\u001b[38;5;124moutput/objects\u001b[39m\u001b[38;5;124m\"\u001b[39m\n\u001b[1;32m     58\u001b[0m image \u001b[38;5;241m=\u001b[39m cv2\u001b[38;5;241m.\u001b[39mimread(image_path)\n\u001b[0;32m---> 60\u001b[0m net, output_layers \u001b[38;5;241m=\u001b[39m \u001b[43mload_yolo_model\u001b[49m\u001b[43m(\u001b[49m\u001b[43m)\u001b[49m\n\u001b[1;32m     61\u001b[0m detections \u001b[38;5;241m=\u001b[39m detect_objects(image, net, output_layers)\n\u001b[1;32m     62\u001b[0m save_cropped_objects(image, detections, output_folder)\n",
      "Cell \u001b[0;32mIn[103], line 7\u001b[0m, in \u001b[0;36mload_yolo_model\u001b[0;34m()\u001b[0m\n\u001b[1;32m      5\u001b[0m \u001b[38;5;28;01mdef\u001b[39;00m \u001b[38;5;21mload_yolo_model\u001b[39m():\n\u001b[1;32m      6\u001b[0m     \u001b[38;5;66;03m# Load YOLO model\u001b[39;00m\n\u001b[0;32m----> 7\u001b[0m     net \u001b[38;5;241m=\u001b[39m \u001b[43mcv2\u001b[49m\u001b[38;5;241;43m.\u001b[39;49m\u001b[43mdnn\u001b[49m\u001b[38;5;241;43m.\u001b[39;49m\u001b[43mreadNet\u001b[49m\u001b[43m(\u001b[49m\u001b[38;5;124;43m\"\u001b[39;49m\u001b[38;5;124;43myolov3.weights\u001b[39;49m\u001b[38;5;124;43m\"\u001b[39;49m\u001b[43m,\u001b[49m\u001b[43m \u001b[49m\u001b[38;5;124;43m\"\u001b[39;49m\u001b[38;5;124;43myolov3.cfg\u001b[39;49m\u001b[38;5;124;43m\"\u001b[39;49m\u001b[43m)\u001b[49m\n\u001b[1;32m      8\u001b[0m     layer_names \u001b[38;5;241m=\u001b[39m net\u001b[38;5;241m.\u001b[39mgetLayerNames()\n\u001b[1;32m      9\u001b[0m     output_layers \u001b[38;5;241m=\u001b[39m [layer_names[i[\u001b[38;5;241m0\u001b[39m] \u001b[38;5;241m-\u001b[39m \u001b[38;5;241m1\u001b[39m] \u001b[38;5;28;01mfor\u001b[39;00m i \u001b[38;5;129;01min\u001b[39;00m net\u001b[38;5;241m.\u001b[39mgetUnconnectedOutLayers()]\n",
      "\u001b[0;31merror\u001b[0m: OpenCV(4.10.0) /Users/runner/work/opencv-python/opencv-python/opencv/modules/dnn/src/darknet/darknet_importer.cpp:210: error: (-212:Parsing error) Failed to open NetParameter file: yolov3.cfg in function 'readNetFromDarknet'\n"
     ]
    }
   ],
   "source": [
    "import cv2\n",
    "import numpy as np\n",
    "import os\n",
    "\n",
    "def load_yolo_model():\n",
    "    # Load YOLO model\n",
    "    net = cv2.dnn.readNet(\"yolov3.weights\", \"yolov3.cfg\")\n",
    "    layer_names = net.getLayerNames()\n",
    "    output_layers = [layer_names[i[0] - 1] for i in net.getUnconnectedOutLayers()]\n",
    "    return net, output_layers\n",
    "\n",
    "def detect_objects(image, net, output_layers):\n",
    "    height, width, channels = image.shape\n",
    "    # Create a blob and perform a forward pass\n",
    "    blob = cv2.dnn.blobFromImage(image, 0.00392, (416, 416), (0, 0, 0), True, crop=False)\n",
    "    net.setInput(blob)\n",
    "    outs = net.forward(output_layers)\n",
    "    \n",
    "    # Initialize lists for detected bounding boxes, confidences, and class IDs\n",
    "    boxes = []\n",
    "    confidences = []\n",
    "    class_ids = []\n",
    "\n",
    "    # Iterate over each detection\n",
    "    for out in outs:\n",
    "        for detection in out:\n",
    "            scores = detection[5:]\n",
    "            class_id = np.argmax(scores)\n",
    "            confidence = scores[class_id]\n",
    "            if confidence > 0.5:  # Confidence threshold\n",
    "                # Object detected\n",
    "                center_x = int(detection[0] * width)\n",
    "                center_y = int(detection[1] * height)\n",
    "                w = int(detection[2] * width)\n",
    "                h = int(detection[3] * height)\n",
    "                # Rectangle coordinates\n",
    "                x = int(center_x - w / 2)\n",
    "                y = int(center_y - h / 2)\n",
    "                boxes.append([x, y, w, h])\n",
    "                confidences.append(float(confidence))\n",
    "                class_ids.append(class_id)\n",
    "\n",
    "    # Apply non-max suppression to remove overlapping boxes\n",
    "    indices = cv2.dnn.NMSBoxes(boxes, confidences, 0.5, 0.4)\n",
    "    return [(boxes[i], confidences[i], class_ids[i]) for i in indices.flatten()]\n",
    "\n",
    "def save_cropped_objects(image, detections, output_folder):\n",
    "    os.makedirs(output_folder, exist_ok=True)\n",
    "    for i, (box, confidence, class_id) in enumerate(detections):\n",
    "        x, y, w, h = box\n",
    "        crop_img = image[y:y+h, x:x+w]\n",
    "        cv2.imwrite(f\"{output_folder}/object_{i}.png\", crop_img)\n",
    "        print(f\"Saved {output_folder}/object_{i}.png\")\n",
    "\n",
    "# Example usage\n",
    "image_path = \"path/to/character_sheet.png\"\n",
    "output_folder = \"output/objects\"\n",
    "image = cv2.imread(image_path)\n",
    "\n",
    "net, output_layers = load_yolo_model()\n",
    "detections = detect_objects(image, net, output_layers)\n",
    "save_cropped_objects(image, detections, output_folder)"
   ]
  },
  {
   "cell_type": "code",
   "execution_count": null,
   "metadata": {},
   "outputs": [],
   "source": []
  }
 ],
 "metadata": {
  "kernelspec": {
   "display_name": "Python 3 (ipykernel)",
   "language": "python",
   "name": "python3"
  }
 },
 "nbformat": 4,
 "nbformat_minor": 2
}
